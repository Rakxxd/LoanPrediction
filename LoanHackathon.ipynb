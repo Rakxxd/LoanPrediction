{
  "nbformat": 4,
  "nbformat_minor": 0,
  "metadata": {
    "colab": {
      "name": "LoanHackathon.ipynb",
      "provenance": [],
      "collapsed_sections": [
        "WHF8mRHmGgrU",
        "x-iWhdAeGj_y",
        "H_wVCI6jG0wQ",
        "VrxUbQIKE-Uw",
        "EQxUtQaKDxKu",
        "ttR5COkpDpgg"
      ],
      "toc_visible": true,
      "authorship_tag": "ABX9TyPJPq4yvIg3rOBELqJuGBJG",
      "include_colab_link": true
    },
    "kernelspec": {
      "name": "python3",
      "display_name": "Python 3"
    },
    "language_info": {
      "name": "python"
    }
  },
  "cells": [
    {
      "cell_type": "markdown",
      "metadata": {
        "id": "view-in-github",
        "colab_type": "text"
      },
      "source": [
        "<a href=\"https://colab.research.google.com/github/Rakxxd/LoanPrediction/blob/main/LoanHackathon.ipynb\" target=\"_parent\"><img src=\"https://colab.research.google.com/assets/colab-badge.svg\" alt=\"Open In Colab\"/></a>"
      ]
    },
    {
      "cell_type": "markdown",
      "metadata": {
        "id": "Na0vBfQM1rPM"
      },
      "source": [
        "### This notebook contains information about how we can handle imbalanced dataset, also contains hyperparameter tuning for 2 of the most famous kaggle winnng algorithms XGBoost and LightGBM. \n",
        "### This notebook also covers how stacking can be used with these 2 models. This can be a good learning curve for anyone who wants to get high accuracy on datasets.\n",
        "### The data used for this notebook is Loan Prediciton dataset picked from Analytics Vidhya Hackathon."
      ]
    },
    {
      "cell_type": "markdown",
      "metadata": {
        "id": "HQ_j_hPs2JVj"
      },
      "source": [
        "# Importing Required Libraries"
      ]
    },
    {
      "cell_type": "code",
      "metadata": {
        "id": "6ONyAGzkzqmu"
      },
      "source": [
        "import pandas as pd\n",
        "import numpy as np\n",
        "import matplotlib.pyplot as plt\n",
        "import seaborn as sns\n",
        "from pandas_profiling import ProfileReport\n",
        "from sklearn.model_selection import train_test_split, RepeatedKFold, cross_val_score, KFold\n",
        "from lightgbm import LGBMClassifier\n",
        "from xgboost import XGBClassifier\n",
        "from sklearn.ensemble import StackingClassifier"
      ],
      "execution_count": 2,
      "outputs": []
    },
    {
      "cell_type": "markdown",
      "metadata": {
        "id": "WHF8mRHmGgrU"
      },
      "source": [
        "# EDA and Dta Cleaning"
      ]
    },
    {
      "cell_type": "code",
      "metadata": {
        "id": "o6pthZJs6Vcf"
      },
      "source": [
        "df_train = pd.read_csv('/content/train_ctrUa4K.csv')\n",
        "df_test = pd.read_csv('/content/test_lAUu6dG.csv')"
      ],
      "execution_count": 5,
      "outputs": []
    },
    {
      "cell_type": "code",
      "metadata": {
        "colab": {
          "base_uri": "https://localhost:8080/",
          "height": 0
        },
        "id": "pnECxs6K6lLu",
        "outputId": "4164e6a9-7d03-4a5d-a778-0097264c0024"
      },
      "source": [
        "df_train"
      ],
      "execution_count": 6,
      "outputs": [
        {
          "output_type": "execute_result",
          "data": {
            "text/html": [
              "<div>\n",
              "<style scoped>\n",
              "    .dataframe tbody tr th:only-of-type {\n",
              "        vertical-align: middle;\n",
              "    }\n",
              "\n",
              "    .dataframe tbody tr th {\n",
              "        vertical-align: top;\n",
              "    }\n",
              "\n",
              "    .dataframe thead th {\n",
              "        text-align: right;\n",
              "    }\n",
              "</style>\n",
              "<table border=\"1\" class=\"dataframe\">\n",
              "  <thead>\n",
              "    <tr style=\"text-align: right;\">\n",
              "      <th></th>\n",
              "      <th>Loan_ID</th>\n",
              "      <th>Gender</th>\n",
              "      <th>Married</th>\n",
              "      <th>Dependents</th>\n",
              "      <th>Education</th>\n",
              "      <th>Self_Employed</th>\n",
              "      <th>ApplicantIncome</th>\n",
              "      <th>CoapplicantIncome</th>\n",
              "      <th>LoanAmount</th>\n",
              "      <th>Loan_Amount_Term</th>\n",
              "      <th>Credit_History</th>\n",
              "      <th>Property_Area</th>\n",
              "      <th>Loan_Status</th>\n",
              "    </tr>\n",
              "  </thead>\n",
              "  <tbody>\n",
              "    <tr>\n",
              "      <th>0</th>\n",
              "      <td>LP001002</td>\n",
              "      <td>Male</td>\n",
              "      <td>No</td>\n",
              "      <td>0</td>\n",
              "      <td>Graduate</td>\n",
              "      <td>No</td>\n",
              "      <td>5849</td>\n",
              "      <td>0.0</td>\n",
              "      <td>NaN</td>\n",
              "      <td>360.0</td>\n",
              "      <td>1.0</td>\n",
              "      <td>Urban</td>\n",
              "      <td>Y</td>\n",
              "    </tr>\n",
              "    <tr>\n",
              "      <th>1</th>\n",
              "      <td>LP001003</td>\n",
              "      <td>Male</td>\n",
              "      <td>Yes</td>\n",
              "      <td>1</td>\n",
              "      <td>Graduate</td>\n",
              "      <td>No</td>\n",
              "      <td>4583</td>\n",
              "      <td>1508.0</td>\n",
              "      <td>128.0</td>\n",
              "      <td>360.0</td>\n",
              "      <td>1.0</td>\n",
              "      <td>Rural</td>\n",
              "      <td>N</td>\n",
              "    </tr>\n",
              "    <tr>\n",
              "      <th>2</th>\n",
              "      <td>LP001005</td>\n",
              "      <td>Male</td>\n",
              "      <td>Yes</td>\n",
              "      <td>0</td>\n",
              "      <td>Graduate</td>\n",
              "      <td>Yes</td>\n",
              "      <td>3000</td>\n",
              "      <td>0.0</td>\n",
              "      <td>66.0</td>\n",
              "      <td>360.0</td>\n",
              "      <td>1.0</td>\n",
              "      <td>Urban</td>\n",
              "      <td>Y</td>\n",
              "    </tr>\n",
              "    <tr>\n",
              "      <th>3</th>\n",
              "      <td>LP001006</td>\n",
              "      <td>Male</td>\n",
              "      <td>Yes</td>\n",
              "      <td>0</td>\n",
              "      <td>Not Graduate</td>\n",
              "      <td>No</td>\n",
              "      <td>2583</td>\n",
              "      <td>2358.0</td>\n",
              "      <td>120.0</td>\n",
              "      <td>360.0</td>\n",
              "      <td>1.0</td>\n",
              "      <td>Urban</td>\n",
              "      <td>Y</td>\n",
              "    </tr>\n",
              "    <tr>\n",
              "      <th>4</th>\n",
              "      <td>LP001008</td>\n",
              "      <td>Male</td>\n",
              "      <td>No</td>\n",
              "      <td>0</td>\n",
              "      <td>Graduate</td>\n",
              "      <td>No</td>\n",
              "      <td>6000</td>\n",
              "      <td>0.0</td>\n",
              "      <td>141.0</td>\n",
              "      <td>360.0</td>\n",
              "      <td>1.0</td>\n",
              "      <td>Urban</td>\n",
              "      <td>Y</td>\n",
              "    </tr>\n",
              "    <tr>\n",
              "      <th>...</th>\n",
              "      <td>...</td>\n",
              "      <td>...</td>\n",
              "      <td>...</td>\n",
              "      <td>...</td>\n",
              "      <td>...</td>\n",
              "      <td>...</td>\n",
              "      <td>...</td>\n",
              "      <td>...</td>\n",
              "      <td>...</td>\n",
              "      <td>...</td>\n",
              "      <td>...</td>\n",
              "      <td>...</td>\n",
              "      <td>...</td>\n",
              "    </tr>\n",
              "    <tr>\n",
              "      <th>609</th>\n",
              "      <td>LP002978</td>\n",
              "      <td>Female</td>\n",
              "      <td>No</td>\n",
              "      <td>0</td>\n",
              "      <td>Graduate</td>\n",
              "      <td>No</td>\n",
              "      <td>2900</td>\n",
              "      <td>0.0</td>\n",
              "      <td>71.0</td>\n",
              "      <td>360.0</td>\n",
              "      <td>1.0</td>\n",
              "      <td>Rural</td>\n",
              "      <td>Y</td>\n",
              "    </tr>\n",
              "    <tr>\n",
              "      <th>610</th>\n",
              "      <td>LP002979</td>\n",
              "      <td>Male</td>\n",
              "      <td>Yes</td>\n",
              "      <td>3+</td>\n",
              "      <td>Graduate</td>\n",
              "      <td>No</td>\n",
              "      <td>4106</td>\n",
              "      <td>0.0</td>\n",
              "      <td>40.0</td>\n",
              "      <td>180.0</td>\n",
              "      <td>1.0</td>\n",
              "      <td>Rural</td>\n",
              "      <td>Y</td>\n",
              "    </tr>\n",
              "    <tr>\n",
              "      <th>611</th>\n",
              "      <td>LP002983</td>\n",
              "      <td>Male</td>\n",
              "      <td>Yes</td>\n",
              "      <td>1</td>\n",
              "      <td>Graduate</td>\n",
              "      <td>No</td>\n",
              "      <td>8072</td>\n",
              "      <td>240.0</td>\n",
              "      <td>253.0</td>\n",
              "      <td>360.0</td>\n",
              "      <td>1.0</td>\n",
              "      <td>Urban</td>\n",
              "      <td>Y</td>\n",
              "    </tr>\n",
              "    <tr>\n",
              "      <th>612</th>\n",
              "      <td>LP002984</td>\n",
              "      <td>Male</td>\n",
              "      <td>Yes</td>\n",
              "      <td>2</td>\n",
              "      <td>Graduate</td>\n",
              "      <td>No</td>\n",
              "      <td>7583</td>\n",
              "      <td>0.0</td>\n",
              "      <td>187.0</td>\n",
              "      <td>360.0</td>\n",
              "      <td>1.0</td>\n",
              "      <td>Urban</td>\n",
              "      <td>Y</td>\n",
              "    </tr>\n",
              "    <tr>\n",
              "      <th>613</th>\n",
              "      <td>LP002990</td>\n",
              "      <td>Female</td>\n",
              "      <td>No</td>\n",
              "      <td>0</td>\n",
              "      <td>Graduate</td>\n",
              "      <td>Yes</td>\n",
              "      <td>4583</td>\n",
              "      <td>0.0</td>\n",
              "      <td>133.0</td>\n",
              "      <td>360.0</td>\n",
              "      <td>0.0</td>\n",
              "      <td>Semiurban</td>\n",
              "      <td>N</td>\n",
              "    </tr>\n",
              "  </tbody>\n",
              "</table>\n",
              "<p>614 rows × 13 columns</p>\n",
              "</div>"
            ],
            "text/plain": [
              "      Loan_ID  Gender Married  ... Credit_History Property_Area Loan_Status\n",
              "0    LP001002    Male      No  ...            1.0         Urban           Y\n",
              "1    LP001003    Male     Yes  ...            1.0         Rural           N\n",
              "2    LP001005    Male     Yes  ...            1.0         Urban           Y\n",
              "3    LP001006    Male     Yes  ...            1.0         Urban           Y\n",
              "4    LP001008    Male      No  ...            1.0         Urban           Y\n",
              "..        ...     ...     ...  ...            ...           ...         ...\n",
              "609  LP002978  Female      No  ...            1.0         Rural           Y\n",
              "610  LP002979    Male     Yes  ...            1.0         Rural           Y\n",
              "611  LP002983    Male     Yes  ...            1.0         Urban           Y\n",
              "612  LP002984    Male     Yes  ...            1.0         Urban           Y\n",
              "613  LP002990  Female      No  ...            0.0     Semiurban           N\n",
              "\n",
              "[614 rows x 13 columns]"
            ]
          },
          "metadata": {
            "tags": []
          },
          "execution_count": 6
        }
      ]
    },
    {
      "cell_type": "code",
      "metadata": {
        "colab": {
          "base_uri": "https://localhost:8080/"
        },
        "id": "NaMwg5HJ6mtu",
        "outputId": "3dfe23ee-bd70-4405-d7f2-00ff41c45fc0"
      },
      "source": [
        "df_train.info()"
      ],
      "execution_count": 7,
      "outputs": [
        {
          "output_type": "stream",
          "text": [
            "<class 'pandas.core.frame.DataFrame'>\n",
            "RangeIndex: 614 entries, 0 to 613\n",
            "Data columns (total 13 columns):\n",
            " #   Column             Non-Null Count  Dtype  \n",
            "---  ------             --------------  -----  \n",
            " 0   Loan_ID            614 non-null    object \n",
            " 1   Gender             601 non-null    object \n",
            " 2   Married            611 non-null    object \n",
            " 3   Dependents         599 non-null    object \n",
            " 4   Education          614 non-null    object \n",
            " 5   Self_Employed      582 non-null    object \n",
            " 6   ApplicantIncome    614 non-null    int64  \n",
            " 7   CoapplicantIncome  614 non-null    float64\n",
            " 8   LoanAmount         592 non-null    float64\n",
            " 9   Loan_Amount_Term   600 non-null    float64\n",
            " 10  Credit_History     564 non-null    float64\n",
            " 11  Property_Area      614 non-null    object \n",
            " 12  Loan_Status        614 non-null    object \n",
            "dtypes: float64(4), int64(1), object(8)\n",
            "memory usage: 62.5+ KB\n"
          ],
          "name": "stdout"
        }
      ]
    },
    {
      "cell_type": "code",
      "metadata": {
        "colab": {
          "base_uri": "https://localhost:8080/"
        },
        "id": "hu9n-i7J7HtF",
        "outputId": "113f621d-0edd-46ae-8414-ad2319b00cd6"
      },
      "source": [
        "df_train.isnull().sum()"
      ],
      "execution_count": 8,
      "outputs": [
        {
          "output_type": "execute_result",
          "data": {
            "text/plain": [
              "Loan_ID               0\n",
              "Gender               13\n",
              "Married               3\n",
              "Dependents           15\n",
              "Education             0\n",
              "Self_Employed        32\n",
              "ApplicantIncome       0\n",
              "CoapplicantIncome     0\n",
              "LoanAmount           22\n",
              "Loan_Amount_Term     14\n",
              "Credit_History       50\n",
              "Property_Area         0\n",
              "Loan_Status           0\n",
              "dtype: int64"
            ]
          },
          "metadata": {
            "tags": []
          },
          "execution_count": 8
        }
      ]
    },
    {
      "cell_type": "code",
      "metadata": {
        "colab": {
          "base_uri": "https://localhost:8080/"
        },
        "id": "9b73Ecyf8YCw",
        "outputId": "e112dded-9059-4176-eb4b-46a7864af2aa"
      },
      "source": [
        "df_train['Gender'].value_counts()"
      ],
      "execution_count": 9,
      "outputs": [
        {
          "output_type": "execute_result",
          "data": {
            "text/plain": [
              "Male      489\n",
              "Female    112\n",
              "Name: Gender, dtype: int64"
            ]
          },
          "metadata": {
            "tags": []
          },
          "execution_count": 9
        }
      ]
    },
    {
      "cell_type": "code",
      "metadata": {
        "colab": {
          "base_uri": "https://localhost:8080/"
        },
        "id": "03CDQwbz8lEc",
        "outputId": "5de84685-563a-4da2-db28-c932b811a552"
      },
      "source": [
        "df_test.isnull().sum()"
      ],
      "execution_count": 10,
      "outputs": [
        {
          "output_type": "execute_result",
          "data": {
            "text/plain": [
              "Loan_ID               0\n",
              "Gender               11\n",
              "Married               0\n",
              "Dependents           10\n",
              "Education             0\n",
              "Self_Employed        23\n",
              "ApplicantIncome       0\n",
              "CoapplicantIncome     0\n",
              "LoanAmount            5\n",
              "Loan_Amount_Term      6\n",
              "Credit_History       29\n",
              "Property_Area         0\n",
              "dtype: int64"
            ]
          },
          "metadata": {
            "tags": []
          },
          "execution_count": 10
        }
      ]
    },
    {
      "cell_type": "code",
      "metadata": {
        "id": "FW8-1VEn9mCu"
      },
      "source": [
        "sns.countplot(x=df_train['Credit_History'],hue = df_train['Loan_Status'])\n",
        "plt.show()"
      ],
      "execution_count": 11,
      "outputs": []
    },
    {
      "cell_type": "code",
      "metadata": {
        "colab": {
          "base_uri": "https://localhost:8080/"
        },
        "id": "TW-ASLDW99S_",
        "outputId": "5a9f5888-d5e4-415d-c59a-242bb7335b16"
      },
      "source": [
        "df_train['Married'].value_counts()"
      ],
      "execution_count": 12,
      "outputs": [
        {
          "output_type": "execute_result",
          "data": {
            "text/plain": [
              "Yes    398\n",
              "No     213\n",
              "Name: Married, dtype: int64"
            ]
          },
          "metadata": {
            "tags": []
          },
          "execution_count": 12
        }
      ]
    },
    {
      "cell_type": "code",
      "metadata": {
        "id": "f-4533tX9FFZ"
      },
      "source": [
        "sns.countplot(x=df_train['Married'],hue = df_train['Loan_Status'])\n",
        "plt.show()"
      ],
      "execution_count": 13,
      "outputs": []
    },
    {
      "cell_type": "code",
      "metadata": {
        "colab": {
          "base_uri": "https://localhost:8080/"
        },
        "id": "z31qUPgW-pjd",
        "outputId": "20ba2ec5-56cc-4fee-c4ba-33b5cf58a02d"
      },
      "source": [
        "df_train['Gender'].value_counts()"
      ],
      "execution_count": 14,
      "outputs": [
        {
          "output_type": "execute_result",
          "data": {
            "text/plain": [
              "Male      489\n",
              "Female    112\n",
              "Name: Gender, dtype: int64"
            ]
          },
          "metadata": {
            "tags": []
          },
          "execution_count": 14
        }
      ]
    },
    {
      "cell_type": "code",
      "metadata": {
        "colab": {
          "base_uri": "https://localhost:8080/"
        },
        "id": "U112vKF6ApTU",
        "outputId": "a840ad0d-808c-4673-c783-ec6be33b3abe"
      },
      "source": [
        "sns.countplot(x=df_train['Self_Employed'],hue = df_train['Loan_Status'])"
      ],
      "execution_count": 15,
      "outputs": [
        {
          "output_type": "execute_result",
          "data": {
            "text/plain": [
              "<matplotlib.axes._subplots.AxesSubplot at 0x7f7dd8071f50>"
            ]
          },
          "metadata": {
            "tags": []
          },
          "execution_count": 15
        }
      ]
    },
    {
      "cell_type": "code",
      "metadata": {
        "colab": {
          "base_uri": "https://localhost:8080/"
        },
        "id": "LhyJ1Al3AiO5",
        "outputId": "fad9b640-b04f-4f96-990f-a238cec85313"
      },
      "source": [
        "df_train['Dependents'].value_counts()"
      ],
      "execution_count": 16,
      "outputs": [
        {
          "output_type": "execute_result",
          "data": {
            "text/plain": [
              "0     345\n",
              "1     102\n",
              "2     101\n",
              "3+     51\n",
              "Name: Dependents, dtype: int64"
            ]
          },
          "metadata": {
            "tags": []
          },
          "execution_count": 16
        }
      ]
    },
    {
      "cell_type": "code",
      "metadata": {
        "colab": {
          "base_uri": "https://localhost:8080/"
        },
        "id": "bgwX95fVA75t",
        "outputId": "42b43120-da0e-4430-e474-15850c52f23d"
      },
      "source": [
        "#Interesting\n",
        "df_train.groupby(['Dependents','Married'])['Married'].count()"
      ],
      "execution_count": 17,
      "outputs": [
        {
          "output_type": "execute_result",
          "data": {
            "text/plain": [
              "Dependents  Married\n",
              "0           No         171\n",
              "            Yes        174\n",
              "1           No          23\n",
              "            Yes         79\n",
              "2           No           8\n",
              "            Yes         93\n",
              "3+          No           7\n",
              "            Yes         44\n",
              "Name: Married, dtype: int64"
            ]
          },
          "metadata": {
            "tags": []
          },
          "execution_count": 17
        }
      ]
    },
    {
      "cell_type": "code",
      "metadata": {
        "colab": {
          "base_uri": "https://localhost:8080/"
        },
        "id": "r8Wo7UX1BqKW",
        "outputId": "e40ab734-31d5-4af6-e3fb-7abcc2f482ff"
      },
      "source": [
        "sns.countplot(x=df_train['Loan_Amount_Term'],hue = df_train['Loan_Status'])"
      ],
      "execution_count": 18,
      "outputs": [
        {
          "output_type": "execute_result",
          "data": {
            "text/plain": [
              "<matplotlib.axes._subplots.AxesSubplot at 0x7f7dd8071f50>"
            ]
          },
          "metadata": {
            "tags": []
          },
          "execution_count": 18
        }
      ]
    },
    {
      "cell_type": "code",
      "metadata": {
        "colab": {
          "base_uri": "https://localhost:8080/"
        },
        "id": "S2_-0ZscEnj-",
        "outputId": "5b5417b8-30da-48fb-9ec6-860d701c9ceb"
      },
      "source": [
        "sns.boxplot(y=df_train['LoanAmount'])"
      ],
      "execution_count": 19,
      "outputs": [
        {
          "output_type": "execute_result",
          "data": {
            "text/plain": [
              "<matplotlib.axes._subplots.AxesSubplot at 0x7f7dd8071f50>"
            ]
          },
          "metadata": {
            "tags": []
          },
          "execution_count": 19
        }
      ]
    },
    {
      "cell_type": "markdown",
      "metadata": {
        "id": "x-iWhdAeGj_y"
      },
      "source": [
        "# Feature Engineering"
      ]
    },
    {
      "cell_type": "code",
      "metadata": {
        "id": "eJphrbBvZzot"
      },
      "source": [
        "df_train['Credit_History'].fillna(-1,inplace=True)\n",
        "df_test['Credit_History'].fillna(-1,inplace=True)\n",
        "\n",
        "df_train['Married'].fillna(df_train['Married'].mode()[0],inplace=True)\n",
        "df_test['Married'].fillna(df_test['Married'].mode()[0],inplace=True)\n",
        "\n",
        "df_train['Gender'].fillna(df_train['Gender'].mode()[0],inplace=True)\n",
        "df_test['Gender'].fillna(df_test['Gender'].mode()[0],inplace=True)\n",
        "\n",
        "df_train['Self_Employed'].fillna('NA',inplace=True)\n",
        "df_test['Self_Employed'].fillna('NA',inplace=True)\n",
        "\n",
        "df_train['Dependents'].fillna(df_train['Dependents'].mode()[0],inplace=True)\n",
        "df_test['Dependents'].fillna(df_test['Dependents'].mode()[0],inplace=True)\n",
        "\n",
        "\n",
        "df_train['Loan_Amount_Term'].fillna(df_train['Loan_Amount_Term'].mode()[0],inplace=True)\n",
        "df_test['Loan_Amount_Term'].fillna(df_test['Loan_Amount_Term'].mode()[0],inplace=True)\n",
        "\n",
        "df_train['LoanAmount'].fillna(df_train['LoanAmount'].median(),inplace=True)\n",
        "df_test['LoanAmount'].fillna(df_test['LoanAmount'].median(),inplace=True)"
      ],
      "execution_count": 20,
      "outputs": []
    },
    {
      "cell_type": "code",
      "metadata": {
        "id": "kSoOjtTfBzCj"
      },
      "source": [
        "#Some terms are present in test for loan amount term which are not in train, we will round them to nearest\n",
        "arr = np.array(df_train['Loan_Amount_Term'].value_counts().sort_values().index)\n",
        "df_test['Loan_Amount_Term'] = df_test['Loan_Amount_Term'].apply(lambda x: x if x in arr else arr[arr>x].min())"
      ],
      "execution_count": 21,
      "outputs": []
    },
    {
      "cell_type": "code",
      "metadata": {
        "colab": {
          "base_uri": "https://localhost:8080/"
        },
        "id": "e_vaaodqCQ2v",
        "outputId": "bb676a17-8ee9-4f77-f594-65c430a83280"
      },
      "source": [
        "arr"
      ],
      "execution_count": 22,
      "outputs": [
        {
          "output_type": "execute_result",
          "data": {
            "text/plain": [
              "array([ 12.,  36.,  60., 120.,  84., 240., 300., 480., 180., 360.])"
            ]
          },
          "metadata": {
            "tags": []
          },
          "execution_count": 22
        }
      ]
    },
    {
      "cell_type": "code",
      "metadata": {
        "colab": {
          "base_uri": "https://localhost:8080/"
        },
        "id": "HGEkHxurFVNe",
        "outputId": "991f2fc7-88d3-42fa-cee6-6b14d012ec0d"
      },
      "source": [
        "df_train.info()"
      ],
      "execution_count": 23,
      "outputs": [
        {
          "output_type": "stream",
          "text": [
            "<class 'pandas.core.frame.DataFrame'>\n",
            "RangeIndex: 614 entries, 0 to 613\n",
            "Data columns (total 13 columns):\n",
            " #   Column             Non-Null Count  Dtype  \n",
            "---  ------             --------------  -----  \n",
            " 0   Loan_ID            614 non-null    object \n",
            " 1   Gender             614 non-null    object \n",
            " 2   Married            614 non-null    object \n",
            " 3   Dependents         614 non-null    object \n",
            " 4   Education          614 non-null    object \n",
            " 5   Self_Employed      614 non-null    object \n",
            " 6   ApplicantIncome    614 non-null    int64  \n",
            " 7   CoapplicantIncome  614 non-null    float64\n",
            " 8   LoanAmount         614 non-null    float64\n",
            " 9   Loan_Amount_Term   614 non-null    float64\n",
            " 10  Credit_History     614 non-null    float64\n",
            " 11  Property_Area      614 non-null    object \n",
            " 12  Loan_Status        614 non-null    object \n",
            "dtypes: float64(4), int64(1), object(8)\n",
            "memory usage: 62.5+ KB\n"
          ],
          "name": "stdout"
        }
      ]
    },
    {
      "cell_type": "code",
      "metadata": {
        "colab": {
          "base_uri": "https://localhost:8080/"
        },
        "id": "iuP7wEzuHl0P",
        "outputId": "a5c14a46-a4cb-409d-cef9-111dfd68259a"
      },
      "source": [
        "from sklearn.preprocessing import LabelEncoder\n",
        "le = LabelEncoder()\n",
        "vars = ['Gender','Married','Dependents','Education','Self_Employed','Loan_Amount_Term','Credit_History','Property_Area']\n",
        "df_train['Dependents'].map({'3+':'3','0':'0','1':'1','2':'2'})\n",
        "df_test['Dependents'].map({'3+':'3','0':'0','1':'1','2':'2'})"
      ],
      "execution_count": 24,
      "outputs": [
        {
          "output_type": "execute_result",
          "data": {
            "text/plain": [
              "0      0\n",
              "1      1\n",
              "2      2\n",
              "3      2\n",
              "4      0\n",
              "      ..\n",
              "362    3\n",
              "363    0\n",
              "364    0\n",
              "365    0\n",
              "366    0\n",
              "Name: Dependents, Length: 367, dtype: object"
            ]
          },
          "metadata": {
            "tags": []
          },
          "execution_count": 24
        }
      ]
    },
    {
      "cell_type": "code",
      "metadata": {
        "id": "etHV4oNLQHk2"
      },
      "source": [
        "for name in vars:\n",
        "  df_train[name] = le.fit_transform(df_train[name])\n",
        "  df_test[name] = le.transform(df_test[name])"
      ],
      "execution_count": 25,
      "outputs": []
    },
    {
      "cell_type": "code",
      "metadata": {
        "id": "KYD71J6pk4_h"
      },
      "source": [
        "df_train.drop('Loan_ID',inplace=True,axis=1)"
      ],
      "execution_count": 26,
      "outputs": []
    },
    {
      "cell_type": "code",
      "metadata": {
        "id": "cvliX0PTk7Mu"
      },
      "source": [
        "numericals = ['ApplicantIncome','CoapplicantIncome','LoanAmount']\n",
        "for name in numericals:\n",
        "  sns.histplot(x=df_train[name])\n",
        "  plt.show()\n",
        "  sns.boxplot(y=df_train[name])\n",
        "  plt.show()"
      ],
      "execution_count": 27,
      "outputs": []
    },
    {
      "cell_type": "code",
      "metadata": {
        "id": "rUfm_GHYl_rf"
      },
      "source": [
        "df_train['CoappIncIsnull'] = np.where(df_train['CoapplicantIncome'] == 0 , 1, 0)\n",
        "df_test['CoappIncIsnull'] = np.where(df_test['CoapplicantIncome'] == 0 , 1, 0)"
      ],
      "execution_count": 28,
      "outputs": []
    },
    {
      "cell_type": "code",
      "metadata": {
        "id": "jaDOld4_md5g"
      },
      "source": [
        "le = LabelEncoder()\n",
        "df_train['CoappIncIsnull'] = le.fit_transform(df_train['CoappIncIsnull'])\n",
        "df_test['CoappIncIsnull'] = le.transform(df_test['CoappIncIsnull'])"
      ],
      "execution_count": 29,
      "outputs": []
    },
    {
      "cell_type": "code",
      "metadata": {
        "id": "BXszuhEonpba"
      },
      "source": [
        "df_train['ApplicantIncome'] = np.log1p(df_train['ApplicantIncome'])\n",
        "df_test['ApplicantIncome'] = np.log1p(df_test['ApplicantIncome'])\n",
        "\n",
        "df_train['CoapplicantIncome'] = np.log1p(df_train['CoapplicantIncome'])\n",
        "df_test['CoapplicantIncome'] = np.log1p(df_test['CoapplicantIncome'])\n",
        "\n",
        "df_train['LoanAmount'] = np.log1p(df_train['LoanAmount'])\n",
        "df_test['LoanAmount'] = np.log1p(df_test['LoanAmount'])"
      ],
      "execution_count": 30,
      "outputs": []
    },
    {
      "cell_type": "code",
      "metadata": {
        "id": "QRYmzDkgotGD"
      },
      "source": [
        "X = df_train.drop('Loan_Status',axis=1)\n",
        "y = df_train['Loan_Status']"
      ],
      "execution_count": 31,
      "outputs": []
    },
    {
      "cell_type": "markdown",
      "metadata": {
        "id": "H_wVCI6jG0wQ"
      },
      "source": [
        "# Handling Imbalance"
      ]
    },
    {
      "cell_type": "code",
      "metadata": {
        "colab": {
          "base_uri": "https://localhost:8080/"
        },
        "id": "chBDlyNwr5FA",
        "outputId": "52b1ea2e-1c61-4731-b5ff-949b011c4317"
      },
      "source": [
        "#We have an imbalance in class we can generate synthetic samples from it.\n",
        "y.value_counts()/len(y)"
      ],
      "execution_count": 32,
      "outputs": [
        {
          "output_type": "execute_result",
          "data": {
            "text/plain": [
              "Y    0.687296\n",
              "N    0.312704\n",
              "Name: Loan_Status, dtype: float64"
            ]
          },
          "metadata": {
            "tags": []
          },
          "execution_count": 32
        }
      ]
    },
    {
      "cell_type": "code",
      "metadata": {
        "id": "Fsr3DBe-r81X"
      },
      "source": [
        "from imblearn.over_sampling import ADASYN"
      ],
      "execution_count": 33,
      "outputs": []
    },
    {
      "cell_type": "code",
      "metadata": {
        "colab": {
          "base_uri": "https://localhost:8080/"
        },
        "id": "DSWVMfAgtxBD",
        "outputId": "92157f4d-3fde-4f4a-bbe3-fbf4e14c8839"
      },
      "source": [
        "ada = ADASYN(sampling_strategy='minority',random_state=42,n_neighbors=5)\n",
        "X_res,y_res = ada.fit_resample(X,y)"
      ],
      "execution_count": 34,
      "outputs": [
        {
          "output_type": "stream",
          "text": [
            "/usr/local/lib/python3.7/dist-packages/sklearn/utils/deprecation.py:87: FutureWarning: Function safe_indexing is deprecated; safe_indexing is deprecated in version 0.22 and will be removed in version 0.24.\n",
            "  warnings.warn(msg, category=FutureWarning)\n"
          ],
          "name": "stderr"
        }
      ]
    },
    {
      "cell_type": "markdown",
      "metadata": {
        "id": "VrxUbQIKE-Uw"
      },
      "source": [
        "# Trying out Base Models"
      ]
    },
    {
      "cell_type": "code",
      "metadata": {
        "id": "cQVc2ADQi2e0"
      },
      "source": [
        "# Machine Learning\n",
        "# Utils\n",
        "from sklearn.model_selection import cross_val_score, RepeatedStratifiedKFold, StratifiedKFold\n",
        "from sklearn import preprocessing\n",
        "#Feature Selection\n",
        "from sklearn.feature_selection import chi2, f_classif, f_regression, mutual_info_classif\n",
        "from sklearn.feature_selection import mutual_info_regression, SelectKBest, SelectPercentile\n",
        "from sklearn.feature_selection import VarianceThreshold\n",
        "# Models\n",
        "from sklearn.naive_bayes import GaussianNB\n",
        "from sklearn.discriminant_analysis import QuadraticDiscriminantAnalysis\n",
        "from sklearn.linear_model import LogisticRegression\n",
        "from sklearn.ensemble import RandomForestClassifier\n",
        "from lightgbm import LGBMClassifier\n",
        "from imblearn.ensemble import BalancedBaggingClassifier, BalancedRandomForestClassifier\n",
        "from sklearn.tree import DecisionTreeClassifier\n",
        "from sklearn.svm import SVC\n",
        "from sklearn.svm import LinearSVC\n",
        "from sklearn.neighbors import KNeighborsClassifier\n",
        "# Unsupervised Models\n",
        "from sklearn.cluster import KMeans\n",
        "#Metrics\n",
        "from sklearn.metrics import roc_auc_score\n",
        "from xgboost import XGBClassifier"
      ],
      "execution_count": 35,
      "outputs": []
    },
    {
      "cell_type": "code",
      "metadata": {
        "id": "rFQoUxR6iWMK"
      },
      "source": [
        "def get_models():\n",
        "    models = dict()\n",
        "    models['gauss'] = GaussianNB()\n",
        "    models['QDA'] = QuadraticDiscriminantAnalysis()\n",
        "    models['lr'] = LogisticRegression(solver='liblinear')\n",
        "    models['Dtree'] = DecisionTreeClassifier(random_state=42)\n",
        "    models['linearSVC'] = SVC(kernel=\"linear\", C=0.025)\n",
        "    models['KernelSVC'] = SVC(gamma=2, C=1)\n",
        "    models['neigh'] = KNeighborsClassifier(n_neighbors=5)\n",
        "    models['rf'] = RandomForestClassifier(random_state=42)\n",
        "    models['lgbm'] = LGBMClassifier(metric='binary_logloss',\n",
        "                                    objective='binary',\n",
        "                                    reg_alpha=2.945525898790487,\n",
        "                                    max_depth=13,\n",
        "                                    num_leaves=34,\n",
        "                                    seed=42,\n",
        "                                    learning_rate=0.0037601596530868493,\n",
        "                                    n_estimators=1913)\n",
        "    models['xgboost'] = XGBClassifier()\n",
        "    models['BalBag'] = BalancedBaggingClassifier()\n",
        "    #models['BalRF'] = BalancedRandomForestClassifier()\n",
        "    \n",
        "    return models\n",
        "\n",
        "def evaluate_model(model, X, y):\n",
        "    cv = RepeatedStratifiedKFold(n_splits=3, n_repeats=3, random_state=42)\n",
        "    scores = cross_val_score(model, X, y, scoring='accuracy', cv=cv,\n",
        "                             n_jobs=-1, error_score='raise')\n",
        "    return scores"
      ],
      "execution_count": 38,
      "outputs": []
    },
    {
      "cell_type": "code",
      "metadata": {
        "colab": {
          "base_uri": "https://localhost:8080/"
        },
        "id": "wdT8f14UiXJS",
        "outputId": "bbf6e706-6c46-4b31-8dce-13a9a0edcaec"
      },
      "source": [
        "%%time\n",
        "\n",
        "X = X_res\n",
        "y = y_res\n",
        "\n",
        "models = get_models()\n",
        "results = []\n",
        "names = []\n",
        "\n",
        "for name, model in models.items():\n",
        "    scores = evaluate_model(model, X, y)\n",
        "    results.append(scores)\n",
        "    names.append(name)\n",
        "    print(f'{name} : {round(np.mean(scores),6)} ({round(np.std(scores),3)})')"
      ],
      "execution_count": 39,
      "outputs": [
        {
          "output_type": "stream",
          "text": [
            "gauss : 0.604895 (0.022)\n",
            "QDA : 0.599456 (0.021)\n",
            "lr : 0.63986 (0.021)\n",
            "Dtree : 0.767677 (0.016)\n",
            "linearSVC : 0.638306 (0.026)\n",
            "KernelSVC : 0.80303 (0.024)\n",
            "neigh : 0.701632 (0.031)\n",
            "rf : 0.819736 (0.022)\n",
            "lgbm : 0.787102 (0.022)\n",
            "xgboost : 0.796037 (0.022)\n",
            "BalBag : 0.789433 (0.017)\n",
            "CPU times: user 336 ms, sys: 22.4 ms, total: 359 ms\n",
            "Wall time: 7.74 s\n"
          ],
          "name": "stdout"
        }
      ]
    },
    {
      "cell_type": "markdown",
      "metadata": {
        "id": "EQxUtQaKDxKu"
      },
      "source": [
        "# Install Optuna"
      ]
    },
    {
      "cell_type": "code",
      "metadata": {
        "colab": {
          "base_uri": "https://localhost:8080/"
        },
        "id": "Id-xl6NewXgb",
        "outputId": "269f12b4-149f-4399-c6b7-f1027bc8655e"
      },
      "source": [
        "!pip install optuna\n",
        "import optuna"
      ],
      "execution_count": 182,
      "outputs": [
        {
          "output_type": "stream",
          "text": [
            "Requirement already satisfied: optuna in /usr/local/lib/python3.7/dist-packages (2.7.0)\n",
            "Requirement already satisfied: cliff in /usr/local/lib/python3.7/dist-packages (from optuna) (3.8.0)\n",
            "Requirement already satisfied: sqlalchemy>=1.1.0 in /usr/local/lib/python3.7/dist-packages (from optuna) (1.4.15)\n",
            "Requirement already satisfied: alembic in /usr/local/lib/python3.7/dist-packages (from optuna) (1.6.5)\n",
            "Requirement already satisfied: cmaes>=0.8.2 in /usr/local/lib/python3.7/dist-packages (from optuna) (0.8.2)\n",
            "Requirement already satisfied: packaging>=20.0 in /usr/local/lib/python3.7/dist-packages (from optuna) (20.9)\n",
            "Requirement already satisfied: numpy in /usr/local/lib/python3.7/dist-packages (from optuna) (1.19.5)\n",
            "Requirement already satisfied: tqdm in /usr/local/lib/python3.7/dist-packages (from optuna) (4.41.1)\n",
            "Requirement already satisfied: colorlog in /usr/local/lib/python3.7/dist-packages (from optuna) (5.0.1)\n",
            "Requirement already satisfied: scipy!=1.4.0 in /usr/local/lib/python3.7/dist-packages (from optuna) (1.4.1)\n",
            "Requirement already satisfied: PyYAML>=3.12 in /usr/local/lib/python3.7/dist-packages (from cliff->optuna) (3.13)\n",
            "Requirement already satisfied: pbr!=2.1.0,>=2.0.0 in /usr/local/lib/python3.7/dist-packages (from cliff->optuna) (5.6.0)\n",
            "Requirement already satisfied: pyparsing>=2.1.0 in /usr/local/lib/python3.7/dist-packages (from cliff->optuna) (2.4.7)\n",
            "Requirement already satisfied: PrettyTable>=0.7.2 in /usr/local/lib/python3.7/dist-packages (from cliff->optuna) (2.1.0)\n",
            "Requirement already satisfied: cmd2>=1.0.0 in /usr/local/lib/python3.7/dist-packages (from cliff->optuna) (1.5.0)\n",
            "Requirement already satisfied: stevedore>=2.0.1 in /usr/local/lib/python3.7/dist-packages (from cliff->optuna) (3.3.0)\n",
            "Requirement already satisfied: greenlet!=0.4.17; python_version >= \"3\" in /usr/local/lib/python3.7/dist-packages (from sqlalchemy>=1.1.0->optuna) (1.1.0)\n",
            "Requirement already satisfied: importlib-metadata; python_version < \"3.8\" in /usr/local/lib/python3.7/dist-packages (from sqlalchemy>=1.1.0->optuna) (4.0.1)\n",
            "Requirement already satisfied: python-dateutil in /usr/local/lib/python3.7/dist-packages (from alembic->optuna) (2.8.1)\n",
            "Requirement already satisfied: python-editor>=0.3 in /usr/local/lib/python3.7/dist-packages (from alembic->optuna) (1.0.4)\n",
            "Requirement already satisfied: Mako in /usr/local/lib/python3.7/dist-packages (from alembic->optuna) (1.1.4)\n",
            "Requirement already satisfied: wcwidth in /usr/local/lib/python3.7/dist-packages (from PrettyTable>=0.7.2->cliff->optuna) (0.2.5)\n",
            "Requirement already satisfied: attrs>=16.3.0 in /usr/local/lib/python3.7/dist-packages (from cmd2>=1.0.0->cliff->optuna) (21.2.0)\n",
            "Requirement already satisfied: colorama>=0.3.7 in /usr/local/lib/python3.7/dist-packages (from cmd2>=1.0.0->cliff->optuna) (0.4.4)\n",
            "Requirement already satisfied: pyperclip>=1.6 in /usr/local/lib/python3.7/dist-packages (from cmd2>=1.0.0->cliff->optuna) (1.8.2)\n",
            "Requirement already satisfied: typing-extensions>=3.6.4; python_version < \"3.8\" in /usr/local/lib/python3.7/dist-packages (from importlib-metadata; python_version < \"3.8\"->sqlalchemy>=1.1.0->optuna) (3.7.4.3)\n",
            "Requirement already satisfied: zipp>=0.5 in /usr/local/lib/python3.7/dist-packages (from importlib-metadata; python_version < \"3.8\"->sqlalchemy>=1.1.0->optuna) (3.4.1)\n",
            "Requirement already satisfied: six>=1.5 in /usr/local/lib/python3.7/dist-packages (from python-dateutil->alembic->optuna) (1.15.0)\n",
            "Requirement already satisfied: MarkupSafe>=0.9.2 in /usr/local/lib/python3.7/dist-packages (from Mako->alembic->optuna) (2.0.1)\n"
          ],
          "name": "stdout"
        }
      ]
    },
    {
      "cell_type": "markdown",
      "metadata": {
        "id": "ttR5COkpDpgg"
      },
      "source": [
        "# LightGBM Tuning"
      ]
    },
    {
      "cell_type": "code",
      "metadata": {
        "id": "wPWkCKq7qJ_k"
      },
      "source": [
        "def objective(trial):\n",
        "  params = {\n",
        "    'max_depth':trial.suggest_int(\"max_depth\", 5, 20),\n",
        "    'min_child_samples':trial.suggest_int(\"min_child_samples\", 10, 30),\n",
        "    'min_child_weight':trial.suggest_int('min_child_weight',1,10),\n",
        "    'num_leaves': trial.suggest_int('num_leaves',20,40),\n",
        "    \"reg_lambda\": trial.suggest_uniform(\"lr\", 1e-5, 10),\n",
        "    \"reg_alpha\": trial.suggest_uniform(\"lr\", 1e-5, 10),\n",
        "    'colsample_bytree': trial.suggest_float(\"colsample_bytree\",0,1),\n",
        "    'subsample': trial.suggest_float(\"subsample\",0,1),\n",
        "    \"learning_rate\": trial.suggest_uniform(\"learning_rate\", 1e-5, 10)\n",
        "    }\n",
        "  clf = LGBMClassifier(**params)\n",
        "  \n",
        "  return cross_val_score(clf, X_res, y_res,scoring='accuracy',n_jobs=-1, cv=3).mean()\n",
        "  \n"
      ],
      "execution_count": 183,
      "outputs": []
    },
    {
      "cell_type": "code",
      "metadata": {
        "colab": {
          "base_uri": "https://localhost:8080/"
        },
        "id": "fXUgYFVzu_lj",
        "outputId": "956c2c46-5dd8-4d92-b55f-45149be12e74"
      },
      "source": [
        "study = optuna.create_study(direction='maximize')\n",
        "study.optimize(objective, n_trials=200)\n",
        "trial = study.best_trial\n",
        "best_param_light = study.best_params"
      ],
      "execution_count": 184,
      "outputs": [
        {
          "output_type": "stream",
          "text": [
            "\u001b[32m[I 2021-06-03 18:37:30,115]\u001b[0m A new study created in memory with name: no-name-b87f3646-edc8-43a4-9d72-5c556a0a2c13\u001b[0m\n",
            "\u001b[32m[I 2021-06-03 18:37:30,180]\u001b[0m Trial 0 finished with value: 0.5314429484564124 and parameters: {'max_depth': 11, 'min_child_samples': 19, 'min_child_weight': 7, 'num_leaves': 34, 'lr': 7.717482604999142, 'colsample_bytree': 0.7725431995433466, 'subsample': 0.1972429069103282, 'learning_rate': 9.222631512402046}. Best is trial 0 with value: 0.5314429484564124.\u001b[0m\n",
            "\u001b[32m[I 2021-06-03 18:37:30,237]\u001b[0m Trial 1 finished with value: 0.6247926016591867 and parameters: {'max_depth': 6, 'min_child_samples': 29, 'min_child_weight': 10, 'num_leaves': 35, 'lr': 9.161655480045923, 'colsample_bytree': 0.3128584375500617, 'subsample': 0.9881231545699253, 'learning_rate': 6.027975220309659}. Best is trial 1 with value: 0.6247926016591867.\u001b[0m\n",
            "\u001b[32m[I 2021-06-03 18:37:30,293]\u001b[0m Trial 2 finished with value: 0.5198694410444717 and parameters: {'max_depth': 6, 'min_child_samples': 27, 'min_child_weight': 1, 'num_leaves': 22, 'lr': 3.789592445163601, 'colsample_bytree': 0.8305840547993859, 'subsample': 0.3053242708932553, 'learning_rate': 6.610373489178842}. Best is trial 1 with value: 0.6247926016591867.\u001b[0m\n",
            "\u001b[32m[I 2021-06-03 18:37:30,346]\u001b[0m Trial 3 finished with value: 0.6143206854345166 and parameters: {'max_depth': 11, 'min_child_samples': 12, 'min_child_weight': 4, 'num_leaves': 39, 'lr': 1.7387291135615184, 'colsample_bytree': 0.37419023239926374, 'subsample': 0.5440758453797663, 'learning_rate': 7.703855309088853}. Best is trial 1 with value: 0.6247926016591867.\u001b[0m\n",
            "\u001b[32m[I 2021-06-03 18:37:30,403]\u001b[0m Trial 4 finished with value: 0.539562083503332 and parameters: {'max_depth': 6, 'min_child_samples': 17, 'min_child_weight': 3, 'num_leaves': 24, 'lr': 5.410509942094481, 'colsample_bytree': 0.5906070622125417, 'subsample': 0.3786217900127431, 'learning_rate': 4.571475304792454}. Best is trial 1 with value: 0.6247926016591867.\u001b[0m\n",
            "\u001b[32m[I 2021-06-03 18:37:30,456]\u001b[0m Trial 5 finished with value: 0.6119747042023664 and parameters: {'max_depth': 5, 'min_child_samples': 29, 'min_child_weight': 4, 'num_leaves': 31, 'lr': 4.568617724941362, 'colsample_bytree': 0.07285886835744604, 'subsample': 0.12094663372608372, 'learning_rate': 2.7013436343898953}. Best is trial 1 with value: 0.6247926016591867.\u001b[0m\n",
            "\u001b[32m[I 2021-06-03 18:37:30,515]\u001b[0m Trial 6 finished with value: 0.7494900040799675 and parameters: {'max_depth': 7, 'min_child_samples': 15, 'min_child_weight': 10, 'num_leaves': 33, 'lr': 5.852244915486616, 'colsample_bytree': 0.3313130731465088, 'subsample': 0.9446282195801744, 'learning_rate': 1.025563222613227}. Best is trial 6 with value: 0.7494900040799675.\u001b[0m\n",
            "\u001b[32m[I 2021-06-03 18:37:30,568]\u001b[0m Trial 7 finished with value: 0.5641370869033048 and parameters: {'max_depth': 14, 'min_child_samples': 14, 'min_child_weight': 9, 'num_leaves': 35, 'lr': 7.486083180643438, 'colsample_bytree': 0.13115109757104437, 'subsample': 0.2531658032977091, 'learning_rate': 9.212425060910737}. Best is trial 6 with value: 0.7494900040799675.\u001b[0m\n",
            "\u001b[32m[I 2021-06-03 18:37:30,643]\u001b[0m Trial 8 finished with value: 0.7541819665442675 and parameters: {'max_depth': 8, 'min_child_samples': 25, 'min_child_weight': 6, 'num_leaves': 22, 'lr': 6.265047868737631, 'colsample_bytree': 0.8193385633989865, 'subsample': 0.7559006684286457, 'learning_rate': 0.4636555457035205}. Best is trial 8 with value: 0.7541819665442675.\u001b[0m\n",
            "\u001b[32m[I 2021-06-03 18:37:30,694]\u001b[0m Trial 9 finished with value: 0.5093499252005984 and parameters: {'max_depth': 9, 'min_child_samples': 21, 'min_child_weight': 7, 'num_leaves': 36, 'lr': 3.1229472123306046, 'colsample_bytree': 0.12743518110588592, 'subsample': 0.8133660968131801, 'learning_rate': 9.498917173458048}. Best is trial 8 with value: 0.7541819665442675.\u001b[0m\n",
            "\u001b[32m[I 2021-06-03 18:37:30,877]\u001b[0m Trial 10 finished with value: 0.7938120495036041 and parameters: {'max_depth': 15, 'min_child_samples': 23, 'min_child_weight': 7, 'num_leaves': 26, 'lr': 0.08227170032613085, 'colsample_bytree': 0.9204864511967675, 'subsample': 0.6615614741473533, 'learning_rate': 0.03651680043964356}. Best is trial 10 with value: 0.7938120495036041.\u001b[0m\n",
            "\u001b[32m[I 2021-06-03 18:37:31,063]\u001b[0m Trial 11 finished with value: 0.7809873521011832 and parameters: {'max_depth': 19, 'min_child_samples': 24, 'min_child_weight': 7, 'num_leaves': 26, 'lr': 0.3931955255112082, 'colsample_bytree': 0.9461728869039869, 'subsample': 0.6771861330609379, 'learning_rate': 0.019657205550590362}. Best is trial 10 with value: 0.7938120495036041.\u001b[0m\n",
            "\u001b[32m[I 2021-06-03 18:37:31,137]\u001b[0m Trial 12 finished with value: 0.5325921392628858 and parameters: {'max_depth': 19, 'min_child_samples': 23, 'min_child_weight': 8, 'num_leaves': 27, 'lr': 0.1781570663883012, 'colsample_bytree': 0.9899608880232256, 'subsample': 0.5974994564976439, 'learning_rate': 2.2046612895764914}. Best is trial 10 with value: 0.7938120495036041.\u001b[0m\n",
            "\u001b[32m[I 2021-06-03 18:37:31,298]\u001b[0m Trial 13 finished with value: 0.7926288589691282 and parameters: {'max_depth': 18, 'min_child_samples': 24, 'min_child_weight': 6, 'num_leaves': 28, 'lr': 0.42203326850039563, 'colsample_bytree': 0.9986922040933313, 'subsample': 0.6745126404914554, 'learning_rate': 0.20332820260706624}. Best is trial 10 with value: 0.7938120495036041.\u001b[0m\n",
            "\u001b[32m[I 2021-06-03 18:37:31,373]\u001b[0m Trial 14 finished with value: 0.5210050319597443 and parameters: {'max_depth': 15, 'min_child_samples': 20, 'min_child_weight': 5, 'num_leaves': 28, 'lr': 1.6190152370752953, 'colsample_bytree': 0.5920125695353677, 'subsample': 0.4537473527915563, 'learning_rate': 3.3793892338883462}. Best is trial 10 with value: 0.7938120495036041.\u001b[0m\n",
            "\u001b[32m[I 2021-06-03 18:37:31,470]\u001b[0m Trial 15 finished with value: 0.780953352373181 and parameters: {'max_depth': 16, 'min_child_samples': 26, 'min_child_weight': 6, 'num_leaves': 30, 'lr': 1.6868426558369733, 'colsample_bytree': 0.9799441859218778, 'subsample': 0.850078787290379, 'learning_rate': 1.4271428813542992}. Best is trial 10 with value: 0.7938120495036041.\u001b[0m\n",
            "\u001b[32m[I 2021-06-03 18:37:31,644]\u001b[0m Trial 16 finished with value: 0.7996464028287773 and parameters: {'max_depth': 17, 'min_child_samples': 22, 'min_child_weight': 2, 'num_leaves': 20, 'lr': 0.1410413510504472, 'colsample_bytree': 0.6971600667561119, 'subsample': 0.6564758255218475, 'learning_rate': 0.37442404121168216}. Best is trial 16 with value: 0.7996464028287773.\u001b[0m\n",
            "\u001b[32m[I 2021-06-03 18:37:31,708]\u001b[0m Trial 17 finished with value: 0.49880320957432345 and parameters: {'max_depth': 17, 'min_child_samples': 21, 'min_child_weight': 1, 'num_leaves': 20, 'lr': 2.901319588151246, 'colsample_bytree': 0.6828458684892983, 'subsample': 0.47357342169043487, 'learning_rate': 4.037795647601307}. Best is trial 16 with value: 0.7996464028287773.\u001b[0m\n",
            "\u001b[32m[I 2021-06-03 18:37:31,802]\u001b[0m Trial 18 finished with value: 0.7879708962328301 and parameters: {'max_depth': 13, 'min_child_samples': 18, 'min_child_weight': 2, 'num_leaves': 20, 'lr': 1.0339879162762458, 'colsample_bytree': 0.683328591885019, 'subsample': 0.6482884189693218, 'learning_rate': 1.6867949986817208}. Best is trial 16 with value: 0.7996464028287773.\u001b[0m\n",
            "\u001b[32m[I 2021-06-03 18:37:31,882]\u001b[0m Trial 19 finished with value: 0.5989936080511356 and parameters: {'max_depth': 20, 'min_child_samples': 22, 'min_child_weight': 3, 'num_leaves': 24, 'lr': 2.5216864976146924, 'colsample_bytree': 0.8925583424477138, 'subsample': 0.8966401768334465, 'learning_rate': 2.9676528916201663}. Best is trial 16 with value: 0.7996464028287773.\u001b[0m\n",
            "\u001b[32m[I 2021-06-03 18:37:32,003]\u001b[0m Trial 20 finished with value: 0.7518495852033183 and parameters: {'max_depth': 16, 'min_child_samples': 27, 'min_child_weight': 8, 'num_leaves': 24, 'lr': 4.20550564574578, 'colsample_bytree': 0.4754757274372018, 'subsample': 0.7590352098697002, 'learning_rate': 0.07017945602527931}. Best is trial 16 with value: 0.7996464028287773.\u001b[0m\n",
            "\u001b[32m[I 2021-06-03 18:37:32,185]\u001b[0m Trial 21 finished with value: 0.8078131374949 and parameters: {'max_depth': 18, 'min_child_samples': 23, 'min_child_weight': 5, 'num_leaves': 28, 'lr': 0.2575534871114444, 'colsample_bytree': 0.743214084231743, 'subsample': 0.7025121069850246, 'learning_rate': 0.030715695733978865}. Best is trial 21 with value: 0.8078131374949.\u001b[0m\n",
            "\u001b[32m[I 2021-06-03 18:37:32,310]\u001b[0m Trial 22 finished with value: 0.7774785801713586 and parameters: {'max_depth': 17, 'min_child_samples': 22, 'min_child_weight': 5, 'num_leaves': 32, 'lr': 0.00518016765841578, 'colsample_bytree': 0.7231606022042326, 'subsample': 0.5714787467474485, 'learning_rate': 0.963820709312921}. Best is trial 21 with value: 0.8078131374949.\u001b[0m\n",
            "\u001b[32m[I 2021-06-03 18:37:32,478]\u001b[0m Trial 23 finished with value: 0.8031619747042024 and parameters: {'max_depth': 20, 'min_child_samples': 23, 'min_child_weight': 2, 'num_leaves': 29, 'lr': 1.0233067398014526, 'colsample_bytree': 0.6099009513469729, 'subsample': 0.7587656361728428, 'learning_rate': 0.04006974169944382}. Best is trial 21 with value: 0.8078131374949.\u001b[0m\n",
            "\u001b[32m[I 2021-06-03 18:37:32,585]\u001b[0m Trial 24 finished with value: 0.77171902624779 and parameters: {'max_depth': 20, 'min_child_samples': 17, 'min_child_weight': 2, 'num_leaves': 29, 'lr': 1.022668868735827, 'colsample_bytree': 0.5848386958129465, 'subsample': 0.7505414383604689, 'learning_rate': 2.0517039886983586}. Best is trial 21 with value: 0.8078131374949.\u001b[0m\n",
            "\u001b[32m[I 2021-06-03 18:37:32,679]\u001b[0m Trial 25 finished with value: 0.7903304773561811 and parameters: {'max_depth': 18, 'min_child_samples': 20, 'min_child_weight': 2, 'num_leaves': 40, 'lr': 2.275190147566295, 'colsample_bytree': 0.48445308946159155, 'subsample': 0.8722025739871304, 'learning_rate': 0.8065516761404604}. Best is trial 21 with value: 0.8078131374949.\u001b[0m\n",
            "\u001b[32m[I 2021-06-03 18:37:32,775]\u001b[0m Trial 26 finished with value: 0.8031075751393988 and parameters: {'max_depth': 20, 'min_child_samples': 26, 'min_child_weight': 3, 'num_leaves': 30, 'lr': 0.897285981194535, 'colsample_bytree': 0.6417051525652768, 'subsample': 0.7849289799780519, 'learning_rate': 1.4538746969450034}. Best is trial 21 with value: 0.8078131374949.\u001b[0m\n",
            "\u001b[32m[I 2021-06-03 18:37:32,871]\u001b[0m Trial 27 finished with value: 0.7868353053175574 and parameters: {'max_depth': 20, 'min_child_samples': 30, 'min_child_weight': 4, 'num_leaves': 31, 'lr': 1.1315453593034996, 'colsample_bytree': 0.6107050545848892, 'subsample': 0.9793170695515357, 'learning_rate': 1.5342757470436292}. Best is trial 21 with value: 0.8078131374949.\u001b[0m\n",
            "\u001b[32m[I 2021-06-03 18:37:32,940]\u001b[0m Trial 28 finished with value: 0.5374473004215966 and parameters: {'max_depth': 19, 'min_child_samples': 27, 'min_child_weight': 3, 'num_leaves': 30, 'lr': 3.4441688648874926, 'colsample_bytree': 0.43354346099309515, 'subsample': 0.7869268644055806, 'learning_rate': 3.868153932005286}. Best is trial 21 with value: 0.8078131374949.\u001b[0m\n",
            "\u001b[32m[I 2021-06-03 18:37:33,018]\u001b[0m Trial 29 finished with value: 0.5116823065415477 and parameters: {'max_depth': 20, 'min_child_samples': 25, 'min_child_weight': 4, 'num_leaves': 33, 'lr': 2.2263356350155434, 'colsample_bytree': 0.7566863029175014, 'subsample': 0.9117239614121669, 'learning_rate': 2.764398070073833}. Best is trial 21 with value: 0.8078131374949.\u001b[0m\n",
            "\u001b[32m[I 2021-06-03 18:37:33,095]\u001b[0m Trial 30 finished with value: 0.49298925608595123 and parameters: {'max_depth': 18, 'min_child_samples': 28, 'min_child_weight': 1, 'num_leaves': 26, 'lr': 0.9154684330789002, 'colsample_bytree': 0.5438272444694224, 'subsample': 0.7284227734529652, 'learning_rate': 5.528118923296213}. Best is trial 21 with value: 0.8078131374949.\u001b[0m\n",
            "\u001b[32m[I 2021-06-03 18:37:33,248]\u001b[0m Trial 31 finished with value: 0.803155174758602 and parameters: {'max_depth': 17, 'min_child_samples': 25, 'min_child_weight': 2, 'num_leaves': 28, 'lr': 0.06748761566141509, 'colsample_bytree': 0.6715571127916301, 'subsample': 0.6126843784984809, 'learning_rate': 0.6051639092355259}. Best is trial 21 with value: 0.8078131374949.\u001b[0m\n",
            "\u001b[32m[I 2021-06-03 18:37:33,366]\u001b[0m Trial 32 finished with value: 0.7937916496668027 and parameters: {'max_depth': 19, 'min_child_samples': 25, 'min_child_weight': 3, 'num_leaves': 29, 'lr': 0.7248092734879794, 'colsample_bytree': 0.8091324939076427, 'subsample': 0.5195621781468591, 'learning_rate': 0.9498683291412915}. Best is trial 21 with value: 0.8078131374949.\u001b[0m\n",
            "\u001b[32m[I 2021-06-03 18:37:33,517]\u001b[0m Trial 33 finished with value: 0.77749898000816 and parameters: {'max_depth': 18, 'min_child_samples': 26, 'min_child_weight': 1, 'num_leaves': 28, 'lr': 1.5423890579110873, 'colsample_bytree': 0.6431507164064729, 'subsample': 0.602412997562857, 'learning_rate': 0.02340384149878111}. Best is trial 21 with value: 0.8078131374949.\u001b[0m\n",
            "\u001b[32m[I 2021-06-03 18:37:33,590]\u001b[0m Trial 34 finished with value: 0.7320685434516524 and parameters: {'max_depth': 11, 'min_child_samples': 30, 'min_child_weight': 2, 'num_leaves': 31, 'lr': 9.815970387842018, 'colsample_bytree': 0.8650081785579545, 'subsample': 0.8427611183926393, 'learning_rate': 2.0768002448595095}. Best is trial 21 with value: 0.8078131374949.\u001b[0m\n",
            "\u001b[32m[I 2021-06-03 18:37:33,682]\u001b[0m Trial 35 finished with value: 0.792642458860329 and parameters: {'max_depth': 16, 'min_child_samples': 24, 'min_child_weight': 5, 'num_leaves': 27, 'lr': 2.009745935245421, 'colsample_bytree': 0.7826073673143996, 'subsample': 0.4051275322413543, 'learning_rate': 1.3096363127864248}. Best is trial 21 with value: 0.8078131374949.\u001b[0m\n",
            "\u001b[32m[I 2021-06-03 18:37:33,759]\u001b[0m Trial 36 finished with value: 0.7424860601115191 and parameters: {'max_depth': 20, 'min_child_samples': 28, 'min_child_weight': 3, 'num_leaves': 25, 'lr': 8.422007066718324, 'colsample_bytree': 0.5426628713551935, 'subsample': 0.7021729932504456, 'learning_rate': 0.4753090225748484}. Best is trial 21 with value: 0.8078131374949.\u001b[0m\n",
            "\u001b[32m[I 2021-06-03 18:37:33,822]\u001b[0m Trial 37 finished with value: 0.5023663810689515 and parameters: {'max_depth': 19, 'min_child_samples': 26, 'min_child_weight': 4, 'num_leaves': 29, 'lr': 1.3285062308321012, 'colsample_bytree': 0.6470369361450314, 'subsample': 0.8000854425575672, 'learning_rate': 6.5220671955883365}. Best is trial 21 with value: 0.8078131374949.\u001b[0m\n",
            "\u001b[32m[I 2021-06-03 18:37:33,889]\u001b[0m Trial 38 finished with value: 0.4976200190398477 and parameters: {'max_depth': 17, 'min_child_samples': 19, 'min_child_weight': 1, 'num_leaves': 37, 'lr': 0.8115339299460587, 'colsample_bytree': 0.73523097488959, 'subsample': 0.006299911662045632, 'learning_rate': 7.774240587510143}. Best is trial 21 with value: 0.8078131374949.\u001b[0m\n",
            "\u001b[32m[I 2021-06-03 18:37:33,959]\u001b[0m Trial 39 finished with value: 0.5186318509451924 and parameters: {'max_depth': 12, 'min_child_samples': 23, 'min_child_weight': 2, 'num_leaves': 33, 'lr': 0.04344184719507638, 'colsample_bytree': 0.4072891861659256, 'subsample': 0.5813509616912185, 'learning_rate': 2.3619881393480258}. Best is trial 21 with value: 0.8078131374949.\u001b[0m\n",
            "\u001b[32m[I 2021-06-03 18:37:34,053]\u001b[0m Trial 40 finished with value: 0.7868557051543588 and parameters: {'max_depth': 15, 'min_child_samples': 28, 'min_child_weight': 3, 'num_leaves': 32, 'lr': 2.6969306555425816, 'colsample_bytree': 0.5587954939516616, 'subsample': 0.9855765482776104, 'learning_rate': 0.8048805342174269}. Best is trial 21 with value: 0.8078131374949.\u001b[0m\n",
            "\u001b[32m[I 2021-06-03 18:37:34,192]\u001b[0m Trial 41 finished with value: 0.8019787841697266 and parameters: {'max_depth': 17, 'min_child_samples': 22, 'min_child_weight': 2, 'num_leaves': 22, 'lr': 0.5361005425890903, 'colsample_bytree': 0.6932853417812233, 'subsample': 0.6201222172307498, 'learning_rate': 0.6800992103107064}. Best is trial 21 with value: 0.8078131374949.\u001b[0m\n",
            "\u001b[32m[I 2021-06-03 18:37:34,338]\u001b[0m Trial 42 finished with value: 0.8112879096967225 and parameters: {'max_depth': 18, 'min_child_samples': 21, 'min_child_weight': 1, 'num_leaves': 22, 'lr': 0.514315553418004, 'colsample_bytree': 0.6397761482157323, 'subsample': 0.6240116754862183, 'learning_rate': 0.5889804980043611}. Best is trial 42 with value: 0.8112879096967225.\u001b[0m\n",
            "\u001b[32m[I 2021-06-03 18:37:34,430]\u001b[0m Trial 43 finished with value: 0.7879912960696315 and parameters: {'max_depth': 18, 'min_child_samples': 21, 'min_child_weight': 1, 'num_leaves': 23, 'lr': 1.4398038763590564, 'colsample_bytree': 0.6403584539698819, 'subsample': 0.5318101129152824, 'learning_rate': 1.3722211978367265}. Best is trial 42 with value: 0.8112879096967225.\u001b[0m\n",
            "\u001b[32m[I 2021-06-03 18:37:34,534]\u001b[0m Trial 44 finished with value: 0.7530055759553924 and parameters: {'max_depth': 19, 'min_child_samples': 24, 'min_child_weight': 1, 'num_leaves': 27, 'lr': 6.54389511621744, 'colsample_bytree': 0.2631439843209946, 'subsample': 0.709467585572208, 'learning_rate': 0.06785061988447394}. Best is trial 42 with value: 0.8112879096967225.\u001b[0m\n",
            "\u001b[32m[I 2021-06-03 18:37:34,627]\u001b[0m Trial 45 finished with value: 0.78562491500068 and parameters: {'max_depth': 20, 'min_child_samples': 19, 'min_child_weight': 4, 'num_leaves': 31, 'lr': 1.9721656214805896, 'colsample_bytree': 0.7815494089124533, 'subsample': 0.821986254382805, 'learning_rate': 1.7483249645322911}. Best is trial 42 with value: 0.8112879096967225.\u001b[0m\n",
            "\u001b[32m[I 2021-06-03 18:37:34,770]\u001b[0m Trial 46 finished with value: 0.8066707466340268 and parameters: {'max_depth': 14, 'min_child_samples': 25, 'min_child_weight': 3, 'num_leaves': 34, 'lr': 0.5085218661383794, 'colsample_bytree': 0.5298219357953315, 'subsample': 0.7754924104026182, 'learning_rate': 0.4975332175253725}. Best is trial 42 with value: 0.8112879096967225.\u001b[0m\n",
            "\u001b[32m[I 2021-06-03 18:37:34,928]\u001b[0m Trial 47 finished with value: 0.8089623283013736 and parameters: {'max_depth': 14, 'min_child_samples': 23, 'min_child_weight': 2, 'num_leaves': 37, 'lr': 0.04980720397202132, 'colsample_bytree': 0.5264717033327472, 'subsample': 0.6221355824850561, 'learning_rate': 0.47549197077703426}. Best is trial 42 with value: 0.8112879096967225.\u001b[0m\n",
            "\u001b[32m[I 2021-06-03 18:37:35,047]\u001b[0m Trial 48 finished with value: 0.7319733442132463 and parameters: {'max_depth': 13, 'min_child_samples': 23, 'min_child_weight': 5, 'num_leaves': 36, 'lr': 4.951198729282703, 'colsample_bytree': 0.3491682498676917, 'subsample': 0.7011064793163206, 'learning_rate': 0.002635661516845564}. Best is trial 42 with value: 0.8112879096967225.\u001b[0m\n",
            "\u001b[32m[I 2021-06-03 18:37:35,153]\u001b[0m Trial 49 finished with value: 0.7822113423092615 and parameters: {'max_depth': 14, 'min_child_samples': 10, 'min_child_weight': 4, 'num_leaves': 38, 'lr': 0.4293392773374043, 'colsample_bytree': 0.2802899975880242, 'subsample': 0.48698954285088436, 'learning_rate': 1.1799817182532635}. Best is trial 42 with value: 0.8112879096967225.\u001b[0m\n",
            "\u001b[32m[I 2021-06-03 18:37:35,217]\u001b[0m Trial 50 finished with value: 0.5980076159390725 and parameters: {'max_depth': 10, 'min_child_samples': 21, 'min_child_weight': 1, 'num_leaves': 36, 'lr': 0.5218689161401363, 'colsample_bytree': 0.5131939436299098, 'subsample': 0.32871193635998647, 'learning_rate': 7.84544432230929}. Best is trial 42 with value: 0.8112879096967225.\u001b[0m\n",
            "\u001b[32m[I 2021-06-03 18:37:35,368]\u001b[0m Trial 51 finished with value: 0.8031687746498027 and parameters: {'max_depth': 14, 'min_child_samples': 25, 'min_child_weight': 2, 'num_leaves': 34, 'lr': 0.021374314287771083, 'colsample_bytree': 0.47014877744096867, 'subsample': 0.637618530236565, 'learning_rate': 0.3818493623247367}. Best is trial 42 with value: 0.8112879096967225.\u001b[0m\n",
            "\u001b[32m[I 2021-06-03 18:37:35,529]\u001b[0m Trial 52 finished with value: 0.8066707466340268 and parameters: {'max_depth': 14, 'min_child_samples': 23, 'min_child_weight': 2, 'num_leaves': 34, 'lr': 0.08665257031227147, 'colsample_bytree': 0.42084024907499246, 'subsample': 0.6420682610884685, 'learning_rate': 0.3770177385355018}. Best is trial 42 with value: 0.8112879096967225.\u001b[0m\n",
            "\u001b[32m[I 2021-06-03 18:37:35,667]\u001b[0m Trial 53 finished with value: 0.7856589147286822 and parameters: {'max_depth': 14, 'min_child_samples': 24, 'min_child_weight': 3, 'num_leaves': 34, 'lr': 0.13186486352686627, 'colsample_bytree': 0.4219661136981564, 'subsample': 0.5565527510790942, 'learning_rate': 0.4547698317143874}. Best is trial 42 with value: 0.8112879096967225.\u001b[0m\n",
            "\u001b[32m[I 2021-06-03 18:37:35,815]\u001b[0m Trial 54 finished with value: 0.7914728682170542 and parameters: {'max_depth': 12, 'min_child_samples': 22, 'min_child_weight': 2, 'num_leaves': 35, 'lr': 0.40873789102538965, 'colsample_bytree': 0.4592853884339787, 'subsample': 0.6420085394438075, 'learning_rate': 0.4406668257353587}. Best is trial 42 with value: 0.8112879096967225.\u001b[0m\n",
            "\u001b[32m[I 2021-06-03 18:37:35,926]\u001b[0m Trial 55 finished with value: 0.7903100775193799 and parameters: {'max_depth': 14, 'min_child_samples': 20, 'min_child_weight': 6, 'num_leaves': 39, 'lr': 0.08832438440445745, 'colsample_bytree': 0.3721598125922382, 'subsample': 0.44334263511898175, 'learning_rate': 1.0653881990961345}. Best is trial 42 with value: 0.8112879096967225.\u001b[0m\n",
            "\u001b[32m[I 2021-06-03 18:37:36,019]\u001b[0m Trial 56 finished with value: 0.5652114783081734 and parameters: {'max_depth': 15, 'min_child_samples': 23, 'min_child_weight': 1, 'num_leaves': 34, 'lr': 0.010854747496086887, 'colsample_bytree': 0.3959892493580634, 'subsample': 0.6659947538331191, 'learning_rate': 1.8921733228910598}. Best is trial 42 with value: 0.8112879096967225.\u001b[0m\n",
            "\u001b[32m[I 2021-06-03 18:37:36,107]\u001b[0m Trial 57 finished with value: 0.5708894328845369 and parameters: {'max_depth': 13, 'min_child_samples': 25, 'min_child_weight': 2, 'num_leaves': 37, 'lr': 1.3467602360031603, 'colsample_bytree': 0.4595631126183922, 'subsample': 0.6888866892909546, 'learning_rate': 2.4398104110629557}. Best is trial 42 with value: 0.8112879096967225.\u001b[0m\n",
            "\u001b[32m[I 2021-06-03 18:37:36,235]\u001b[0m Trial 58 finished with value: 0.8019515843873248 and parameters: {'max_depth': 16, 'min_child_samples': 21, 'min_child_weight': 8, 'num_leaves': 34, 'lr': 0.6020998950173467, 'colsample_bytree': 0.514308799609339, 'subsample': 0.6281235886771084, 'learning_rate': 0.25084792419706736}. Best is trial 42 with value: 0.8112879096967225.\u001b[0m\n",
            "\u001b[32m[I 2021-06-03 18:37:36,330]\u001b[0m Trial 59 finished with value: 0.793859649122807 and parameters: {'max_depth': 14, 'min_child_samples': 24, 'min_child_weight': 3, 'num_leaves': 37, 'lr': 1.2406538839612833, 'colsample_bytree': 0.30246179804752693, 'subsample': 0.5483482916448789, 'learning_rate': 1.0771492798876552}. Best is trial 42 with value: 0.8112879096967225.\u001b[0m\n",
            "\u001b[32m[I 2021-06-03 18:37:36,393]\u001b[0m Trial 60 finished with value: 0.5023323813409493 and parameters: {'max_depth': 15, 'min_child_samples': 18, 'min_child_weight': 2, 'num_leaves': 32, 'lr': 0.4414845391824144, 'colsample_bytree': 0.1967986903887292, 'subsample': 0.7276757883445689, 'learning_rate': 3.1200419558350196}. Best is trial 42 with value: 0.8112879096967225.\u001b[0m\n",
            "\u001b[32m[I 2021-06-03 18:37:36,554]\u001b[0m Trial 61 finished with value: 0.8055079559363525 and parameters: {'max_depth': 13, 'min_child_samples': 23, 'min_child_weight': 2, 'num_leaves': 35, 'lr': 1.822225947488583, 'colsample_bytree': 0.5913225221585867, 'subsample': 0.746063716474154, 'learning_rate': 0.06541033423265569}. Best is trial 42 with value: 0.8112879096967225.\u001b[0m\n",
            "\u001b[32m[I 2021-06-03 18:37:36,650]\u001b[0m Trial 62 finished with value: 0.7973344213246294 and parameters: {'max_depth': 12, 'min_child_samples': 22, 'min_child_weight': 1, 'num_leaves': 33, 'lr': 1.7335146579480156, 'colsample_bytree': 0.572514292949996, 'subsample': 0.6753851697046933, 'learning_rate': 0.7199849678016935}. Best is trial 42 with value: 0.8112879096967225.\u001b[0m\n",
            "\u001b[32m[I 2021-06-03 18:37:36,815]\u001b[0m Trial 63 finished with value: 0.7845097239222086 and parameters: {'max_depth': 13, 'min_child_samples': 23, 'min_child_weight': 2, 'num_leaves': 35, 'lr': 0.7883401013158619, 'colsample_bytree': 0.5227123720024194, 'subsample': 0.7639417848618832, 'learning_rate': 0.004625252997548179}. Best is trial 42 with value: 0.8112879096967225.\u001b[0m\n",
            "\u001b[32m[I 2021-06-03 18:37:36,908]\u001b[0m Trial 64 finished with value: 0.7693118455052359 and parameters: {'max_depth': 11, 'min_child_samples': 25, 'min_child_weight': 3, 'num_leaves': 35, 'lr': 4.055001280992179, 'colsample_bytree': 0.6107322801557902, 'subsample': 0.7319113295584182, 'learning_rate': 0.3556742812753795}. Best is trial 42 with value: 0.8112879096967225.\u001b[0m\n",
            "\u001b[32m[I 2021-06-03 18:37:37,045]\u001b[0m Trial 65 finished with value: 0.7868217054263565 and parameters: {'max_depth': 10, 'min_child_samples': 24, 'min_child_weight': 2, 'num_leaves': 38, 'lr': 0.2617910762180409, 'colsample_bytree': 0.4873772942956277, 'subsample': 0.583328087077016, 'learning_rate': 0.780140405287872}. Best is trial 42 with value: 0.8112879096967225.\u001b[0m\n",
            "\u001b[32m[I 2021-06-03 18:37:37,121]\u001b[0m Trial 66 finished with value: 0.5908540731674147 and parameters: {'max_depth': 14, 'min_child_samples': 26, 'min_child_weight': 1, 'num_leaves': 35, 'lr': 0.0042493338680617415, 'colsample_bytree': 0.4417406860162089, 'subsample': 0.6366388376197876, 'learning_rate': 4.787244724963427}. Best is trial 42 with value: 0.8112879096967225.\u001b[0m\n",
            "\u001b[32m[I 2021-06-03 18:37:37,288]\u001b[0m Trial 67 finished with value: 0.808969128246974 and parameters: {'max_depth': 15, 'min_child_samples': 23, 'min_child_weight': 3, 'num_leaves': 36, 'lr': 1.101949003619704, 'colsample_bytree': 0.7293938444752829, 'subsample': 0.8175269905353111, 'learning_rate': 0.2948511598228916}. Best is trial 42 with value: 0.8112879096967225.\u001b[0m\n",
            "\u001b[32m[I 2021-06-03 18:37:37,387]\u001b[0m Trial 68 finished with value: 0.7798177614579084 and parameters: {'max_depth': 15, 'min_child_samples': 21, 'min_child_weight': 3, 'num_leaves': 38, 'lr': 2.0647136730327684, 'colsample_bytree': 0.8467790611353647, 'subsample': 0.8490946685525871, 'learning_rate': 1.299413420118487}. Best is trial 42 with value: 0.8112879096967225.\u001b[0m\n",
            "\u001b[32m[I 2021-06-03 18:37:37,472]\u001b[0m Trial 69 finished with value: 0.768203454372365 and parameters: {'max_depth': 13, 'min_child_samples': 20, 'min_child_weight': 4, 'num_leaves': 36, 'lr': 3.4192833685731583, 'colsample_bytree': 0.7333753597833041, 'subsample': 0.8792639450544673, 'learning_rate': 1.6149015366432318}. Best is trial 42 with value: 0.8112879096967225.\u001b[0m\n",
            "\u001b[32m[I 2021-06-03 18:37:37,644]\u001b[0m Trial 70 finished with value: 0.7856929144566844 and parameters: {'max_depth': 16, 'min_child_samples': 23, 'min_child_weight': 3, 'num_leaves': 39, 'lr': 1.073407648883857, 'colsample_bytree': 0.7132272166061169, 'subsample': 0.9489476321004964, 'learning_rate': 0.010649731365857784}. Best is trial 42 with value: 0.8112879096967225.\u001b[0m\n",
            "\u001b[32m[I 2021-06-03 18:37:37,810]\u001b[0m Trial 71 finished with value: 0.8019923840609275 and parameters: {'max_depth': 12, 'min_child_samples': 22, 'min_child_weight': 2, 'num_leaves': 34, 'lr': 0.7981766000449766, 'colsample_bytree': 0.5844756044488519, 'subsample': 0.7791522885927079, 'learning_rate': 0.2784750126199748}. Best is trial 42 with value: 0.8112879096967225.\u001b[0m\n",
            "\u001b[32m[I 2021-06-03 18:37:37,917]\u001b[0m Trial 72 finished with value: 0.803168774649803 and parameters: {'max_depth': 14, 'min_child_samples': 25, 'min_child_weight': 2, 'num_leaves': 37, 'lr': 1.8075442370558628, 'colsample_bytree': 0.5468118066453939, 'subsample': 0.735216767351366, 'learning_rate': 0.6082728643802346}. Best is trial 42 with value: 0.8112879096967225.\u001b[0m\n",
            "\u001b[32m[I 2021-06-03 18:37:38,007]\u001b[0m Trial 73 finished with value: 0.7798313613491091 and parameters: {'max_depth': 13, 'min_child_samples': 23, 'min_child_weight': 3, 'num_leaves': 40, 'lr': 2.39109563530932, 'colsample_bytree': 0.6187147197923355, 'subsample': 0.8243616835973158, 'learning_rate': 0.9559401315196172}. Best is trial 42 with value: 0.8112879096967225.\u001b[0m\n",
            "\u001b[32m[I 2021-06-03 18:37:38,126]\u001b[0m Trial 74 finished with value: 0.7961512307901537 and parameters: {'max_depth': 15, 'min_child_samples': 22, 'min_child_weight': 5, 'num_leaves': 37, 'lr': 1.8145635394279895, 'colsample_bytree': 0.6687690553190067, 'subsample': 0.7453141977370994, 'learning_rate': 0.5925877780363242}. Best is trial 42 with value: 0.8112879096967225.\u001b[0m\n",
            "\u001b[32m[I 2021-06-03 18:37:38,219]\u001b[0m Trial 75 finished with value: 0.7728342173262613 and parameters: {'max_depth': 14, 'min_child_samples': 24, 'min_child_weight': 2, 'num_leaves': 36, 'lr': 1.3533385118051555, 'colsample_bytree': 0.005696544055031616, 'subsample': 0.7169243951255211, 'learning_rate': 0.17846271167482342}. Best is trial 42 with value: 0.8112879096967225.\u001b[0m\n",
            "\u001b[32m[I 2021-06-03 18:37:38,300]\u001b[0m Trial 76 finished with value: 0.7915204678362573 and parameters: {'max_depth': 13, 'min_child_samples': 27, 'min_child_weight': 1, 'num_leaves': 38, 'lr': 2.8202625487593425, 'colsample_bytree': 0.5378216598306074, 'subsample': 0.8075884177050878, 'learning_rate': 1.1072359041517503}. Best is trial 42 with value: 0.8112879096967225.\u001b[0m\n",
            "\u001b[32m[I 2021-06-03 18:37:38,411]\u001b[0m Trial 77 finished with value: 0.7996056031551747 and parameters: {'max_depth': 16, 'min_child_samples': 26, 'min_child_weight': 9, 'num_leaves': 36, 'lr': 1.6162490173176054, 'colsample_bytree': 0.49706280381972257, 'subsample': 0.6726864197576975, 'learning_rate': 0.6669398073004742}. Best is trial 42 with value: 0.8112879096967225.\u001b[0m\n",
            "\u001b[32m[I 2021-06-03 18:37:38,496]\u001b[0m Trial 78 finished with value: 0.8066435468516252 and parameters: {'max_depth': 15, 'min_child_samples': 25, 'min_child_weight': 3, 'num_leaves': 37, 'lr': 3.1160343548299605, 'colsample_bytree': 0.7515714174536796, 'subsample': 0.9237166794544995, 'learning_rate': 1.8122376466459924}. Best is trial 42 with value: 0.8112879096967225.\u001b[0m\n",
            "\u001b[32m[I 2021-06-03 18:37:38,581]\u001b[0m Trial 79 finished with value: 0.7996396028831769 and parameters: {'max_depth': 15, 'min_child_samples': 24, 'min_child_weight': 4, 'num_leaves': 35, 'lr': 3.1640146906432185, 'colsample_bytree': 0.7639405473053774, 'subsample': 0.9394201855054588, 'learning_rate': 1.8158324898523346}. Best is trial 42 with value: 0.8112879096967225.\u001b[0m\n",
            "\u001b[32m[I 2021-06-03 18:37:38,651]\u001b[0m Trial 80 finished with value: 0.5198014415884673 and parameters: {'max_depth': 17, 'min_child_samples': 23, 'min_child_weight': 3, 'num_leaves': 32, 'lr': 4.70760458831937, 'colsample_bytree': 0.7098667153684242, 'subsample': 0.9162910159025903, 'learning_rate': 4.22928570202659}. Best is trial 42 with value: 0.8112879096967225.\u001b[0m\n",
            "\u001b[32m[I 2021-06-03 18:37:38,743]\u001b[0m Trial 81 finished with value: 0.7926492588059295 and parameters: {'max_depth': 16, 'min_child_samples': 25, 'min_child_weight': 2, 'num_leaves': 37, 'lr': 2.5447429687917618, 'colsample_bytree': 0.8128305282330336, 'subsample': 0.8709665962150259, 'learning_rate': 0.7974090701824734}. Best is trial 42 with value: 0.8112879096967225.\u001b[0m\n",
            "\u001b[32m[I 2021-06-03 18:37:38,887]\u001b[0m Trial 82 finished with value: 0.8008091935264519 and parameters: {'max_depth': 14, 'min_child_samples': 27, 'min_child_weight': 3, 'num_leaves': 36, 'lr': 1.097851585575849, 'colsample_bytree': 0.5499641381711384, 'subsample': 0.7674238905394302, 'learning_rate': 0.35674781459550675}. Best is trial 42 with value: 0.8112879096967225.\u001b[0m\n",
            "\u001b[32m[I 2021-06-03 18:37:39,034]\u001b[0m Trial 83 finished with value: 0.7459880320957432 and parameters: {'max_depth': 15, 'min_child_samples': 25, 'min_child_weight': 4, 'num_leaves': 21, 'lr': 2.204953615757789, 'colsample_bytree': 0.6583793249969838, 'subsample': 0.6003569490195738, 'learning_rate': 0.0020837878866306614}. Best is trial 42 with value: 0.8112879096967225.\u001b[0m\n",
            "\u001b[32m[I 2021-06-03 18:37:39,121]\u001b[0m Trial 84 finished with value: 0.7704814361485107 and parameters: {'max_depth': 14, 'min_child_samples': 21, 'min_child_weight': 3, 'num_leaves': 37, 'lr': 5.482289193690435, 'colsample_bytree': 0.7528827350111994, 'subsample': 0.6955700513665557, 'learning_rate': 0.5660373467298403}. Best is trial 42 with value: 0.8112879096967225.\u001b[0m\n",
            "\u001b[32m[I 2021-06-03 18:37:39,221]\u001b[0m Trial 85 finished with value: 0.8077723378212974 and parameters: {'max_depth': 12, 'min_child_samples': 22, 'min_child_weight': 2, 'num_leaves': 39, 'lr': 0.6985918607657077, 'colsample_bytree': 0.6277371361185144, 'subsample': 0.8002524843565305, 'learning_rate': 1.4461067856672534}. Best is trial 42 with value: 0.8112879096967225.\u001b[0m\n",
            "\u001b[32m[I 2021-06-03 18:37:39,324]\u001b[0m Trial 86 finished with value: 0.786780905752754 and parameters: {'max_depth': 12, 'min_child_samples': 22, 'min_child_weight': 1, 'num_leaves': 39, 'lr': 0.6388398768842568, 'colsample_bytree': 0.6904715597664196, 'subsample': 0.799996644925646, 'learning_rate': 1.4325615466563912}. Best is trial 42 with value: 0.8112879096967225.\u001b[0m\n",
            "\u001b[32m[I 2021-06-03 18:37:39,474]\u001b[0m Trial 87 finished with value: 0.7973140214878282 and parameters: {'max_depth': 11, 'min_child_samples': 20, 'min_child_weight': 3, 'num_leaves': 39, 'lr': 0.3130570297924298, 'colsample_bytree': 0.7959724014487908, 'subsample': 0.8307907060011116, 'learning_rate': 0.9500929781499772}. Best is trial 42 with value: 0.8112879096967225.\u001b[0m\n",
            "\u001b[32m[I 2021-06-03 18:37:39,559]\u001b[0m Trial 88 finished with value: 0.5570583435332518 and parameters: {'max_depth': 12, 'min_child_samples': 21, 'min_child_weight': 2, 'num_leaves': 33, 'lr': 0.9329500574077063, 'colsample_bytree': 0.6256544884169435, 'subsample': 0.8636361726630674, 'learning_rate': 2.25341845658869}. Best is trial 42 with value: 0.8112879096967225.\u001b[0m\n",
            "\u001b[32m[I 2021-06-03 18:37:39,678]\u001b[0m Trial 89 finished with value: 0.799673602611179 and parameters: {'max_depth': 18, 'min_child_samples': 22, 'min_child_weight': 6, 'num_leaves': 40, 'lr': 0.6967280764110234, 'colsample_bytree': 0.5938090494803133, 'subsample': 0.898821551933394, 'learning_rate': 1.244511397722464}. Best is trial 42 with value: 0.8112879096967225.\u001b[0m\n",
            "\u001b[32m[I 2021-06-03 18:37:39,753]\u001b[0m Trial 90 finished with value: 0.5594315245478036 and parameters: {'max_depth': 10, 'min_child_samples': 23, 'min_child_weight': 1, 'num_leaves': 38, 'lr': 0.2955741588163349, 'colsample_bytree': 0.8743507272804588, 'subsample': 0.5085780261716738, 'learning_rate': 2.6767846980063172}. Best is trial 42 with value: 0.8112879096967225.\u001b[0m\n",
            "\u001b[32m[I 2021-06-03 18:37:39,891]\u001b[0m Trial 91 finished with value: 0.8066571467428261 and parameters: {'max_depth': 13, 'min_child_samples': 24, 'min_child_weight': 2, 'num_leaves': 35, 'lr': 1.874939222156316, 'colsample_bytree': 0.5776629800380763, 'subsample': 0.7538306927716121, 'learning_rate': 0.23852874801385052}. Best is trial 42 with value: 0.8112879096967225.\u001b[0m\n",
            "\u001b[32m[I 2021-06-03 18:37:40,051]\u001b[0m Trial 92 finished with value: 0.7973412212702298 and parameters: {'max_depth': 13, 'min_child_samples': 24, 'min_child_weight': 2, 'num_leaves': 35, 'lr': 1.4755988914187301, 'colsample_bytree': 0.5756370006246339, 'subsample': 0.7875594871819842, 'learning_rate': 0.17279610775307108}. Best is trial 42 with value: 0.8112879096967225.\u001b[0m\n",
            "\u001b[32m[I 2021-06-03 18:37:40,160]\u001b[0m Trial 93 finished with value: 0.7996260029919761 and parameters: {'max_depth': 13, 'min_child_samples': 23, 'min_child_weight': 2, 'num_leaves': 35, 'lr': 1.245160248401816, 'colsample_bytree': 0.7487925865700237, 'subsample': 0.7112603881400847, 'learning_rate': 1.5330584256565454}. Best is trial 42 with value: 0.8112879096967225.\u001b[0m\n",
            "\u001b[32m[I 2021-06-03 18:37:40,227]\u001b[0m Trial 94 finished with value: 0.5491092071263429 and parameters: {'max_depth': 12, 'min_child_samples': 24, 'min_child_weight': 3, 'num_leaves': 34, 'lr': 0.9597136147688514, 'colsample_bytree': 0.659136444203411, 'subsample': 0.6582713934106766, 'learning_rate': 9.993502521396723}. Best is trial 42 with value: 0.8112879096967225.\u001b[0m\n",
            "\u001b[32m[I 2021-06-03 18:37:40,297]\u001b[0m Trial 95 finished with value: 0.5290765673874609 and parameters: {'max_depth': 13, 'min_child_samples': 24, 'min_child_weight': 7, 'num_leaves': 25, 'lr': 3.060919160523864, 'colsample_bytree': 0.6332031533355763, 'subsample': 0.7608931452481144, 'learning_rate': 5.437969638665791}. Best is trial 42 with value: 0.8112879096967225.\u001b[0m\n",
            "\u001b[32m[I 2021-06-03 18:37:40,397]\u001b[0m Trial 96 finished with value: 0.7634434924520603 and parameters: {'max_depth': 15, 'min_child_samples': 22, 'min_child_weight': 2, 'num_leaves': 34, 'lr': 0.6623677096047434, 'colsample_bytree': 0.7029164400136347, 'subsample': 0.8427926920866068, 'learning_rate': 1.9895503501849858}. Best is trial 42 with value: 0.8112879096967225.\u001b[0m\n",
            "\u001b[32m[I 2021-06-03 18:37:40,492]\u001b[0m Trial 97 finished with value: 0.8031143750849992 and parameters: {'max_depth': 14, 'min_child_samples': 26, 'min_child_weight': 1, 'num_leaves': 36, 'lr': 1.974637596217737, 'colsample_bytree': 0.5215830621470742, 'subsample': 0.6848239155647695, 'learning_rate': 0.9554930898048999}. Best is trial 42 with value: 0.8112879096967225.\u001b[0m\n",
            "\u001b[32m[I 2021-06-03 18:37:40,604]\u001b[0m Trial 98 finished with value: 0.7926696586427309 and parameters: {'max_depth': 11, 'min_child_samples': 23, 'min_child_weight': 2, 'num_leaves': 33, 'lr': 3.792201538115556, 'colsample_bytree': 0.5630514442717973, 'subsample': 0.7498723638140506, 'learning_rate': 0.22300559462366165}. Best is trial 42 with value: 0.8112879096967225.\u001b[0m\n",
            "\u001b[32m[I 2021-06-03 18:37:40,768]\u001b[0m Trial 99 finished with value: 0.7553039575683395 and parameters: {'max_depth': 5, 'min_child_samples': 21, 'min_child_weight': 3, 'num_leaves': 36, 'lr': 0.2768747230847487, 'colsample_bytree': 0.5986525845264086, 'subsample': 0.81205673895139, 'learning_rate': 0.0016821855636153238}. Best is trial 42 with value: 0.8112879096967225.\u001b[0m\n",
            "\u001b[32m[I 2021-06-03 18:37:40,899]\u001b[0m Trial 100 finished with value: 0.8054875560995512 and parameters: {'max_depth': 14, 'min_child_samples': 23, 'min_child_weight': 4, 'num_leaves': 38, 'lr': 1.2267347122483208, 'colsample_bytree': 0.7278795517960356, 'subsample': 0.6512749314063745, 'learning_rate': 0.5262868880569485}. Best is trial 42 with value: 0.8112879096967225.\u001b[0m\n",
            "\u001b[32m[I 2021-06-03 18:37:41,037]\u001b[0m Trial 101 finished with value: 0.8078063375492996 and parameters: {'max_depth': 14, 'min_child_samples': 23, 'min_child_weight': 5, 'num_leaves': 38, 'lr': 1.2564108198209427, 'colsample_bytree': 0.729850171571166, 'subsample': 0.6102443231837165, 'learning_rate': 0.458862908874463}. Best is trial 42 with value: 0.8112879096967225.\u001b[0m\n",
            "\u001b[32m[I 2021-06-03 18:37:41,158]\u001b[0m Trial 102 finished with value: 0.793812049503604 and parameters: {'max_depth': 13, 'min_child_samples': 24, 'min_child_weight': 5, 'num_leaves': 39, 'lr': 1.4958200782769633, 'colsample_bytree': 0.8326875311114237, 'subsample': 0.6140948375336666, 'learning_rate': 0.822743971586665}. Best is trial 42 with value: 0.8112879096967225.\u001b[0m\n",
            "\u001b[32m[I 2021-06-03 18:37:41,319]\u001b[0m Trial 103 finished with value: 0.8159798721610227 and parameters: {'max_depth': 15, 'min_child_samples': 22, 'min_child_weight': 6, 'num_leaves': 23, 'lr': 0.5016677434622199, 'colsample_bytree': 0.6775501119195891, 'subsample': 0.5778178624683207, 'learning_rate': 0.3837800728307233}. Best is trial 103 with value: 0.8159798721610227.\u001b[0m\n",
            "\u001b[32m[I 2021-06-03 18:37:41,471]\u001b[0m Trial 104 finished with value: 0.7937984496124031 and parameters: {'max_depth': 15, 'min_child_samples': 22, 'min_child_weight': 6, 'num_leaves': 21, 'lr': 0.8869736859585764, 'colsample_bytree': 0.6826112705957141, 'subsample': 0.5654557399190105, 'learning_rate': 0.40182450894260185}. Best is trial 103 with value: 0.8159798721610227.\u001b[0m\n",
            "\u001b[32m[I 2021-06-03 18:37:41,597]\u001b[0m Trial 105 finished with value: 0.7879504963960289 and parameters: {'max_depth': 16, 'min_child_samples': 22, 'min_child_weight': 6, 'num_leaves': 23, 'lr': 0.515852133102495, 'colsample_bytree': 0.7824538115016778, 'subsample': 0.5865017693520862, 'learning_rate': 1.2746442098997715}. Best is trial 103 with value: 0.8159798721610227.\u001b[0m\n",
            "\u001b[32m[I 2021-06-03 18:37:41,665]\u001b[0m Trial 106 finished with value: 0.6830205358357133 and parameters: {'max_depth': 15, 'min_child_samples': 21, 'min_child_weight': 7, 'num_leaves': 21, 'lr': 0.1994028202728524, 'colsample_bytree': 0.6728355783431389, 'subsample': 0.6240938024508137, 'learning_rate': 8.554585444159592}. Best is trial 103 with value: 0.8159798721610227.\u001b[0m\n",
            "\u001b[32m[I 2021-06-03 18:37:41,794]\u001b[0m Trial 107 finished with value: 0.7832925336597307 and parameters: {'max_depth': 15, 'min_child_samples': 20, 'min_child_weight': 5, 'num_leaves': 23, 'lr': 0.47943280603096516, 'colsample_bytree': 0.7452341529888307, 'subsample': 0.5305670458207835, 'learning_rate': 1.1187439322274155}. Best is trial 103 with value: 0.8159798721610227.\u001b[0m\n",
            "\u001b[32m[I 2021-06-03 18:37:41,897]\u001b[0m Trial 108 finished with value: 0.789140486876105 and parameters: {'max_depth': 14, 'min_child_samples': 19, 'min_child_weight': 5, 'num_leaves': 22, 'lr': 1.0691066548910935, 'colsample_bytree': 0.7737314674394516, 'subsample': 0.5648399784189437, 'learning_rate': 1.6799711395733508}. Best is trial 103 with value: 0.8159798721610227.\u001b[0m\n",
            "\u001b[32m[I 2021-06-03 18:37:42,048]\u001b[0m Trial 109 finished with value: 0.8031347749218007 and parameters: {'max_depth': 18, 'min_child_samples': 23, 'min_child_weight': 6, 'num_leaves': 37, 'lr': 0.024033773368882835, 'colsample_bytree': 0.7159937709630182, 'subsample': 0.588274803933248, 'learning_rate': 0.24868764386225986}. Best is trial 103 with value: 0.8159798721610227.\u001b[0m\n",
            "\u001b[32m[I 2021-06-03 18:37:42,184]\u001b[0m Trial 110 finished with value: 0.7996464028287773 and parameters: {'max_depth': 16, 'min_child_samples': 24, 'min_child_weight': 4, 'num_leaves': 25, 'lr': 0.8136134421933569, 'colsample_bytree': 0.6468473207869911, 'subsample': 0.53730544337498, 'learning_rate': 0.8228851484020011}. Best is trial 103 with value: 0.8159798721610227.\u001b[0m\n",
            "\u001b[32m[I 2021-06-03 18:37:42,324]\u001b[0m Trial 111 finished with value: 0.8042771657826737 and parameters: {'max_depth': 13, 'min_child_samples': 23, 'min_child_weight': 5, 'num_leaves': 38, 'lr': 0.6545315981369028, 'colsample_bytree': 0.6063833167622776, 'subsample': 0.7162804992672409, 'learning_rate': 0.5477322262526112}. Best is trial 103 with value: 0.8159798721610227.\u001b[0m\n",
            "\u001b[32m[I 2021-06-03 18:37:42,492]\u001b[0m Trial 112 finished with value: 0.7973208214334286 and parameters: {'max_depth': 14, 'min_child_samples': 25, 'min_child_weight': 2, 'num_leaves': 35, 'lr': 1.4770338286767508, 'colsample_bytree': 0.6324418248673942, 'subsample': 0.6863445193552055, 'learning_rate': 0.16931956288808814}. Best is trial 103 with value: 0.8159798721610227.\u001b[0m\n",
            "\u001b[32m[I 2021-06-03 18:37:42,614]\u001b[0m Trial 113 finished with value: 0.7973208214334286 and parameters: {'max_depth': 12, 'min_child_samples': 22, 'min_child_weight': 6, 'num_leaves': 24, 'lr': 1.203607797536275, 'colsample_bytree': 0.5715779670703034, 'subsample': 0.7763859908467716, 'learning_rate': 0.6832559972941495}. Best is trial 103 with value: 0.8159798721610227.\u001b[0m\n",
            "\u001b[32m[I 2021-06-03 18:37:42,732]\u001b[0m Trial 114 finished with value: 0.8054807561539509 and parameters: {'max_depth': 17, 'min_child_samples': 24, 'min_child_weight': 1, 'num_leaves': 40, 'lr': 1.8358247543353754, 'colsample_bytree': 0.6950567858901643, 'subsample': 0.6560430273708167, 'learning_rate': 0.4354981632962669}. Best is trial 103 with value: 0.8159798721610227.\u001b[0m\n",
            "\u001b[32m[I 2021-06-03 18:37:42,878]\u001b[0m Trial 115 finished with value: 0.7926968584251325 and parameters: {'max_depth': 14, 'min_child_samples': 23, 'min_child_weight': 3, 'num_leaves': 36, 'lr': 1.6277687399521659, 'colsample_bytree': 0.49947516206398374, 'subsample': 0.6033869599282207, 'learning_rate': 0.03632139126815076}. Best is trial 103 with value: 0.8159798721610227.\u001b[0m\n",
            "\u001b[32m[I 2021-06-03 18:37:43,056]\u001b[0m Trial 116 finished with value: 0.8078063375492996 and parameters: {'max_depth': 13, 'min_child_samples': 22, 'min_child_weight': 2, 'num_leaves': 37, 'lr': 0.38031151213521547, 'colsample_bytree': 0.7234406849343783, 'subsample': 0.7442844280727695, 'learning_rate': 0.3477250724631905}. Best is trial 103 with value: 0.8159798721610227.\u001b[0m\n",
            "\u001b[32m[I 2021-06-03 18:37:43,215]\u001b[0m Trial 117 finished with value: 0.8031279749762001 and parameters: {'max_depth': 15, 'min_child_samples': 22, 'min_child_weight': 2, 'num_leaves': 37, 'lr': 0.3626003774993237, 'colsample_bytree': 0.7289572579830729, 'subsample': 0.6407560200134454, 'learning_rate': 0.9094535682953145}. Best is trial 103 with value: 0.8159798721610227.\u001b[0m\n",
            "\u001b[32m[I 2021-06-03 18:37:43,290]\u001b[0m Trial 118 finished with value: 0.5268529851761186 and parameters: {'max_depth': 14, 'min_child_samples': 21, 'min_child_weight': 7, 'num_leaves': 38, 'lr': 0.1596325480359155, 'colsample_bytree': 0.7960459977690019, 'subsample': 0.4771234919798931, 'learning_rate': 3.565852083337827}. Best is trial 103 with value: 0.8159798721610227.\u001b[0m\n",
            "\u001b[32m[I 2021-06-03 18:37:43,470]\u001b[0m Trial 119 finished with value: 0.8077927376580988 and parameters: {'max_depth': 15, 'min_child_samples': 22, 'min_child_weight': 3, 'num_leaves': 39, 'lr': 0.5173278735213422, 'colsample_bytree': 0.7614119258421008, 'subsample': 0.7972315474658089, 'learning_rate': 0.3232654303165013}. Best is trial 103 with value: 0.8159798721610227.\u001b[0m\n",
            "\u001b[32m[I 2021-06-03 18:37:43,602]\u001b[0m Trial 120 finished with value: 0.8043179654562763 and parameters: {'max_depth': 19, 'min_child_samples': 21, 'min_child_weight': 5, 'num_leaves': 39, 'lr': 0.009219295655737689, 'colsample_bytree': 0.3845202760602594, 'subsample': 0.7927437120665795, 'learning_rate': 0.32424846141140445}. Best is trial 103 with value: 0.8159798721610227.\u001b[0m\n",
            "\u001b[32m[I 2021-06-03 18:37:43,750]\u001b[0m Trial 121 finished with value: 0.7868149054807562 and parameters: {'max_depth': 15, 'min_child_samples': 22, 'min_child_weight': 4, 'num_leaves': 40, 'lr': 0.5185637474924385, 'colsample_bytree': 0.7536701185866378, 'subsample': 0.7231590691522554, 'learning_rate': 0.667595664506034}. Best is trial 103 with value: 0.8159798721610227.\u001b[0m\n",
            "\u001b[32m[I 2021-06-03 18:37:43,858]\u001b[0m Trial 122 finished with value: 0.7937712498300014 and parameters: {'max_depth': 13, 'min_child_samples': 25, 'min_child_weight': 3, 'num_leaves': 37, 'lr': 0.9161888009598254, 'colsample_bytree': 0.829541322073996, 'subsample': 0.7418906821721466, 'learning_rate': 1.119292701862744}. Best is trial 103 with value: 0.8159798721610227.\u001b[0m\n",
            "\u001b[32m[I 2021-06-03 18:37:44,022]\u001b[0m Trial 123 finished with value: 0.8078335373317012 and parameters: {'max_depth': 15, 'min_child_samples': 22, 'min_child_weight': 3, 'num_leaves': 39, 'lr': 0.7118643801429344, 'colsample_bytree': 0.714756845298917, 'subsample': 0.9977382945792188, 'learning_rate': 0.446265490392122}. Best is trial 103 with value: 0.8159798721610227.\u001b[0m\n",
            "\u001b[32m[I 2021-06-03 18:37:44,173]\u001b[0m Trial 124 finished with value: 0.8031415748674011 and parameters: {'max_depth': 14, 'min_child_samples': 22, 'min_child_weight': 3, 'num_leaves': 39, 'lr': 0.7177081195510933, 'colsample_bytree': 0.6643094121183738, 'subsample': 0.6195390541580094, 'learning_rate': 0.49317929670164806}. Best is trial 103 with value: 0.8159798721610227.\u001b[0m\n",
            "\u001b[32m[I 2021-06-03 18:37:44,387]\u001b[0m Trial 125 finished with value: 0.7996600027199783 and parameters: {'max_depth': 13, 'min_child_samples': 20, 'min_child_weight': 2, 'num_leaves': 39, 'lr': 0.3402849504977745, 'colsample_bytree': 0.7172019588030004, 'subsample': 0.672625286464811, 'learning_rate': 0.013819021413237764}. Best is trial 103 with value: 0.8159798721610227.\u001b[0m\n",
            "\u001b[32m[I 2021-06-03 18:37:44,558]\u001b[0m Trial 126 finished with value: 0.8066639466884264 and parameters: {'max_depth': 16, 'min_child_samples': 21, 'min_child_weight': 4, 'num_leaves': 40, 'lr': 0.20027514374484498, 'colsample_bytree': 0.6823036345342574, 'subsample': 0.20173271090640255, 'learning_rate': 0.23950739304947238}. Best is trial 103 with value: 0.8159798721610227.\u001b[0m\n",
            "\u001b[32m[I 2021-06-03 18:37:44,717]\u001b[0m Trial 127 finished with value: 0.803155174758602 and parameters: {'max_depth': 16, 'min_child_samples': 19, 'min_child_weight': 4, 'num_leaves': 38, 'lr': 0.01214282346966522, 'colsample_bytree': 0.6880008550435543, 'subsample': 0.9683937689358808, 'learning_rate': 0.37711288825711486}. Best is trial 103 with value: 0.8159798721610227.\u001b[0m\n",
            "\u001b[32m[I 2021-06-03 18:37:44,862]\u001b[0m Trial 128 finished with value: 0.7937780497756017 and parameters: {'max_depth': 16, 'min_child_samples': 21, 'min_child_weight': 4, 'num_leaves': 40, 'lr': 0.20408300076374014, 'colsample_bytree': 0.7979081635220935, 'subsample': 0.22148776954604962, 'learning_rate': 0.7243983090010677}. Best is trial 103 with value: 0.8159798721610227.\u001b[0m\n",
            "\u001b[32m[I 2021-06-03 18:37:45,043]\u001b[0m Trial 129 finished with value: 0.7949612403100775 and parameters: {'max_depth': 15, 'min_child_samples': 20, 'min_child_weight': 5, 'num_leaves': 39, 'lr': 0.5390413326408484, 'colsample_bytree': 0.774731883630084, 'subsample': 0.08980646997768293, 'learning_rate': 0.11757272772109345}. Best is trial 103 with value: 0.8159798721610227.\u001b[0m\n",
            "\u001b[32m[I 2021-06-03 18:37:45,121]\u001b[0m Trial 130 finished with value: 0.7343397252821978 and parameters: {'max_depth': 17, 'min_child_samples': 22, 'min_child_weight': 3, 'num_leaves': 40, 'lr': 7.6970326639709725, 'colsample_bytree': 0.7030146002683667, 'subsample': 0.06506457061063678, 'learning_rate': 0.9928199929981861}. Best is trial 103 with value: 0.8159798721610227.\u001b[0m\n",
            "\u001b[32m[I 2021-06-03 18:37:45,222]\u001b[0m Trial 131 finished with value: 0.7471644226846185 and parameters: {'max_depth': 14, 'min_child_samples': 21, 'min_child_weight': 2, 'num_leaves': 38, 'lr': 6.677223111175973, 'colsample_bytree': 0.6524257055554481, 'subsample': 0.7051479887925104, 'learning_rate': 0.25154839405683393}. Best is trial 103 with value: 0.8159798721610227.\u001b[0m\n",
            "\u001b[32m[I 2021-06-03 18:37:45,377]\u001b[0m Trial 132 finished with value: 0.8066231470148238 and parameters: {'max_depth': 15, 'min_child_samples': 23, 'min_child_weight': 3, 'num_leaves': 39, 'lr': 0.7969548316042816, 'colsample_bytree': 0.7264198549348729, 'subsample': 0.8142268964319996, 'learning_rate': 0.49301484656165706}. Best is trial 103 with value: 0.8159798721610227.\u001b[0m\n",
            "\u001b[32m[I 2021-06-03 18:37:45,544]\u001b[0m Trial 133 finished with value: 0.775125798993608 and parameters: {'max_depth': 18, 'min_child_samples': 22, 'min_child_weight': 5, 'num_leaves': 38, 'lr': 1.0392143138650818, 'colsample_bytree': 0.5337006924999523, 'subsample': 0.3042420900804914, 'learning_rate': 0.002359810475336843}. Best is trial 103 with value: 0.8159798721610227.\u001b[0m\n",
            "\u001b[32m[I 2021-06-03 18:37:45,708]\u001b[0m Trial 134 finished with value: 0.8066707466340268 and parameters: {'max_depth': 14, 'min_child_samples': 23, 'min_child_weight': 4, 'num_leaves': 20, 'lr': 0.521056406438552, 'colsample_bytree': 0.6775208863545956, 'subsample': 0.7693157356666509, 'learning_rate': 0.2533959360920152}. Best is trial 103 with value: 0.8159798721610227.\u001b[0m\n",
            "\u001b[32m[I 2021-06-03 18:37:45,850]\u001b[0m Trial 135 finished with value: 0.7961444308445532 and parameters: {'max_depth': 15, 'min_child_samples': 23, 'min_child_weight': 4, 'num_leaves': 20, 'lr': 0.4128457904622796, 'colsample_bytree': 0.6777841139626508, 'subsample': 0.7730656800940934, 'learning_rate': 0.6717247003379936}. Best is trial 103 with value: 0.8159798721610227.\u001b[0m\n",
            "\u001b[32m[I 2021-06-03 18:37:46,012]\u001b[0m Trial 136 finished with value: 0.8043179654562763 and parameters: {'max_depth': 14, 'min_child_samples': 21, 'min_child_weight': 4, 'num_leaves': 22, 'lr': 0.23455668297289206, 'colsample_bytree': 0.7002060382913258, 'subsample': 0.8408442747672721, 'learning_rate': 0.3345522995448351}. Best is trial 103 with value: 0.8159798721610227.\u001b[0m\n",
            "\u001b[32m[I 2021-06-03 18:37:46,182]\u001b[0m Trial 137 finished with value: 0.5419284645722834 and parameters: {'max_depth': 16, 'min_child_samples': 22, 'min_child_weight': 5, 'num_leaves': 21, 'lr': 0.001384218169200313, 'colsample_bytree': 0.4357067960722215, 'subsample': 0.5565360693169531, 'learning_rate': 0.00034703334992641777}. Best is trial 103 with value: 0.8159798721610227.\u001b[0m\n",
            "\u001b[32m[I 2021-06-03 18:37:46,341]\u001b[0m Trial 138 finished with value: 0.7984632122943017 and parameters: {'max_depth': 14, 'min_child_samples': 23, 'min_child_weight': 3, 'num_leaves': 40, 'lr': 0.6152388286558503, 'colsample_bytree': 0.7350330564576867, 'subsample': 0.6936304804502107, 'learning_rate': 0.5945342295071594}. Best is trial 103 with value: 0.8159798721610227.\u001b[0m\n",
            "\u001b[32m[I 2021-06-03 18:37:46,480]\u001b[0m Trial 139 finished with value: 0.7984768121855025 and parameters: {'max_depth': 15, 'min_child_samples': 22, 'min_child_weight': 6, 'num_leaves': 31, 'lr': 0.39969308535119785, 'colsample_bytree': 0.6723892396090868, 'subsample': 0.636638636945595, 'learning_rate': 0.8399459893486856}. Best is trial 103 with value: 0.8159798721610227.\u001b[0m\n",
            "\u001b[32m[I 2021-06-03 18:37:46,624]\u001b[0m Trial 140 finished with value: 0.8113423092615258 and parameters: {'max_depth': 14, 'min_child_samples': 21, 'min_child_weight': 3, 'num_leaves': 27, 'lr': 0.773273908832655, 'colsample_bytree': 0.3558115299510566, 'subsample': 0.795272323052741, 'learning_rate': 0.2429559071216204}. Best is trial 103 with value: 0.8159798721610227.\u001b[0m\n",
            "\u001b[32m[I 2021-06-03 18:37:46,772]\u001b[0m Trial 141 finished with value: 0.8078403372773018 and parameters: {'max_depth': 14, 'min_child_samples': 21, 'min_child_weight': 3, 'num_leaves': 28, 'lr': 0.7132260167082038, 'colsample_bytree': 0.35753941464571115, 'subsample': 0.8069138017080266, 'learning_rate': 0.19213790315330484}. Best is trial 103 with value: 0.8159798721610227.\u001b[0m\n",
            "\u001b[32m[I 2021-06-03 18:37:46,905]\u001b[0m Trial 142 finished with value: 0.7973344213246294 and parameters: {'max_depth': 14, 'min_child_samples': 21, 'min_child_weight': 3, 'num_leaves': 27, 'lr': 0.7760604606889185, 'colsample_bytree': 0.3866193480601024, 'subsample': 0.8630885268313304, 'learning_rate': 0.4830281493956621}. Best is trial 103 with value: 0.8159798721610227.\u001b[0m\n",
            "\u001b[32m[I 2021-06-03 18:37:47,052]\u001b[0m Trial 143 finished with value: 0.7996532027743778 and parameters: {'max_depth': 14, 'min_child_samples': 22, 'min_child_weight': 3, 'num_leaves': 26, 'lr': 1.1053222122540132, 'colsample_bytree': 0.34929858667816716, 'subsample': 0.8162404782670678, 'learning_rate': 0.16350733771045023}. Best is trial 103 with value: 0.8159798721610227.\u001b[0m\n",
            "\u001b[32m[I 2021-06-03 18:37:47,199]\u001b[0m Trial 144 finished with value: 0.784516523867809 and parameters: {'max_depth': 13, 'min_child_samples': 21, 'min_child_weight': 3, 'num_leaves': 28, 'lr': 0.9137923187619041, 'colsample_bytree': 0.3080295490520821, 'subsample': 0.796410605160144, 'learning_rate': 0.011176086957419118}. Best is trial 103 with value: 0.8159798721610227.\u001b[0m\n",
            "\u001b[32m[I 2021-06-03 18:37:47,336]\u001b[0m Trial 145 finished with value: 0.7833673330613355 and parameters: {'max_depth': 7, 'min_child_samples': 14, 'min_child_weight': 3, 'num_leaves': 29, 'lr': 0.6326779932744155, 'colsample_bytree': 0.3550009847936216, 'subsample': 0.7731738042979766, 'learning_rate': 0.8129184732826895}. Best is trial 103 with value: 0.8159798721610227.\u001b[0m\n",
            "\u001b[32m[I 2021-06-03 18:37:47,475]\u001b[0m Trial 146 finished with value: 0.8019923840609275 and parameters: {'max_depth': 14, 'min_child_samples': 23, 'min_child_weight': 3, 'num_leaves': 30, 'lr': 0.5989445118542379, 'colsample_bytree': 0.41648226324072823, 'subsample': 0.8842489526825694, 'learning_rate': 0.4056168922224055}. Best is trial 103 with value: 0.8159798721610227.\u001b[0m\n",
            "\u001b[32m[I 2021-06-03 18:37:47,570]\u001b[0m Trial 147 finished with value: 0.7938732490140079 and parameters: {'max_depth': 12, 'min_child_samples': 20, 'min_child_weight': 2, 'num_leaves': 28, 'lr': 1.293243269545596, 'colsample_bytree': 0.3162736772986038, 'subsample': 0.8376107105569149, 'learning_rate': 1.2150803493876905}. Best is trial 103 with value: 0.8159798721610227.\u001b[0m\n",
            "\u001b[32m[I 2021-06-03 18:37:47,715]\u001b[0m Trial 148 finished with value: 0.7903372773017816 and parameters: {'max_depth': 15, 'min_child_samples': 22, 'min_child_weight': 3, 'num_leaves': 27, 'lr': 0.3855996306322013, 'colsample_bytree': 0.459537081862544, 'subsample': 0.7315091747589896, 'learning_rate': 0.6267032110328388}. Best is trial 103 with value: 0.8159798721610227.\u001b[0m\n",
            "\u001b[32m[I 2021-06-03 18:37:47,822]\u001b[0m Trial 149 finished with value: 0.7635590915272678 and parameters: {'max_depth': 13, 'min_child_samples': 23, 'min_child_weight': 2, 'num_leaves': 28, 'lr': 0.9048676715342142, 'colsample_bytree': 0.2405894411928654, 'subsample': 0.794214363482231, 'learning_rate': 0.9542624993876421}. Best is trial 103 with value: 0.8159798721610227.\u001b[0m\n",
            "\u001b[32m[I 2021-06-03 18:37:47,975]\u001b[0m Trial 150 finished with value: 0.8043383652930777 and parameters: {'max_depth': 14, 'min_child_samples': 22, 'min_child_weight': 3, 'num_leaves': 20, 'lr': 0.023073618604079305, 'colsample_bytree': 0.3740355753021468, 'subsample': 0.7548812984850213, 'learning_rate': 0.1857157621113153}. Best is trial 103 with value: 0.8159798721610227.\u001b[0m\n",
            "\u001b[32m[I 2021-06-03 18:37:48,141]\u001b[0m Trial 151 finished with value: 0.8054943560451516 and parameters: {'max_depth': 14, 'min_child_samples': 21, 'min_child_weight': 4, 'num_leaves': 29, 'lr': 0.18411428106343564, 'colsample_bytree': 0.6253578290747894, 'subsample': 0.8255038752225554, 'learning_rate': 0.3249629510974626}. Best is trial 103 with value: 0.8159798721610227.\u001b[0m\n",
            "\u001b[32m[I 2021-06-03 18:37:48,350]\u001b[0m Trial 152 finished with value: 0.7355025159798722 and parameters: {'max_depth': 15, 'min_child_samples': 20, 'min_child_weight': 4, 'num_leaves': 29, 'lr': 0.4857183116907461, 'colsample_bytree': 0.7685792055125648, 'subsample': 0.6047186624545708, 'learning_rate': 0.0008398751365937263}. Best is trial 103 with value: 0.8159798721610227.\u001b[0m\n",
            "\u001b[32m[I 2021-06-03 18:37:48,494]\u001b[0m Trial 153 finished with value: 0.8089963280293757 and parameters: {'max_depth': 15, 'min_child_samples': 21, 'min_child_weight': 4, 'num_leaves': 24, 'lr': 0.1655576833879282, 'colsample_bytree': 0.4075219506045037, 'subsample': 0.1555653336398662, 'learning_rate': 0.22268221744482392}. Best is trial 103 with value: 0.8159798721610227.\u001b[0m\n",
            "\u001b[32m[I 2021-06-03 18:37:48,631]\u001b[0m Trial 154 finished with value: 0.8136542907656737 and parameters: {'max_depth': 15, 'min_child_samples': 22, 'min_child_weight': 5, 'num_leaves': 23, 'lr': 0.6791959698744598, 'colsample_bytree': 0.34848391130260803, 'subsample': 0.784820506181553, 'learning_rate': 0.5045505312101081}. Best is trial 103 with value: 0.8159798721610227.\u001b[0m\n",
            "\u001b[32m[I 2021-06-03 18:37:48,748]\u001b[0m Trial 155 finished with value: 0.7938460492316061 and parameters: {'max_depth': 15, 'min_child_samples': 22, 'min_child_weight': 5, 'num_leaves': 24, 'lr': 0.7735630815659588, 'colsample_bytree': 0.3276945061465721, 'subsample': 0.7995032257492937, 'learning_rate': 0.5401864079631782}. Best is trial 103 with value: 0.8159798721610227.\u001b[0m\n",
            "\u001b[32m[I 2021-06-03 18:37:48,866]\u001b[0m Trial 156 finished with value: 0.8043383652930777 and parameters: {'max_depth': 15, 'min_child_samples': 21, 'min_child_weight': 5, 'num_leaves': 23, 'lr': 1.019353749030497, 'colsample_bytree': 0.3513108543598023, 'subsample': 0.7753372423100036, 'learning_rate': 0.7240655358701973}. Best is trial 103 with value: 0.8159798721610227.\u001b[0m\n",
            "\u001b[32m[I 2021-06-03 18:37:49,000]\u001b[0m Trial 157 finished with value: 0.7681286549707603 and parameters: {'max_depth': 16, 'min_child_samples': 20, 'min_child_weight': 6, 'num_leaves': 22, 'lr': 1.1814927426711916, 'colsample_bytree': 0.29183827714769317, 'subsample': 0.7577213741995882, 'learning_rate': 0.008670999065273244}. Best is trial 103 with value: 0.8159798721610227.\u001b[0m\n",
            "\u001b[32m[I 2021-06-03 18:37:49,124]\u001b[0m Trial 158 finished with value: 0.7973412212702298 and parameters: {'max_depth': 15, 'min_child_samples': 21, 'min_child_weight': 6, 'num_leaves': 23, 'lr': 0.2795159260829933, 'colsample_bytree': 0.4061169305583919, 'subsample': 0.8536752225837637, 'learning_rate': 0.49471121457161926}. Best is trial 103 with value: 0.8159798721610227.\u001b[0m\n",
            "\u001b[32m[I 2021-06-03 18:37:49,240]\u001b[0m Trial 159 finished with value: 0.7763565891472868 and parameters: {'max_depth': 15, 'min_child_samples': 22, 'min_child_weight': 2, 'num_leaves': 26, 'lr': 0.6574639182072884, 'colsample_bytree': 0.3330372519032397, 'subsample': 0.4150487845106039, 'learning_rate': 1.0620736641539053}. Best is trial 103 with value: 0.8159798721610227.\u001b[0m\n",
            "\u001b[32m[I 2021-06-03 18:37:49,386]\u001b[0m Trial 160 finished with value: 0.8101455188358493 and parameters: {'max_depth': 17, 'min_child_samples': 23, 'min_child_weight': 5, 'num_leaves': 24, 'lr': 0.03313580923706022, 'colsample_bytree': 0.3685416813054377, 'subsample': 0.9985548438976057, 'learning_rate': 0.20118446848862215}. Best is trial 103 with value: 0.8159798721610227.\u001b[0m\n",
            "\u001b[32m[I 2021-06-03 18:37:49,524]\u001b[0m Trial 161 finished with value: 0.7996668026655787 and parameters: {'max_depth': 18, 'min_child_samples': 23, 'min_child_weight': 5, 'num_leaves': 24, 'lr': 0.4571516227905176, 'colsample_bytree': 0.38785564859698757, 'subsample': 0.7813258352322968, 'learning_rate': 0.21896876788395245}. Best is trial 103 with value: 0.8159798721610227.\u001b[0m\n",
            "\u001b[32m[I 2021-06-03 18:37:49,597]\u001b[0m Trial 162 finished with value: 0.5628586971304229 and parameters: {'max_depth': 17, 'min_child_samples': 22, 'min_child_weight': 5, 'num_leaves': 25, 'lr': 0.021453848250692353, 'colsample_bytree': 0.3716845818505565, 'subsample': 0.9996743546119454, 'learning_rate': 6.469753906691636}. Best is trial 103 with value: 0.8159798721610227.\u001b[0m\n",
            "\u001b[32m[I 2021-06-03 18:37:49,744]\u001b[0m Trial 163 finished with value: 0.808969128246974 and parameters: {'max_depth': 19, 'min_child_samples': 23, 'min_child_weight': 5, 'num_leaves': 23, 'lr': 0.0076284861259297565, 'colsample_bytree': 0.42935632588552847, 'subsample': 0.9552009723105215, 'learning_rate': 0.4193472464525503}. Best is trial 103 with value: 0.8159798721610227.\u001b[0m\n",
            "\u001b[32m[I 2021-06-03 18:37:49,877]\u001b[0m Trial 164 finished with value: 0.8112879096967223 and parameters: {'max_depth': 19, 'min_child_samples': 23, 'min_child_weight': 5, 'num_leaves': 23, 'lr': 0.19647899430365265, 'colsample_bytree': 0.41636871141599485, 'subsample': 0.9702299201180583, 'learning_rate': 0.42460723867263644}. Best is trial 103 with value: 0.8159798721610227.\u001b[0m\n",
            "\u001b[32m[I 2021-06-03 18:37:50,018]\u001b[0m Trial 165 finished with value: 0.7903372773017816 and parameters: {'max_depth': 19, 'min_child_samples': 24, 'min_child_weight': 5, 'num_leaves': 23, 'lr': 0.2181036415253862, 'colsample_bytree': 0.43192709690666453, 'subsample': 0.9655403796701274, 'learning_rate': 0.7744907124478086}. Best is trial 103 with value: 0.8159798721610227.\u001b[0m\n",
            "\u001b[32m[I 2021-06-03 18:37:50,147]\u001b[0m Trial 166 finished with value: 0.8089759281925744 and parameters: {'max_depth': 19, 'min_child_samples': 23, 'min_child_weight': 5, 'num_leaves': 24, 'lr': 0.8151957127673003, 'colsample_bytree': 0.36192041182851314, 'subsample': 0.9979731235751833, 'learning_rate': 0.39618013475539454}. Best is trial 103 with value: 0.8159798721610227.\u001b[0m\n",
            "\u001b[32m[I 2021-06-03 18:37:50,288]\u001b[0m Trial 167 finished with value: 0.7973140214878282 and parameters: {'max_depth': 19, 'min_child_samples': 23, 'min_child_weight': 5, 'num_leaves': 24, 'lr': 0.013356734857395969, 'colsample_bytree': 0.3639587489478658, 'subsample': 0.9366713377592889, 'learning_rate': 0.3497984248819336}. Best is trial 103 with value: 0.8159798721610227.\u001b[0m\n",
            "\u001b[32m[I 2021-06-03 18:37:50,410]\u001b[0m Trial 168 finished with value: 0.7985108119135047 and parameters: {'max_depth': 19, 'min_child_samples': 24, 'min_child_weight': 5, 'num_leaves': 23, 'lr': 0.8166012120384125, 'colsample_bytree': 0.4050703872803038, 'subsample': 0.9977602187315215, 'learning_rate': 0.5969171593633387}. Best is trial 103 with value: 0.8159798721610227.\u001b[0m\n",
            "\u001b[32m[I 2021-06-03 18:37:50,582]\u001b[0m Trial 169 finished with value: 0.8043451652386782 and parameters: {'max_depth': 20, 'min_child_samples': 23, 'min_child_weight': 5, 'num_leaves': 24, 'lr': 0.36137675253679036, 'colsample_bytree': 0.44293192984066143, 'subsample': 0.9801658689216116, 'learning_rate': 0.014819678427198113}. Best is trial 103 with value: 0.8159798721610227.\u001b[0m\n",
            "\u001b[32m[I 2021-06-03 18:37:50,713]\u001b[0m Trial 170 finished with value: 0.7891472868217054 and parameters: {'max_depth': 19, 'min_child_samples': 23, 'min_child_weight': 5, 'num_leaves': 22, 'lr': 0.005262235267988746, 'colsample_bytree': 0.3330067983620377, 'subsample': 0.9713411780165452, 'learning_rate': 0.15489826505726284}. Best is trial 103 with value: 0.8159798721610227.\u001b[0m\n",
            "\u001b[32m[I 2021-06-03 18:37:50,842]\u001b[0m Trial 171 finished with value: 0.8066231470148238 and parameters: {'max_depth': 18, 'min_child_samples': 22, 'min_child_weight': 5, 'num_leaves': 23, 'lr': 0.6901405599509082, 'colsample_bytree': 0.4007080812894847, 'subsample': 0.9460527769284055, 'learning_rate': 0.4281872518605453}. Best is trial 103 with value: 0.8159798721610227.\u001b[0m\n",
            "\u001b[32m[I 2021-06-03 18:37:50,960]\u001b[0m Trial 172 finished with value: 0.7868421052631579 and parameters: {'max_depth': 20, 'min_child_samples': 22, 'min_child_weight': 5, 'num_leaves': 25, 'lr': 0.9834806780170186, 'colsample_bytree': 0.2653945673849002, 'subsample': 0.9087895698402637, 'learning_rate': 0.6473663977062262}. Best is trial 103 with value: 0.8159798721610227.\u001b[0m\n",
            "\u001b[32m[I 2021-06-03 18:37:51,087]\u001b[0m Trial 173 finished with value: 0.8066367469060246 and parameters: {'max_depth': 18, 'min_child_samples': 23, 'min_child_weight': 6, 'num_leaves': 23, 'lr': 0.28242911599453485, 'colsample_bytree': 0.3462188488229651, 'subsample': 0.996363046347734, 'learning_rate': 0.3872029273339322}. Best is trial 103 with value: 0.8159798721610227.\u001b[0m\n",
            "\u001b[32m[I 2021-06-03 18:37:51,202]\u001b[0m Trial 174 finished with value: 0.8078199374405004 and parameters: {'max_depth': 19, 'min_child_samples': 22, 'min_child_weight': 5, 'num_leaves': 24, 'lr': 1.3184182485649374, 'colsample_bytree': 0.3690801221666357, 'subsample': 0.9581961233970762, 'learning_rate': 0.8837901748794484}. Best is trial 103 with value: 0.8159798721610227.\u001b[0m\n",
            "\u001b[32m[I 2021-06-03 18:37:51,320]\u001b[0m Trial 175 finished with value: 0.7903372773017816 and parameters: {'max_depth': 19, 'min_child_samples': 21, 'min_child_weight': 5, 'num_leaves': 24, 'lr': 1.284644887051876, 'colsample_bytree': 0.3669308260830236, 'subsample': 0.9249592596847884, 'learning_rate': 0.9433001756546016}. Best is trial 103 with value: 0.8159798721610227.\u001b[0m\n",
            "\u001b[32m[I 2021-06-03 18:37:51,452]\u001b[0m Trial 176 finished with value: 0.8008023935808513 and parameters: {'max_depth': 19, 'min_child_samples': 22, 'min_child_weight': 5, 'num_leaves': 22, 'lr': 1.4367432349495317, 'colsample_bytree': 0.385738624673919, 'subsample': 0.9619264760730899, 'learning_rate': 0.14578628449472236}. Best is trial 103 with value: 0.8159798721610227.\u001b[0m\n",
            "\u001b[32m[I 2021-06-03 18:37:51,571]\u001b[0m Trial 177 finished with value: 0.787984496124031 and parameters: {'max_depth': 19, 'min_child_samples': 23, 'min_child_weight': 5, 'num_leaves': 24, 'lr': 1.111580593975699, 'colsample_bytree': 0.4217971910491113, 'subsample': 0.9898981589176872, 'learning_rate': 0.7971094817692786}. Best is trial 103 with value: 0.8159798721610227.\u001b[0m\n",
            "\u001b[32m[I 2021-06-03 18:37:51,690]\u001b[0m Trial 178 finished with value: 0.793812049503604 and parameters: {'max_depth': 18, 'min_child_samples': 24, 'min_child_weight': 5, 'num_leaves': 25, 'lr': 0.8677124942686265, 'colsample_bytree': 0.324093892183184, 'subsample': 0.9443640209444333, 'learning_rate': 0.49208096333232404}. Best is trial 103 with value: 0.8159798721610227.\u001b[0m\n",
            "\u001b[32m[I 2021-06-03 18:37:51,771]\u001b[0m Trial 179 finished with value: 0.717985856113151 and parameters: {'max_depth': 20, 'min_child_samples': 22, 'min_child_weight': 6, 'num_leaves': 23, 'lr': 9.905632070359353, 'colsample_bytree': 0.4516533969634415, 'subsample': 0.58538879946553, 'learning_rate': 0.20773153432622476}. Best is trial 103 with value: 0.8159798721610227.\u001b[0m\n",
            "\u001b[32m[I 2021-06-03 18:37:51,900]\u001b[0m Trial 180 finished with value: 0.7844757241942064 and parameters: {'max_depth': 19, 'min_child_samples': 22, 'min_child_weight': 5, 'num_leaves': 24, 'lr': 0.5047268758132532, 'colsample_bytree': 0.4757744481275681, 'subsample': 0.9949246009716103, 'learning_rate': 0.6290498524443273}. Best is trial 103 with value: 0.8159798721610227.\u001b[0m\n",
            "\u001b[32m[I 2021-06-03 18:37:52,057]\u001b[0m Trial 181 finished with value: 0.8066639466884264 and parameters: {'max_depth': 18, 'min_child_samples': 22, 'min_child_weight': 5, 'num_leaves': 25, 'lr': 0.6951977037095378, 'colsample_bytree': 0.744058515697239, 'subsample': 0.8905958431779698, 'learning_rate': 0.3534014362049277}. Best is trial 103 with value: 0.8159798721610227.\u001b[0m\n",
            "\u001b[32m[I 2021-06-03 18:37:52,224]\u001b[0m Trial 182 finished with value: 0.7844961240310078 and parameters: {'max_depth': 19, 'min_child_samples': 21, 'min_child_weight': 5, 'num_leaves': 24, 'lr': 0.17476902000034344, 'colsample_bytree': 0.39463269197738704, 'subsample': 0.960815241130257, 'learning_rate': 0.009244292840510537}. Best is trial 103 with value: 0.8159798721610227.\u001b[0m\n",
            "\u001b[32m[I 2021-06-03 18:37:52,351]\u001b[0m Trial 183 finished with value: 0.7926764585883312 and parameters: {'max_depth': 17, 'min_child_samples': 23, 'min_child_weight': 5, 'num_leaves': 22, 'lr': 0.551748315839288, 'colsample_bytree': 0.36234981368969577, 'subsample': 0.9783791469829396, 'learning_rate': 0.8062309207552439}. Best is trial 103 with value: 0.8159798721610227.\u001b[0m\n",
            "\u001b[32m[I 2021-06-03 18:37:52,494]\u001b[0m Trial 184 finished with value: 0.8194478444172446 and parameters: {'max_depth': 20, 'min_child_samples': 21, 'min_child_weight': 6, 'num_leaves': 23, 'lr': 0.9919250003754279, 'colsample_bytree': 0.7263293197291268, 'subsample': 0.8186269337425661, 'learning_rate': 0.5166296227376406}. Best is trial 184 with value: 0.8194478444172446.\u001b[0m\n",
            "\u001b[32m[I 2021-06-03 18:37:52,638]\u001b[0m Trial 185 finished with value: 0.8043315653474773 and parameters: {'max_depth': 20, 'min_child_samples': 21, 'min_child_weight': 6, 'num_leaves': 23, 'lr': 1.111948338988864, 'colsample_bytree': 0.7614338892445811, 'subsample': 0.8350535659256668, 'learning_rate': 0.516463605148965}. Best is trial 184 with value: 0.8194478444172446.\u001b[0m\n",
            "\u001b[32m[I 2021-06-03 18:37:52,794]\u001b[0m Trial 186 finished with value: 0.8019855841153272 and parameters: {'max_depth': 20, 'min_child_samples': 23, 'min_child_weight': 6, 'num_leaves': 22, 'lr': 0.376070980645241, 'colsample_bytree': 0.72801476987, 'subsample': 0.8143597278193111, 'learning_rate': 0.27968730053084245}. Best is trial 184 with value: 0.8194478444172446.\u001b[0m\n",
            "\u001b[32m[I 2021-06-03 18:37:52,960]\u001b[0m Trial 187 finished with value: 0.7751665986672107 and parameters: {'max_depth': 18, 'min_child_samples': 21, 'min_child_weight': 6, 'num_leaves': 23, 'lr': 1.335543700346257, 'colsample_bytree': 0.7055766555193573, 'subsample': 0.9995632071456816, 'learning_rate': 0.024112389129274103}. Best is trial 184 with value: 0.8194478444172446.\u001b[0m\n",
            "\u001b[32m[I 2021-06-03 18:37:53,076]\u001b[0m Trial 188 finished with value: 0.7926696586427309 and parameters: {'max_depth': 19, 'min_child_samples': 20, 'min_child_weight': 5, 'num_leaves': 24, 'lr': 0.9566761302670814, 'colsample_bytree': 0.29418647273546505, 'subsample': 0.8635494887747108, 'learning_rate': 0.6117596723738641}. Best is trial 184 with value: 0.8194478444172446.\u001b[0m\n",
            "\u001b[32m[I 2021-06-03 18:37:53,200]\u001b[0m Trial 189 finished with value: 0.8054739562083505 and parameters: {'max_depth': 20, 'min_child_samples': 24, 'min_child_weight': 6, 'num_leaves': 27, 'lr': 0.8363555135007448, 'colsample_bytree': 0.3384780697516994, 'subsample': 0.9539320142254877, 'learning_rate': 0.353034238226397}. Best is trial 184 with value: 0.8194478444172446.\u001b[0m\n",
            "\u001b[32m[I 2021-06-03 18:37:53,379]\u001b[0m Trial 190 finished with value: 0.8054671562627499 and parameters: {'max_depth': 19, 'min_child_samples': 21, 'min_child_weight': 4, 'num_leaves': 23, 'lr': 1.652978607028336, 'colsample_bytree': 0.7189007410117304, 'subsample': 0.92756237151184, 'learning_rate': 0.175597750940832}. Best is trial 184 with value: 0.8194478444172446.\u001b[0m\n",
            "\u001b[32m[I 2021-06-03 18:37:53,523]\u001b[0m Trial 191 finished with value: 0.7984700122399021 and parameters: {'max_depth': 16, 'min_child_samples': 22, 'min_child_weight': 5, 'num_leaves': 24, 'lr': 0.6758409773044588, 'colsample_bytree': 0.748834583127146, 'subsample': 0.7984780743270091, 'learning_rate': 0.9759839028809028}. Best is trial 184 with value: 0.8194478444172446.\u001b[0m\n",
            "\u001b[32m[I 2021-06-03 18:37:53,652]\u001b[0m Trial 192 finished with value: 0.7984904120767033 and parameters: {'max_depth': 15, 'min_child_samples': 22, 'min_child_weight': 6, 'num_leaves': 22, 'lr': 0.17115190693045354, 'colsample_bytree': 0.3795013594067507, 'subsample': 0.8218662009415811, 'learning_rate': 0.43386816690433544}. Best is trial 184 with value: 0.8194478444172446.\u001b[0m\n",
            "\u001b[32m[I 2021-06-03 18:37:53,777]\u001b[0m Trial 193 finished with value: 0.7752005983952128 and parameters: {'max_depth': 18, 'min_child_samples': 23, 'min_child_weight': 4, 'num_leaves': 23, 'lr': 0.45007179517881446, 'colsample_bytree': 0.4020164814989281, 'subsample': 0.8051969358786087, 'learning_rate': 1.364312929169595}. Best is trial 184 with value: 0.8194478444172446.\u001b[0m\n",
            "\u001b[32m[I 2021-06-03 18:37:53,913]\u001b[0m Trial 194 finished with value: 0.6806201550387597 and parameters: {'max_depth': 12, 'min_child_samples': 22, 'min_child_weight': 5, 'num_leaves': 38, 'lr': 0.7643435058810235, 'colsample_bytree': 0.31161387945775065, 'subsample': 0.7307373337335755, 'learning_rate': 0.0013646401346886217}. Best is trial 184 with value: 0.8194478444172446.\u001b[0m\n",
            "\u001b[32m[I 2021-06-03 18:37:54,032]\u001b[0m Trial 195 finished with value: 0.7949884400924792 and parameters: {'max_depth': 19, 'min_child_samples': 23, 'min_child_weight': 5, 'num_leaves': 21, 'lr': 1.1866691719125977, 'colsample_bytree': 0.3481520468022268, 'subsample': 0.5134581922538245, 'learning_rate': 0.7422762367493008}. Best is trial 184 with value: 0.8194478444172446.\u001b[0m\n",
            "\u001b[32m[I 2021-06-03 18:37:54,179]\u001b[0m Trial 196 finished with value: 0.8031415748674011 and parameters: {'max_depth': 15, 'min_child_samples': 21, 'min_child_weight': 3, 'num_leaves': 39, 'lr': 0.9782718983969436, 'colsample_bytree': 0.7830759618659592, 'subsample': 0.7898768216041074, 'learning_rate': 0.5295762601063128}. Best is trial 184 with value: 0.8194478444172446.\u001b[0m\n",
            "\u001b[32m[I 2021-06-03 18:37:54,308]\u001b[0m Trial 197 finished with value: 0.7774921800625595 and parameters: {'max_depth': 17, 'min_child_samples': 22, 'min_child_weight': 5, 'num_leaves': 26, 'lr': 0.0038798067731483643, 'colsample_bytree': 0.7041079605754789, 'subsample': 0.6179758876180244, 'learning_rate': 1.1054336759951113}. Best is trial 184 with value: 0.8194478444172446.\u001b[0m\n",
            "\u001b[32m[I 2021-06-03 18:37:54,501]\u001b[0m Trial 198 finished with value: 0.8019719842241262 and parameters: {'max_depth': 20, 'min_child_samples': 23, 'min_child_weight': 3, 'num_leaves': 25, 'lr': 0.627479120904656, 'colsample_bytree': 0.7325188472350209, 'subsample': 0.6627997295146121, 'learning_rate': 0.23293590124010496}. Best is trial 184 with value: 0.8194478444172446.\u001b[0m\n",
            "\u001b[32m[I 2021-06-03 18:37:54,579]\u001b[0m Trial 199 finished with value: 0.7203522371821025 and parameters: {'max_depth': 16, 'min_child_samples': 22, 'min_child_weight': 1, 'num_leaves': 23, 'lr': 8.435606764782406, 'colsample_bytree': 0.3743702317591835, 'subsample': 0.8325349542133162, 'learning_rate': 0.755872690073712}. Best is trial 184 with value: 0.8194478444172446.\u001b[0m\n"
          ],
          "name": "stderr"
        }
      ]
    },
    {
      "cell_type": "code",
      "metadata": {
        "colab": {
          "base_uri": "https://localhost:8080/"
        },
        "id": "achtAGM4HiBk",
        "outputId": "923294c5-ec3f-4310-b188-32602f2e89dc"
      },
      "source": [
        "print('Accuracy: {}'.format(trial.value))\n",
        "print(\"Best hyperparameters: {}\".format(best_param_light))"
      ],
      "execution_count": 185,
      "outputs": [
        {
          "output_type": "stream",
          "text": [
            "Accuracy: 0.8194478444172446\n",
            "Best hyperparameters: {'max_depth': 20, 'min_child_samples': 21, 'min_child_weight': 6, 'num_leaves': 23, 'lr': 0.9919250003754279, 'colsample_bytree': 0.7263293197291268, 'subsample': 0.8186269337425661, 'learning_rate': 0.5166296227376406}\n"
          ],
          "name": "stdout"
        }
      ]
    },
    {
      "cell_type": "code",
      "metadata": {
        "id": "VeYwPBoyx6uU",
        "colab": {
          "base_uri": "https://localhost:8080/"
        },
        "outputId": "6f2aa16e-cecf-4b14-fdc1-dcb81fc8c4bd"
      },
      "source": [
        "lgbClf = LGBMClassifier(**best_param_light)\n",
        "lgbClf.fit(X_res,y_res)"
      ],
      "execution_count": 186,
      "outputs": [
        {
          "output_type": "execute_result",
          "data": {
            "text/plain": [
              "LGBMClassifier(boosting_type='gbdt', class_weight=None,\n",
              "               colsample_bytree=0.7263293197291268, importance_type='split',\n",
              "               learning_rate=0.5166296227376406, lr=0.9919250003754279,\n",
              "               max_depth=20, min_child_samples=21, min_child_weight=6,\n",
              "               min_split_gain=0.0, n_estimators=100, n_jobs=-1, num_leaves=23,\n",
              "               objective=None, random_state=None, reg_alpha=0.0, reg_lambda=0.0,\n",
              "               silent=True, subsample=0.8186269337425661,\n",
              "               subsample_for_bin=200000, subsample_freq=0)"
            ]
          },
          "metadata": {
            "tags": []
          },
          "execution_count": 186
        }
      ]
    },
    {
      "cell_type": "code",
      "metadata": {
        "colab": {
          "base_uri": "https://localhost:8080/",
          "height": 542
        },
        "id": "QsPyyKcc-_Ff",
        "outputId": "5182cffe-f42e-4d15-d0c7-28f7de278ba7"
      },
      "source": [
        "optuna.visualization.plot_optimization_history(study)"
      ],
      "execution_count": 187,
      "outputs": [
        {
          "output_type": "display_data",
          "data": {
            "text/html": [
              "<html>\n",
              "<head><meta charset=\"utf-8\" /></head>\n",
              "<body>\n",
              "    <div>\n",
              "            <script src=\"https://cdnjs.cloudflare.com/ajax/libs/mathjax/2.7.5/MathJax.js?config=TeX-AMS-MML_SVG\"></script><script type=\"text/javascript\">if (window.MathJax) {MathJax.Hub.Config({SVG: {font: \"STIX-Web\"}});}</script>\n",
              "                <script type=\"text/javascript\">window.PlotlyConfig = {MathJaxConfig: 'local'};</script>\n",
              "        <script src=\"https://cdn.plot.ly/plotly-latest.min.js\"></script>    \n",
              "            <div id=\"4545f795-c851-446c-997a-058152229a1a\" class=\"plotly-graph-div\" style=\"height:525px; width:100%;\"></div>\n",
              "            <script type=\"text/javascript\">\n",
              "                \n",
              "                    window.PLOTLYENV=window.PLOTLYENV || {};\n",
              "                    \n",
              "                if (document.getElementById(\"4545f795-c851-446c-997a-058152229a1a\")) {\n",
              "                    Plotly.newPlot(\n",
              "                        '4545f795-c851-446c-997a-058152229a1a',\n",
              "                        [{\"mode\": \"markers\", \"name\": \"Objective Value\", \"type\": \"scatter\", \"x\": [0, 1, 2, 3, 4, 5, 6, 7, 8, 9, 10, 11, 12, 13, 14, 15, 16, 17, 18, 19, 20, 21, 22, 23, 24, 25, 26, 27, 28, 29, 30, 31, 32, 33, 34, 35, 36, 37, 38, 39, 40, 41, 42, 43, 44, 45, 46, 47, 48, 49, 50, 51, 52, 53, 54, 55, 56, 57, 58, 59, 60, 61, 62, 63, 64, 65, 66, 67, 68, 69, 70, 71, 72, 73, 74, 75, 76, 77, 78, 79, 80, 81, 82, 83, 84, 85, 86, 87, 88, 89, 90, 91, 92, 93, 94, 95, 96, 97, 98, 99, 100, 101, 102, 103, 104, 105, 106, 107, 108, 109, 110, 111, 112, 113, 114, 115, 116, 117, 118, 119, 120, 121, 122, 123, 124, 125, 126, 127, 128, 129, 130, 131, 132, 133, 134, 135, 136, 137, 138, 139, 140, 141, 142, 143, 144, 145, 146, 147, 148, 149, 150, 151, 152, 153, 154, 155, 156, 157, 158, 159, 160, 161, 162, 163, 164, 165, 166, 167, 168, 169, 170, 171, 172, 173, 174, 175, 176, 177, 178, 179, 180, 181, 182, 183, 184, 185, 186, 187, 188, 189, 190, 191, 192, 193, 194, 195, 196, 197, 198, 199], \"y\": [0.5314429484564124, 0.6247926016591867, 0.5198694410444717, 0.6143206854345166, 0.539562083503332, 0.6119747042023664, 0.7494900040799675, 0.5641370869033048, 0.7541819665442675, 0.5093499252005984, 0.7938120495036041, 0.7809873521011832, 0.5325921392628858, 0.7926288589691282, 0.5210050319597443, 0.780953352373181, 0.7996464028287773, 0.49880320957432345, 0.7879708962328301, 0.5989936080511356, 0.7518495852033183, 0.8078131374949, 0.7774785801713586, 0.8031619747042024, 0.77171902624779, 0.7903304773561811, 0.8031075751393988, 0.7868353053175574, 0.5374473004215966, 0.5116823065415477, 0.49298925608595123, 0.803155174758602, 0.7937916496668027, 0.77749898000816, 0.7320685434516524, 0.792642458860329, 0.7424860601115191, 0.5023663810689515, 0.4976200190398477, 0.5186318509451924, 0.7868557051543588, 0.8019787841697266, 0.8112879096967225, 0.7879912960696315, 0.7530055759553924, 0.78562491500068, 0.8066707466340268, 0.8089623283013736, 0.7319733442132463, 0.7822113423092615, 0.5980076159390725, 0.8031687746498027, 0.8066707466340268, 0.7856589147286822, 0.7914728682170542, 0.7903100775193799, 0.5652114783081734, 0.5708894328845369, 0.8019515843873248, 0.793859649122807, 0.5023323813409493, 0.8055079559363525, 0.7973344213246294, 0.7845097239222086, 0.7693118455052359, 0.7868217054263565, 0.5908540731674147, 0.808969128246974, 0.7798177614579084, 0.768203454372365, 0.7856929144566844, 0.8019923840609275, 0.803168774649803, 0.7798313613491091, 0.7961512307901537, 0.7728342173262613, 0.7915204678362573, 0.7996056031551747, 0.8066435468516252, 0.7996396028831769, 0.5198014415884673, 0.7926492588059295, 0.8008091935264519, 0.7459880320957432, 0.7704814361485107, 0.8077723378212974, 0.786780905752754, 0.7973140214878282, 0.5570583435332518, 0.799673602611179, 0.5594315245478036, 0.8066571467428261, 0.7973412212702298, 0.7996260029919761, 0.5491092071263429, 0.5290765673874609, 0.7634434924520603, 0.8031143750849992, 0.7926696586427309, 0.7553039575683395, 0.8054875560995512, 0.8078063375492996, 0.793812049503604, 0.8159798721610227, 0.7937984496124031, 0.7879504963960289, 0.6830205358357133, 0.7832925336597307, 0.789140486876105, 0.8031347749218007, 0.7996464028287773, 0.8042771657826737, 0.7973208214334286, 0.7973208214334286, 0.8054807561539509, 0.7926968584251325, 0.8078063375492996, 0.8031279749762001, 0.5268529851761186, 0.8077927376580988, 0.8043179654562763, 0.7868149054807562, 0.7937712498300014, 0.8078335373317012, 0.8031415748674011, 0.7996600027199783, 0.8066639466884264, 0.803155174758602, 0.7937780497756017, 0.7949612403100775, 0.7343397252821978, 0.7471644226846185, 0.8066231470148238, 0.775125798993608, 0.8066707466340268, 0.7961444308445532, 0.8043179654562763, 0.5419284645722834, 0.7984632122943017, 0.7984768121855025, 0.8113423092615258, 0.8078403372773018, 0.7973344213246294, 0.7996532027743778, 0.784516523867809, 0.7833673330613355, 0.8019923840609275, 0.7938732490140079, 0.7903372773017816, 0.7635590915272678, 0.8043383652930777, 0.8054943560451516, 0.7355025159798722, 0.8089963280293757, 0.8136542907656737, 0.7938460492316061, 0.8043383652930777, 0.7681286549707603, 0.7973412212702298, 0.7763565891472868, 0.8101455188358493, 0.7996668026655787, 0.5628586971304229, 0.808969128246974, 0.8112879096967223, 0.7903372773017816, 0.8089759281925744, 0.7973140214878282, 0.7985108119135047, 0.8043451652386782, 0.7891472868217054, 0.8066231470148238, 0.7868421052631579, 0.8066367469060246, 0.8078199374405004, 0.7903372773017816, 0.8008023935808513, 0.787984496124031, 0.793812049503604, 0.717985856113151, 0.7844757241942064, 0.8066639466884264, 0.7844961240310078, 0.7926764585883312, 0.8194478444172446, 0.8043315653474773, 0.8019855841153272, 0.7751665986672107, 0.7926696586427309, 0.8054739562083505, 0.8054671562627499, 0.7984700122399021, 0.7984904120767033, 0.7752005983952128, 0.6806201550387597, 0.7949884400924792, 0.8031415748674011, 0.7774921800625595, 0.8019719842241262, 0.7203522371821025]}, {\"name\": \"Best Value\", \"type\": \"scatter\", \"x\": [0, 1, 2, 3, 4, 5, 6, 7, 8, 9, 10, 11, 12, 13, 14, 15, 16, 17, 18, 19, 20, 21, 22, 23, 24, 25, 26, 27, 28, 29, 30, 31, 32, 33, 34, 35, 36, 37, 38, 39, 40, 41, 42, 43, 44, 45, 46, 47, 48, 49, 50, 51, 52, 53, 54, 55, 56, 57, 58, 59, 60, 61, 62, 63, 64, 65, 66, 67, 68, 69, 70, 71, 72, 73, 74, 75, 76, 77, 78, 79, 80, 81, 82, 83, 84, 85, 86, 87, 88, 89, 90, 91, 92, 93, 94, 95, 96, 97, 98, 99, 100, 101, 102, 103, 104, 105, 106, 107, 108, 109, 110, 111, 112, 113, 114, 115, 116, 117, 118, 119, 120, 121, 122, 123, 124, 125, 126, 127, 128, 129, 130, 131, 132, 133, 134, 135, 136, 137, 138, 139, 140, 141, 142, 143, 144, 145, 146, 147, 148, 149, 150, 151, 152, 153, 154, 155, 156, 157, 158, 159, 160, 161, 162, 163, 164, 165, 166, 167, 168, 169, 170, 171, 172, 173, 174, 175, 176, 177, 178, 179, 180, 181, 182, 183, 184, 185, 186, 187, 188, 189, 190, 191, 192, 193, 194, 195, 196, 197, 198, 199], \"y\": [0.5314429484564124, 0.6247926016591867, 0.6247926016591867, 0.6247926016591867, 0.6247926016591867, 0.6247926016591867, 0.7494900040799675, 0.7494900040799675, 0.7541819665442675, 0.7541819665442675, 0.7938120495036041, 0.7938120495036041, 0.7938120495036041, 0.7938120495036041, 0.7938120495036041, 0.7938120495036041, 0.7996464028287773, 0.7996464028287773, 0.7996464028287773, 0.7996464028287773, 0.7996464028287773, 0.8078131374949, 0.8078131374949, 0.8078131374949, 0.8078131374949, 0.8078131374949, 0.8078131374949, 0.8078131374949, 0.8078131374949, 0.8078131374949, 0.8078131374949, 0.8078131374949, 0.8078131374949, 0.8078131374949, 0.8078131374949, 0.8078131374949, 0.8078131374949, 0.8078131374949, 0.8078131374949, 0.8078131374949, 0.8078131374949, 0.8078131374949, 0.8112879096967225, 0.8112879096967225, 0.8112879096967225, 0.8112879096967225, 0.8112879096967225, 0.8112879096967225, 0.8112879096967225, 0.8112879096967225, 0.8112879096967225, 0.8112879096967225, 0.8112879096967225, 0.8112879096967225, 0.8112879096967225, 0.8112879096967225, 0.8112879096967225, 0.8112879096967225, 0.8112879096967225, 0.8112879096967225, 0.8112879096967225, 0.8112879096967225, 0.8112879096967225, 0.8112879096967225, 0.8112879096967225, 0.8112879096967225, 0.8112879096967225, 0.8112879096967225, 0.8112879096967225, 0.8112879096967225, 0.8112879096967225, 0.8112879096967225, 0.8112879096967225, 0.8112879096967225, 0.8112879096967225, 0.8112879096967225, 0.8112879096967225, 0.8112879096967225, 0.8112879096967225, 0.8112879096967225, 0.8112879096967225, 0.8112879096967225, 0.8112879096967225, 0.8112879096967225, 0.8112879096967225, 0.8112879096967225, 0.8112879096967225, 0.8112879096967225, 0.8112879096967225, 0.8112879096967225, 0.8112879096967225, 0.8112879096967225, 0.8112879096967225, 0.8112879096967225, 0.8112879096967225, 0.8112879096967225, 0.8112879096967225, 0.8112879096967225, 0.8112879096967225, 0.8112879096967225, 0.8112879096967225, 0.8112879096967225, 0.8112879096967225, 0.8159798721610227, 0.8159798721610227, 0.8159798721610227, 0.8159798721610227, 0.8159798721610227, 0.8159798721610227, 0.8159798721610227, 0.8159798721610227, 0.8159798721610227, 0.8159798721610227, 0.8159798721610227, 0.8159798721610227, 0.8159798721610227, 0.8159798721610227, 0.8159798721610227, 0.8159798721610227, 0.8159798721610227, 0.8159798721610227, 0.8159798721610227, 0.8159798721610227, 0.8159798721610227, 0.8159798721610227, 0.8159798721610227, 0.8159798721610227, 0.8159798721610227, 0.8159798721610227, 0.8159798721610227, 0.8159798721610227, 0.8159798721610227, 0.8159798721610227, 0.8159798721610227, 0.8159798721610227, 0.8159798721610227, 0.8159798721610227, 0.8159798721610227, 0.8159798721610227, 0.8159798721610227, 0.8159798721610227, 0.8159798721610227, 0.8159798721610227, 0.8159798721610227, 0.8159798721610227, 0.8159798721610227, 0.8159798721610227, 0.8159798721610227, 0.8159798721610227, 0.8159798721610227, 0.8159798721610227, 0.8159798721610227, 0.8159798721610227, 0.8159798721610227, 0.8159798721610227, 0.8159798721610227, 0.8159798721610227, 0.8159798721610227, 0.8159798721610227, 0.8159798721610227, 0.8159798721610227, 0.8159798721610227, 0.8159798721610227, 0.8159798721610227, 0.8159798721610227, 0.8159798721610227, 0.8159798721610227, 0.8159798721610227, 0.8159798721610227, 0.8159798721610227, 0.8159798721610227, 0.8159798721610227, 0.8159798721610227, 0.8159798721610227, 0.8159798721610227, 0.8159798721610227, 0.8159798721610227, 0.8159798721610227, 0.8159798721610227, 0.8159798721610227, 0.8159798721610227, 0.8159798721610227, 0.8159798721610227, 0.8159798721610227, 0.8194478444172446, 0.8194478444172446, 0.8194478444172446, 0.8194478444172446, 0.8194478444172446, 0.8194478444172446, 0.8194478444172446, 0.8194478444172446, 0.8194478444172446, 0.8194478444172446, 0.8194478444172446, 0.8194478444172446, 0.8194478444172446, 0.8194478444172446, 0.8194478444172446, 0.8194478444172446]}],\n",
              "                        {\"template\": {\"data\": {\"bar\": [{\"error_x\": {\"color\": \"#2a3f5f\"}, \"error_y\": {\"color\": \"#2a3f5f\"}, \"marker\": {\"line\": {\"color\": \"#E5ECF6\", \"width\": 0.5}}, \"type\": \"bar\"}], \"barpolar\": [{\"marker\": {\"line\": {\"color\": \"#E5ECF6\", \"width\": 0.5}}, \"type\": \"barpolar\"}], \"carpet\": [{\"aaxis\": {\"endlinecolor\": \"#2a3f5f\", \"gridcolor\": \"white\", \"linecolor\": \"white\", \"minorgridcolor\": \"white\", \"startlinecolor\": \"#2a3f5f\"}, \"baxis\": {\"endlinecolor\": \"#2a3f5f\", \"gridcolor\": \"white\", \"linecolor\": \"white\", \"minorgridcolor\": \"white\", \"startlinecolor\": \"#2a3f5f\"}, \"type\": \"carpet\"}], \"choropleth\": [{\"colorbar\": {\"outlinewidth\": 0, \"ticks\": \"\"}, \"type\": \"choropleth\"}], \"contour\": [{\"colorbar\": {\"outlinewidth\": 0, \"ticks\": \"\"}, \"colorscale\": [[0.0, \"#0d0887\"], [0.1111111111111111, \"#46039f\"], [0.2222222222222222, \"#7201a8\"], [0.3333333333333333, \"#9c179e\"], [0.4444444444444444, \"#bd3786\"], [0.5555555555555556, \"#d8576b\"], [0.6666666666666666, \"#ed7953\"], [0.7777777777777778, \"#fb9f3a\"], [0.8888888888888888, \"#fdca26\"], [1.0, \"#f0f921\"]], \"type\": \"contour\"}], \"contourcarpet\": [{\"colorbar\": {\"outlinewidth\": 0, \"ticks\": \"\"}, \"type\": \"contourcarpet\"}], \"heatmap\": [{\"colorbar\": {\"outlinewidth\": 0, \"ticks\": \"\"}, \"colorscale\": [[0.0, \"#0d0887\"], [0.1111111111111111, \"#46039f\"], [0.2222222222222222, \"#7201a8\"], [0.3333333333333333, \"#9c179e\"], [0.4444444444444444, \"#bd3786\"], [0.5555555555555556, \"#d8576b\"], [0.6666666666666666, \"#ed7953\"], [0.7777777777777778, \"#fb9f3a\"], [0.8888888888888888, \"#fdca26\"], [1.0, \"#f0f921\"]], \"type\": \"heatmap\"}], \"heatmapgl\": [{\"colorbar\": {\"outlinewidth\": 0, \"ticks\": \"\"}, \"colorscale\": [[0.0, \"#0d0887\"], [0.1111111111111111, \"#46039f\"], [0.2222222222222222, \"#7201a8\"], [0.3333333333333333, \"#9c179e\"], [0.4444444444444444, \"#bd3786\"], [0.5555555555555556, \"#d8576b\"], [0.6666666666666666, \"#ed7953\"], [0.7777777777777778, \"#fb9f3a\"], [0.8888888888888888, \"#fdca26\"], [1.0, \"#f0f921\"]], \"type\": \"heatmapgl\"}], \"histogram\": [{\"marker\": {\"colorbar\": {\"outlinewidth\": 0, \"ticks\": \"\"}}, \"type\": \"histogram\"}], \"histogram2d\": [{\"colorbar\": {\"outlinewidth\": 0, \"ticks\": \"\"}, \"colorscale\": [[0.0, \"#0d0887\"], [0.1111111111111111, \"#46039f\"], [0.2222222222222222, \"#7201a8\"], [0.3333333333333333, \"#9c179e\"], [0.4444444444444444, \"#bd3786\"], [0.5555555555555556, \"#d8576b\"], [0.6666666666666666, \"#ed7953\"], [0.7777777777777778, \"#fb9f3a\"], [0.8888888888888888, \"#fdca26\"], [1.0, \"#f0f921\"]], \"type\": \"histogram2d\"}], \"histogram2dcontour\": [{\"colorbar\": {\"outlinewidth\": 0, \"ticks\": \"\"}, \"colorscale\": [[0.0, \"#0d0887\"], [0.1111111111111111, \"#46039f\"], [0.2222222222222222, \"#7201a8\"], [0.3333333333333333, \"#9c179e\"], [0.4444444444444444, \"#bd3786\"], [0.5555555555555556, \"#d8576b\"], [0.6666666666666666, \"#ed7953\"], [0.7777777777777778, \"#fb9f3a\"], [0.8888888888888888, \"#fdca26\"], [1.0, \"#f0f921\"]], \"type\": \"histogram2dcontour\"}], \"mesh3d\": [{\"colorbar\": {\"outlinewidth\": 0, \"ticks\": \"\"}, \"type\": \"mesh3d\"}], \"parcoords\": [{\"line\": {\"colorbar\": {\"outlinewidth\": 0, \"ticks\": \"\"}}, \"type\": \"parcoords\"}], \"pie\": [{\"automargin\": true, \"type\": \"pie\"}], \"scatter\": [{\"marker\": {\"colorbar\": {\"outlinewidth\": 0, \"ticks\": \"\"}}, \"type\": \"scatter\"}], \"scatter3d\": [{\"line\": {\"colorbar\": {\"outlinewidth\": 0, \"ticks\": \"\"}}, \"marker\": {\"colorbar\": {\"outlinewidth\": 0, \"ticks\": \"\"}}, \"type\": \"scatter3d\"}], \"scattercarpet\": [{\"marker\": {\"colorbar\": {\"outlinewidth\": 0, \"ticks\": \"\"}}, \"type\": \"scattercarpet\"}], \"scattergeo\": [{\"marker\": {\"colorbar\": {\"outlinewidth\": 0, \"ticks\": \"\"}}, \"type\": \"scattergeo\"}], \"scattergl\": [{\"marker\": {\"colorbar\": {\"outlinewidth\": 0, \"ticks\": \"\"}}, \"type\": \"scattergl\"}], \"scattermapbox\": [{\"marker\": {\"colorbar\": {\"outlinewidth\": 0, \"ticks\": \"\"}}, \"type\": \"scattermapbox\"}], \"scatterpolar\": [{\"marker\": {\"colorbar\": {\"outlinewidth\": 0, \"ticks\": \"\"}}, \"type\": \"scatterpolar\"}], \"scatterpolargl\": [{\"marker\": {\"colorbar\": {\"outlinewidth\": 0, \"ticks\": \"\"}}, \"type\": \"scatterpolargl\"}], \"scatterternary\": [{\"marker\": {\"colorbar\": {\"outlinewidth\": 0, \"ticks\": \"\"}}, \"type\": \"scatterternary\"}], \"surface\": [{\"colorbar\": {\"outlinewidth\": 0, \"ticks\": \"\"}, \"colorscale\": [[0.0, \"#0d0887\"], [0.1111111111111111, \"#46039f\"], [0.2222222222222222, \"#7201a8\"], [0.3333333333333333, \"#9c179e\"], [0.4444444444444444, \"#bd3786\"], [0.5555555555555556, \"#d8576b\"], [0.6666666666666666, \"#ed7953\"], [0.7777777777777778, \"#fb9f3a\"], [0.8888888888888888, \"#fdca26\"], [1.0, \"#f0f921\"]], \"type\": \"surface\"}], \"table\": [{\"cells\": {\"fill\": {\"color\": \"#EBF0F8\"}, \"line\": {\"color\": \"white\"}}, \"header\": {\"fill\": {\"color\": \"#C8D4E3\"}, \"line\": {\"color\": \"white\"}}, \"type\": \"table\"}]}, \"layout\": {\"annotationdefaults\": {\"arrowcolor\": \"#2a3f5f\", \"arrowhead\": 0, \"arrowwidth\": 1}, \"coloraxis\": {\"colorbar\": {\"outlinewidth\": 0, \"ticks\": \"\"}}, \"colorscale\": {\"diverging\": [[0, \"#8e0152\"], [0.1, \"#c51b7d\"], [0.2, \"#de77ae\"], [0.3, \"#f1b6da\"], [0.4, \"#fde0ef\"], [0.5, \"#f7f7f7\"], [0.6, \"#e6f5d0\"], [0.7, \"#b8e186\"], [0.8, \"#7fbc41\"], [0.9, \"#4d9221\"], [1, \"#276419\"]], \"sequential\": [[0.0, \"#0d0887\"], [0.1111111111111111, \"#46039f\"], [0.2222222222222222, \"#7201a8\"], [0.3333333333333333, \"#9c179e\"], [0.4444444444444444, \"#bd3786\"], [0.5555555555555556, \"#d8576b\"], [0.6666666666666666, \"#ed7953\"], [0.7777777777777778, \"#fb9f3a\"], [0.8888888888888888, \"#fdca26\"], [1.0, \"#f0f921\"]], \"sequentialminus\": [[0.0, \"#0d0887\"], [0.1111111111111111, \"#46039f\"], [0.2222222222222222, \"#7201a8\"], [0.3333333333333333, \"#9c179e\"], [0.4444444444444444, \"#bd3786\"], [0.5555555555555556, \"#d8576b\"], [0.6666666666666666, \"#ed7953\"], [0.7777777777777778, \"#fb9f3a\"], [0.8888888888888888, \"#fdca26\"], [1.0, \"#f0f921\"]]}, \"colorway\": [\"#636efa\", \"#EF553B\", \"#00cc96\", \"#ab63fa\", \"#FFA15A\", \"#19d3f3\", \"#FF6692\", \"#B6E880\", \"#FF97FF\", \"#FECB52\"], \"font\": {\"color\": \"#2a3f5f\"}, \"geo\": {\"bgcolor\": \"white\", \"lakecolor\": \"white\", \"landcolor\": \"#E5ECF6\", \"showlakes\": true, \"showland\": true, \"subunitcolor\": \"white\"}, \"hoverlabel\": {\"align\": \"left\"}, \"hovermode\": \"closest\", \"mapbox\": {\"style\": \"light\"}, \"paper_bgcolor\": \"white\", \"plot_bgcolor\": \"#E5ECF6\", \"polar\": {\"angularaxis\": {\"gridcolor\": \"white\", \"linecolor\": \"white\", \"ticks\": \"\"}, \"bgcolor\": \"#E5ECF6\", \"radialaxis\": {\"gridcolor\": \"white\", \"linecolor\": \"white\", \"ticks\": \"\"}}, \"scene\": {\"xaxis\": {\"backgroundcolor\": \"#E5ECF6\", \"gridcolor\": \"white\", \"gridwidth\": 2, \"linecolor\": \"white\", \"showbackground\": true, \"ticks\": \"\", \"zerolinecolor\": \"white\"}, \"yaxis\": {\"backgroundcolor\": \"#E5ECF6\", \"gridcolor\": \"white\", \"gridwidth\": 2, \"linecolor\": \"white\", \"showbackground\": true, \"ticks\": \"\", \"zerolinecolor\": \"white\"}, \"zaxis\": {\"backgroundcolor\": \"#E5ECF6\", \"gridcolor\": \"white\", \"gridwidth\": 2, \"linecolor\": \"white\", \"showbackground\": true, \"ticks\": \"\", \"zerolinecolor\": \"white\"}}, \"shapedefaults\": {\"line\": {\"color\": \"#2a3f5f\"}}, \"ternary\": {\"aaxis\": {\"gridcolor\": \"white\", \"linecolor\": \"white\", \"ticks\": \"\"}, \"baxis\": {\"gridcolor\": \"white\", \"linecolor\": \"white\", \"ticks\": \"\"}, \"bgcolor\": \"#E5ECF6\", \"caxis\": {\"gridcolor\": \"white\", \"linecolor\": \"white\", \"ticks\": \"\"}}, \"title\": {\"x\": 0.05}, \"xaxis\": {\"automargin\": true, \"gridcolor\": \"white\", \"linecolor\": \"white\", \"ticks\": \"\", \"title\": {\"standoff\": 15}, \"zerolinecolor\": \"white\", \"zerolinewidth\": 2}, \"yaxis\": {\"automargin\": true, \"gridcolor\": \"white\", \"linecolor\": \"white\", \"ticks\": \"\", \"title\": {\"standoff\": 15}, \"zerolinecolor\": \"white\", \"zerolinewidth\": 2}}}, \"title\": {\"text\": \"Optimization History Plot\"}, \"xaxis\": {\"title\": {\"text\": \"#Trials\"}}, \"yaxis\": {\"title\": {\"text\": \"Objective Value\"}}},\n",
              "                        {\"responsive\": true}\n",
              "                    ).then(function(){\n",
              "                            \n",
              "var gd = document.getElementById('4545f795-c851-446c-997a-058152229a1a');\n",
              "var x = new MutationObserver(function (mutations, observer) {{\n",
              "        var display = window.getComputedStyle(gd).display;\n",
              "        if (!display || display === 'none') {{\n",
              "            console.log([gd, 'removed!']);\n",
              "            Plotly.purge(gd);\n",
              "            observer.disconnect();\n",
              "        }}\n",
              "}});\n",
              "\n",
              "// Listen for the removal of the full notebook cells\n",
              "var notebookContainer = gd.closest('#notebook-container');\n",
              "if (notebookContainer) {{\n",
              "    x.observe(notebookContainer, {childList: true});\n",
              "}}\n",
              "\n",
              "// Listen for the clearing of the current output cell\n",
              "var outputEl = gd.closest('.output');\n",
              "if (outputEl) {{\n",
              "    x.observe(outputEl, {childList: true});\n",
              "}}\n",
              "\n",
              "                        })\n",
              "                };\n",
              "                \n",
              "            </script>\n",
              "        </div>\n",
              "</body>\n",
              "</html>"
            ]
          },
          "metadata": {
            "tags": []
          }
        }
      ]
    },
    {
      "cell_type": "code",
      "metadata": {
        "id": "Fmd6jb4CEbTc"
      },
      "source": [
        "#Making Preds\n",
        "preds = lgbClf.predict(df_test.drop('Loan_ID',axis=1).values)\n",
        "df_submit = pd.DataFrame({\n",
        "    'Loan_ID': df_test['Loan_ID'],\n",
        "    'Loan_Status': preds\n",
        "})\n",
        "df_submit.to_csv('SubmissionLgbm.csv',index=None)"
      ],
      "execution_count": 188,
      "outputs": []
    },
    {
      "cell_type": "markdown",
      "metadata": {
        "id": "knZ5QAE0CNL1"
      },
      "source": [
        "# XGBoost Tuning"
      ]
    },
    {
      "cell_type": "code",
      "metadata": {
        "id": "6arZcHgPCP69"
      },
      "source": [
        "def objective(trial):\n",
        "  params = {\n",
        "        'n_estimators': trial.suggest_int('n_estimators', 50, 500),\n",
        "        'max_depth': trial.suggest_int('max_depth', 3, 15),\n",
        "        'learning_rate': trial.suggest_uniform('learning_rate', 1e-1, 10),\n",
        "        'subsample': trial.suggest_uniform('subsample', 0.50, 1),\n",
        "        'colsample_bytree': trial.suggest_uniform('colsample_bytree', 0.50, 1),\n",
        "        'gamma': trial.suggest_int('gamma', 0,10),\n",
        "        \"reg_lambda\": trial.suggest_uniform(\"lr\", 1e-2, 10),\n",
        "        \"reg_alpha\": trial.suggest_uniform(\"lr\", 1e-2, 10),\n",
        "        'objective':'binary:logistic'       \n",
        "       }\n",
        "  clf = XGBClassifier(**params)\n",
        "\n",
        "  return cross_val_score(clf,X_res,y_res,scoring='accuracy',cv=3,n_jobs=-1).mean()"
      ],
      "execution_count": 189,
      "outputs": []
    },
    {
      "cell_type": "code",
      "metadata": {
        "colab": {
          "base_uri": "https://localhost:8080/"
        },
        "id": "NR2JKEs4DQpd",
        "outputId": "303066e9-9f01-4c95-db7e-6ba83e302236"
      },
      "source": [
        "study = optuna.create_study(direction='maximize')\n",
        "study.optimize(objective, n_trials=200)\n",
        "trial = study.best_trial\n",
        "best_param_xgb = study.best_params"
      ],
      "execution_count": 190,
      "outputs": [
        {
          "output_type": "stream",
          "text": [
            "\u001b[32m[I 2021-06-03 18:37:54,899]\u001b[0m A new study created in memory with name: no-name-572ffe97-fa57-4c98-8f8d-1a3ad40def99\u001b[0m\n",
            "\u001b[32m[I 2021-06-03 18:37:55,090]\u001b[0m Trial 0 finished with value: 0.5058207534339726 and parameters: {'n_estimators': 173, 'max_depth': 10, 'learning_rate': 6.127306259349873, 'subsample': 0.9222409185167793, 'colsample_bytree': 0.5269689334605967, 'gamma': 8, 'lr': 1.3001351940338732}. Best is trial 0 with value: 0.5058207534339726.\u001b[0m\n",
            "\u001b[32m[I 2021-06-03 18:37:55,459]\u001b[0m Trial 1 finished with value: 0.5046783625730994 and parameters: {'n_estimators': 375, 'max_depth': 3, 'learning_rate': 7.839035822211026, 'subsample': 0.9530186299339959, 'colsample_bytree': 0.9710351244855333, 'gamma': 4, 'lr': 0.7852034552896222}. Best is trial 0 with value: 0.5058207534339726.\u001b[0m\n",
            "\u001b[32m[I 2021-06-03 18:37:55,735]\u001b[0m Trial 2 finished with value: 0.5023255813953489 and parameters: {'n_estimators': 295, 'max_depth': 13, 'learning_rate': 7.722853619157043, 'subsample': 0.9910865592900422, 'colsample_bytree': 0.6399239062716126, 'gamma': 7, 'lr': 9.875689048770877}. Best is trial 0 with value: 0.5058207534339726.\u001b[0m\n",
            "\u001b[32m[I 2021-06-03 18:37:55,894]\u001b[0m Trial 3 finished with value: 0.6831905344757242 and parameters: {'n_estimators': 60, 'max_depth': 5, 'learning_rate': 2.288788382874496, 'subsample': 0.9663133871017078, 'colsample_bytree': 0.9373673862586505, 'gamma': 5, 'lr': 5.701257825230419}. Best is trial 3 with value: 0.6831905344757242.\u001b[0m\n",
            "\u001b[32m[I 2021-06-03 18:37:56,458]\u001b[0m Trial 4 finished with value: 0.723765809873521 and parameters: {'n_estimators': 134, 'max_depth': 13, 'learning_rate': 1.6419149802168775, 'subsample': 0.7783447561167147, 'colsample_bytree': 0.7859354156235137, 'gamma': 9, 'lr': 2.090389610341258}. Best is trial 4 with value: 0.723765809873521.\u001b[0m\n",
            "\u001b[32m[I 2021-06-03 18:37:56,773]\u001b[0m Trial 5 finished with value: 0.5093363253093975 and parameters: {'n_estimators': 317, 'max_depth': 14, 'learning_rate': 4.416124821702294, 'subsample': 0.6180357684790134, 'colsample_bytree': 0.6487255089270527, 'gamma': 4, 'lr': 8.533014622444615}. Best is trial 4 with value: 0.723765809873521.\u001b[0m\n",
            "\u001b[32m[I 2021-06-03 18:37:56,920]\u001b[0m Trial 6 finished with value: 0.634169726642187 and parameters: {'n_estimators': 80, 'max_depth': 12, 'learning_rate': 2.413728526209059, 'subsample': 0.8113868889593352, 'colsample_bytree': 0.573059417692282, 'gamma': 2, 'lr': 5.600427116389965}. Best is trial 4 with value: 0.723765809873521.\u001b[0m\n",
            "\u001b[32m[I 2021-06-03 18:37:57,197]\u001b[0m Trial 7 finished with value: 0.5011627906976743 and parameters: {'n_estimators': 282, 'max_depth': 5, 'learning_rate': 5.285223335726272, 'subsample': 0.6835344710562543, 'colsample_bytree': 0.5796495410372292, 'gamma': 3, 'lr': 5.344618016516307}. Best is trial 4 with value: 0.723765809873521.\u001b[0m\n",
            "\u001b[32m[I 2021-06-03 18:37:57,361]\u001b[0m Trial 8 finished with value: 0.49534883720930234 and parameters: {'n_estimators': 148, 'max_depth': 9, 'learning_rate': 8.623944859762489, 'subsample': 0.7943878923072021, 'colsample_bytree': 0.5214491705876708, 'gamma': 8, 'lr': 0.8497340106363913}. Best is trial 4 with value: 0.723765809873521.\u001b[0m\n",
            "\u001b[32m[I 2021-06-03 18:37:57,718]\u001b[0m Trial 9 finished with value: 0.5035087719298247 and parameters: {'n_estimators': 326, 'max_depth': 3, 'learning_rate': 9.735359198942877, 'subsample': 0.6003551468236347, 'colsample_bytree': 0.9985045897927904, 'gamma': 4, 'lr': 0.5817552972418475}. Best is trial 4 with value: 0.723765809873521.\u001b[0m\n",
            "\u001b[32m[I 2021-06-03 18:37:58,487]\u001b[0m Trial 10 finished with value: 0.7145042839657283 and parameters: {'n_estimators': 189, 'max_depth': 15, 'learning_rate': 0.14422848667977206, 'subsample': 0.8419262206264138, 'colsample_bytree': 0.8217956092813304, 'gamma': 10, 'lr': 3.244937461604537}. Best is trial 4 with value: 0.723765809873521.\u001b[0m\n",
            "\u001b[32m[I 2021-06-03 18:37:59,310]\u001b[0m Trial 11 finished with value: 0.7145110839113287 and parameters: {'n_estimators': 185, 'max_depth': 15, 'learning_rate': 0.37167099507485285, 'subsample': 0.861774029500137, 'colsample_bytree': 0.8338316774495589, 'gamma': 10, 'lr': 3.097313634115152}. Best is trial 4 with value: 0.723765809873521.\u001b[0m\n",
            "\u001b[32m[I 2021-06-03 18:38:01,201]\u001b[0m Trial 12 finished with value: 0.7168230654154766 and parameters: {'n_estimators': 478, 'max_depth': 11, 'learning_rate': 0.3867103386695758, 'subsample': 0.7295215967402564, 'colsample_bytree': 0.7980649241900644, 'gamma': 10, 'lr': 2.6928182263710623}. Best is trial 4 with value: 0.723765809873521.\u001b[0m\n",
            "\u001b[32m[I 2021-06-03 18:38:02,968]\u001b[0m Trial 13 finished with value: 0.747171222630219 and parameters: {'n_estimators': 496, 'max_depth': 11, 'learning_rate': 1.851950067511675, 'subsample': 0.7194638242331816, 'colsample_bytree': 0.7668160034706483, 'gamma': 10, 'lr': 2.8808790082374194}. Best is trial 13 with value: 0.747171222630219.\u001b[0m\n",
            "\u001b[32m[I 2021-06-03 18:38:03,665]\u001b[0m Trial 14 finished with value: 0.7728546171630627 and parameters: {'n_estimators': 499, 'max_depth': 7, 'learning_rate': 2.4584325640469484, 'subsample': 0.5033619500786979, 'colsample_bytree': 0.7199900559069031, 'gamma': 0, 'lr': 3.9944896982643625}. Best is trial 14 with value: 0.7728546171630627.\u001b[0m\n",
            "\u001b[32m[I 2021-06-03 18:38:04,265]\u001b[0m Trial 15 finished with value: 0.6305521555827553 and parameters: {'n_estimators': 497, 'max_depth': 7, 'learning_rate': 3.6023326082888025, 'subsample': 0.5173417738688568, 'colsample_bytree': 0.708842485012306, 'gamma': 0, 'lr': 4.305088542483627}. Best is trial 14 with value: 0.7728546171630627.\u001b[0m\n",
            "\u001b[32m[I 2021-06-03 18:38:04,876]\u001b[0m Trial 16 finished with value: 0.6761525907792738 and parameters: {'n_estimators': 424, 'max_depth': 7, 'learning_rate': 3.3323165771606913, 'subsample': 0.5094272416618493, 'colsample_bytree': 0.8719686170959711, 'gamma': 0, 'lr': 7.61413188542484}. Best is trial 14 with value: 0.7728546171630627.\u001b[0m\n",
            "\u001b[32m[I 2021-06-03 18:38:06,142]\u001b[0m Trial 17 finished with value: 0.7297089623283013 and parameters: {'n_estimators': 440, 'max_depth': 7, 'learning_rate': 1.3796227068632847, 'subsample': 0.5821223232984477, 'colsample_bytree': 0.7322318164449616, 'gamma': 6, 'lr': 4.176123382186082}. Best is trial 14 with value: 0.7728546171630627.\u001b[0m\n",
            "\u001b[32m[I 2021-06-03 18:38:06,680]\u001b[0m Trial 18 finished with value: 0.6701074391404869 and parameters: {'n_estimators': 388, 'max_depth': 9, 'learning_rate': 3.2195983640063446, 'subsample': 0.6890119544448312, 'colsample_bytree': 0.6904524110065071, 'gamma': 1, 'lr': 6.318919773014011}. Best is trial 14 with value: 0.7728546171630627.\u001b[0m\n",
            "\u001b[32m[I 2021-06-03 18:38:07,989]\u001b[0m Trial 19 finished with value: 0.7751461988304094 and parameters: {'n_estimators': 484, 'max_depth': 5, 'learning_rate': 1.5310829289526064, 'subsample': 0.6549216626077963, 'colsample_bytree': 0.8928422973707073, 'gamma': 2, 'lr': 4.540959800289988}. Best is trial 19 with value: 0.7751461988304094.\u001b[0m\n",
            "\u001b[32m[I 2021-06-03 18:38:08,984]\u001b[0m Trial 20 finished with value: 0.7692438460492316 and parameters: {'n_estimators': 462, 'max_depth': 5, 'learning_rate': 0.8695675022149806, 'subsample': 0.5460444587620459, 'colsample_bytree': 0.8926770708539578, 'gamma': 1, 'lr': 6.972844901777568}. Best is trial 19 with value: 0.7751461988304094.\u001b[0m\n",
            "\u001b[32m[I 2021-06-03 18:38:09,985]\u001b[0m Trial 21 finished with value: 0.7529783761729906 and parameters: {'n_estimators': 447, 'max_depth': 5, 'learning_rate': 0.8532740373286023, 'subsample': 0.553675730749173, 'colsample_bytree': 0.919780892293774, 'gamma': 1, 'lr': 7.152566076190352}. Best is trial 19 with value: 0.7751461988304094.\u001b[0m\n",
            "\u001b[32m[I 2021-06-03 18:38:10,846]\u001b[0m Trial 22 finished with value: 0.645654834761322 and parameters: {'n_estimators': 499, 'max_depth': 6, 'learning_rate': 2.7035823454737304, 'subsample': 0.6513155147755771, 'colsample_bytree': 0.8710563160200935, 'gamma': 2, 'lr': 4.336418981730007}. Best is trial 19 with value: 0.7751461988304094.\u001b[0m\n",
            "\u001b[32m[I 2021-06-03 18:38:11,642]\u001b[0m Trial 23 finished with value: 0.7693322453420371 and parameters: {'n_estimators': 394, 'max_depth': 4, 'learning_rate': 0.8651107428027855, 'subsample': 0.5381057108796082, 'colsample_bytree': 0.8940960919821125, 'gamma': 1, 'lr': 6.729881296757313}. Best is trial 19 with value: 0.7751461988304094.\u001b[0m\n",
            "\u001b[32m[I 2021-06-03 18:38:12,156]\u001b[0m Trial 24 finished with value: 0.6316605467156263 and parameters: {'n_estimators': 398, 'max_depth': 3, 'learning_rate': 4.302636527204262, 'subsample': 0.5028794796897533, 'colsample_bytree': 0.9666994874951208, 'gamma': 0, 'lr': 8.891601531003909}. Best is trial 19 with value: 0.7751461988304094.\u001b[0m\n",
            "\u001b[32m[I 2021-06-03 18:38:12,985]\u001b[0m Trial 25 finished with value: 0.772766217870257 and parameters: {'n_estimators': 345, 'max_depth': 4, 'learning_rate': 1.0968183107047902, 'subsample': 0.6436609605444127, 'colsample_bytree': 0.8430464493240852, 'gamma': 2, 'lr': 4.808944904041129}. Best is trial 19 with value: 0.7751461988304094.\u001b[0m\n",
            "\u001b[32m[I 2021-06-03 18:38:13,807]\u001b[0m Trial 26 finished with value: 0.7460424316605467 and parameters: {'n_estimators': 252, 'max_depth': 8, 'learning_rate': 1.546620517029022, 'subsample': 0.6361226736882988, 'colsample_bytree': 0.8380265163796615, 'gamma': 2, 'lr': 4.583617304485133}. Best is trial 19 with value: 0.7751461988304094.\u001b[0m\n",
            "\u001b[32m[I 2021-06-03 18:38:14,248]\u001b[0m Trial 27 finished with value: 0.6142934856521147 and parameters: {'n_estimators': 352, 'max_depth': 4, 'learning_rate': 2.779545812479202, 'subsample': 0.685108155342825, 'colsample_bytree': 0.7373620085930623, 'gamma': 3, 'lr': 3.618339089106259}. Best is trial 19 with value: 0.7751461988304094.\u001b[0m\n",
            "\u001b[32m[I 2021-06-03 18:38:14,548]\u001b[0m Trial 28 finished with value: 0.5256017951856385 and parameters: {'n_estimators': 243, 'max_depth': 6, 'learning_rate': 3.9243292677620984, 'subsample': 0.5825368644312583, 'colsample_bytree': 0.806188188926952, 'gamma': 3, 'lr': 2.2033033387864642}. Best is trial 19 with value: 0.7751461988304094.\u001b[0m\n",
            "\u001b[32m[I 2021-06-03 18:38:15,019]\u001b[0m Trial 29 finished with value: 0.5350537195702435 and parameters: {'n_estimators': 429, 'max_depth': 6, 'learning_rate': 6.124322765166783, 'subsample': 0.6544086207950679, 'colsample_bytree': 0.8527565246012279, 'gamma': 0, 'lr': 4.905606670860903}. Best is trial 19 with value: 0.7751461988304094.\u001b[0m\n",
            "\u001b[32m[I 2021-06-03 18:38:15,369]\u001b[0m Trial 30 finished with value: 0.5 and parameters: {'n_estimators': 347, 'max_depth': 8, 'learning_rate': 4.998608611854165, 'subsample': 0.7465431782522244, 'colsample_bytree': 0.6852286013877853, 'gamma': 2, 'lr': 1.7173327018840068}. Best is trial 19 with value: 0.7751461988304094.\u001b[0m\n",
            "\u001b[32m[I 2021-06-03 18:38:16,227]\u001b[0m Trial 31 finished with value: 0.7797769617843058 and parameters: {'n_estimators': 419, 'max_depth': 4, 'learning_rate': 1.095643690927473, 'subsample': 0.5499317446122889, 'colsample_bytree': 0.9004672484541707, 'gamma': 1, 'lr': 6.429718967106503}. Best is trial 31 with value: 0.7797769617843058.\u001b[0m\n",
            "\u001b[32m[I 2021-06-03 18:38:17,232]\u001b[0m Trial 32 finished with value: 0.7786685706514348 and parameters: {'n_estimators': 468, 'max_depth': 4, 'learning_rate': 1.1451652828428918, 'subsample': 0.5800966256340835, 'colsample_bytree': 0.9394246083996286, 'gamma': 1, 'lr': 6.128154219775695}. Best is trial 31 with value: 0.7797769617843058.\u001b[0m\n",
            "\u001b[32m[I 2021-06-03 18:38:18,058]\u001b[0m Trial 33 finished with value: 0.7833401332789338 and parameters: {'n_estimators': 470, 'max_depth': 3, 'learning_rate': 2.1385528791807706, 'subsample': 0.5626518751142944, 'colsample_bytree': 0.9865521797485334, 'gamma': 1, 'lr': 6.105813583161478}. Best is trial 33 with value: 0.7833401332789338.\u001b[0m\n",
            "\u001b[32m[I 2021-06-03 18:38:18,897]\u001b[0m Trial 34 finished with value: 0.7705426356589147 and parameters: {'n_estimators': 471, 'max_depth': 3, 'learning_rate': 1.969420770934729, 'subsample': 0.5677287792975195, 'colsample_bytree': 0.9962778790771719, 'gamma': 1, 'lr': 6.195234543893292}. Best is trial 33 with value: 0.7833401332789338.\u001b[0m\n",
            "\u001b[32m[I 2021-06-03 18:38:19,933]\u001b[0m Trial 35 finished with value: 0.7063035495716034 and parameters: {'n_estimators': 415, 'max_depth': 4, 'learning_rate': 0.19908522518634353, 'subsample': 0.6099856852442981, 'colsample_bytree': 0.9590277881721101, 'gamma': 3, 'lr': 7.5290661320545365}. Best is trial 33 with value: 0.7833401332789338.\u001b[0m\n",
            "\u001b[32m[I 2021-06-03 18:38:20,770]\u001b[0m Trial 36 finished with value: 0.7728342173262613 and parameters: {'n_estimators': 461, 'max_depth': 3, 'learning_rate': 1.3670341411963958, 'subsample': 0.5926636987628566, 'colsample_bytree': 0.9401339525659718, 'gamma': 1, 'lr': 6.021968685748009}. Best is trial 33 with value: 0.7833401332789338.\u001b[0m\n",
            "\u001b[32m[I 2021-06-03 18:38:21,707]\u001b[0m Trial 37 finished with value: 0.7413232694138447 and parameters: {'n_estimators': 478, 'max_depth': 4, 'learning_rate': 1.923560593887635, 'subsample': 0.5309543736995156, 'colsample_bytree': 0.9161645919140521, 'gamma': 2, 'lr': 8.457159928518799}. Best is trial 33 with value: 0.7833401332789338.\u001b[0m\n",
            "\u001b[32m[I 2021-06-03 18:38:22,437]\u001b[0m Trial 38 finished with value: 0.6204338365293077 and parameters: {'n_estimators': 446, 'max_depth': 5, 'learning_rate': 2.967896244660161, 'subsample': 0.6290022594402587, 'colsample_bytree': 0.9969373269496633, 'gamma': 4, 'lr': 5.1214614070747615}. Best is trial 33 with value: 0.7833401332789338.\u001b[0m\n",
            "\u001b[32m[I 2021-06-03 18:38:23,217]\u001b[0m Trial 39 finished with value: 0.717985856113151 and parameters: {'n_estimators': 373, 'max_depth': 3, 'learning_rate': 2.1891958340341695, 'subsample': 0.5599264871914028, 'colsample_bytree': 0.9438942676753742, 'gamma': 5, 'lr': 5.684600506750559}. Best is trial 33 with value: 0.7833401332789338.\u001b[0m\n",
            "\u001b[32m[I 2021-06-03 18:38:24,062]\u001b[0m Trial 40 finished with value: 0.756514347885217 and parameters: {'n_estimators': 413, 'max_depth': 4, 'learning_rate': 0.665499953478927, 'subsample': 0.6045368916276906, 'colsample_bytree': 0.9827349744883035, 'gamma': 1, 'lr': 8.017793936820647}. Best is trial 33 with value: 0.7833401332789338.\u001b[0m\n",
            "\u001b[32m[I 2021-06-03 18:38:24,759]\u001b[0m Trial 41 finished with value: 0.7425812593499252 and parameters: {'n_estimators': 482, 'max_depth': 6, 'learning_rate': 2.431190000852678, 'subsample': 0.5245494747253385, 'colsample_bytree': 0.6468497444221339, 'gamma': 0, 'lr': 3.8398309593882747}. Best is trial 33 with value: 0.7833401332789338.\u001b[0m\n",
            "\u001b[32m[I 2021-06-03 18:38:25,532]\u001b[0m Trial 42 finished with value: 0.8055011559907521 and parameters: {'n_estimators': 495, 'max_depth': 5, 'learning_rate': 1.6024910982586364, 'subsample': 0.5017724333414731, 'colsample_bytree': 0.9178997088375778, 'gamma': 0, 'lr': 6.591361187563661}. Best is trial 42 with value: 0.8055011559907521.\u001b[0m\n",
            "\u001b[32m[I 2021-06-03 18:38:26,285]\u001b[0m Trial 43 finished with value: 0.7973412212702298 and parameters: {'n_estimators': 458, 'max_depth': 5, 'learning_rate': 1.3669710419249506, 'subsample': 0.5584351011338134, 'colsample_bytree': 0.9178794784986515, 'gamma': 0, 'lr': 6.710788513229898}. Best is trial 42 with value: 0.8055011559907521.\u001b[0m\n",
            "\u001b[32m[I 2021-06-03 18:38:27,279]\u001b[0m Trial 44 finished with value: 0.7938324493404053 and parameters: {'n_estimators': 449, 'max_depth': 5, 'learning_rate': 0.21543629177140566, 'subsample': 0.5667141040556191, 'colsample_bytree': 0.9180929737464206, 'gamma': 0, 'lr': 6.447572504462428}. Best is trial 42 with value: 0.8055011559907521.\u001b[0m\n",
            "\u001b[32m[I 2021-06-03 18:38:28,225]\u001b[0m Trial 45 finished with value: 0.7903576771385828 and parameters: {'n_estimators': 445, 'max_depth': 5, 'learning_rate': 0.17796035100520213, 'subsample': 0.5547821702180249, 'colsample_bytree': 0.9161929209580764, 'gamma': 0, 'lr': 6.587638730672684}. Best is trial 42 with value: 0.8055011559907521.\u001b[0m\n",
            "\u001b[32m[I 2021-06-03 18:38:29,075]\u001b[0m Trial 46 finished with value: 0.7973344213246294 and parameters: {'n_estimators': 450, 'max_depth': 5, 'learning_rate': 0.29837954078995754, 'subsample': 0.5025354669481219, 'colsample_bytree': 0.9186036503347351, 'gamma': 0, 'lr': 7.365309872343599}. Best is trial 42 with value: 0.8055011559907521.\u001b[0m\n",
            "\u001b[32m[I 2021-06-03 18:38:29,886]\u001b[0m Trial 47 finished with value: 0.7879912960696315 and parameters: {'n_estimators': 365, 'max_depth': 6, 'learning_rate': 0.13934568773701636, 'subsample': 0.5042687294445057, 'colsample_bytree': 0.8666646781754008, 'gamma': 0, 'lr': 7.387949774499623}. Best is trial 42 with value: 0.8055011559907521.\u001b[0m\n",
            "\u001b[32m[I 2021-06-03 18:38:30,691]\u001b[0m Trial 48 finished with value: 0.7891948864409085 and parameters: {'n_estimators': 439, 'max_depth': 8, 'learning_rate': 0.46570040384232847, 'subsample': 0.5324179159149582, 'colsample_bytree': 0.9199522869281783, 'gamma': 0, 'lr': 8.106587129330386}. Best is trial 42 with value: 0.8055011559907521.\u001b[0m\n",
            "\u001b[32m[I 2021-06-03 18:38:31,281]\u001b[0m Trial 49 finished with value: 0.7728070175438597 and parameters: {'n_estimators': 316, 'max_depth': 5, 'learning_rate': 0.2504849215241247, 'subsample': 0.5011696779513457, 'colsample_bytree': 0.9599372705202588, 'gamma': 0, 'lr': 9.27045016697515}. Best is trial 42 with value: 0.8055011559907521.\u001b[0m\n",
            "\u001b[32m[I 2021-06-03 18:38:31,681]\u001b[0m Trial 50 finished with value: 0.5186386508907929 and parameters: {'n_estimators': 401, 'max_depth': 6, 'learning_rate': 6.6864117588034535, 'subsample': 0.9549875638758689, 'colsample_bytree': 0.8155663748975372, 'gamma': 0, 'lr': 6.698019807659236}. Best is trial 42 with value: 0.8055011559907521.\u001b[0m\n",
            "\u001b[32m[I 2021-06-03 18:38:32,407]\u001b[0m Trial 51 finished with value: 0.7786549707602339 and parameters: {'n_estimators': 446, 'max_depth': 8, 'learning_rate': 0.4794588072141379, 'subsample': 0.5275535150848835, 'colsample_bytree': 0.9185731732022123, 'gamma': 0, 'lr': 9.859163710850192}. Best is trial 42 with value: 0.8055011559907521.\u001b[0m\n",
            "\u001b[32m[I 2021-06-03 18:38:33,391]\u001b[0m Trial 52 finished with value: 0.7798245614035088 and parameters: {'n_estimators': 443, 'max_depth': 7, 'learning_rate': 0.14209411129761584, 'subsample': 0.5245425284440721, 'colsample_bytree': 0.9281157870259042, 'gamma': 0, 'lr': 8.105427650499934}. Best is trial 42 with value: 0.8055011559907521.\u001b[0m\n",
            "\u001b[32m[I 2021-06-03 18:38:34,173]\u001b[0m Trial 53 finished with value: 0.790357677138583 and parameters: {'n_estimators': 498, 'max_depth': 10, 'learning_rate': 0.6122129488547416, 'subsample': 0.5013642912905771, 'colsample_bytree': 0.8834754907218159, 'gamma': 0, 'lr': 8.228127330932006}. Best is trial 42 with value: 0.8055011559907521.\u001b[0m\n",
            "\u001b[32m[I 2021-06-03 18:38:35,663]\u001b[0m Trial 54 finished with value: 0.7075275397796819 and parameters: {'n_estimators': 489, 'max_depth': 11, 'learning_rate': 0.7204356057527035, 'subsample': 0.5741514550211173, 'colsample_bytree': 0.773557991850749, 'gamma': 7, 'lr': 5.516234764283618}. Best is trial 42 with value: 0.8055011559907521.\u001b[0m\n",
            "\u001b[32m[I 2021-06-03 18:38:36,394]\u001b[0m Trial 55 finished with value: 0.8078539371685027 and parameters: {'n_estimators': 495, 'max_depth': 12, 'learning_rate': 1.7159848549851269, 'subsample': 0.5087553026625786, 'colsample_bytree': 0.8788404819322487, 'gamma': 0, 'lr': 7.061095462942559}. Best is trial 55 with value: 0.8078539371685027.\u001b[0m\n",
            "\u001b[32m[I 2021-06-03 18:38:37,461]\u001b[0m Trial 56 finished with value: 0.7856725146198831 and parameters: {'n_estimators': 497, 'max_depth': 13, 'learning_rate': 1.5493062151747627, 'subsample': 0.5126847691049735, 'colsample_bytree': 0.8756427597139264, 'gamma': 1, 'lr': 7.021809226347888}. Best is trial 55 with value: 0.8078539371685027.\u001b[0m\n",
            "\u001b[32m[I 2021-06-03 18:38:38,977]\u001b[0m Trial 57 finished with value: 0.688780089759282 and parameters: {'n_estimators': 459, 'max_depth': 10, 'learning_rate': 1.7764499525758282, 'subsample': 0.893988532924114, 'colsample_bytree': 0.9005169009757275, 'gamma': 9, 'lr': 9.012112756776727}. Best is trial 55 with value: 0.8078539371685027.\u001b[0m\n",
            "\u001b[32m[I 2021-06-03 18:38:39,188]\u001b[0m Trial 58 finished with value: 0.7576771385828913 and parameters: {'n_estimators': 76, 'max_depth': 10, 'learning_rate': 1.1877214765045074, 'subsample': 0.5054067041349594, 'colsample_bytree': 0.8585141827070133, 'gamma': 0, 'lr': 7.754004190136586}. Best is trial 55 with value: 0.8078539371685027.\u001b[0m\n",
            "\u001b[32m[I 2021-06-03 18:38:40,255]\u001b[0m Trial 59 finished with value: 0.7844417244662043 and parameters: {'n_estimators': 494, 'max_depth': 12, 'learning_rate': 0.7767689642776738, 'subsample': 0.5421981217345988, 'colsample_bytree': 0.8251239755074845, 'gamma': 1, 'lr': 7.234970224919543}. Best is trial 55 with value: 0.8078539371685027.\u001b[0m\n",
            "\u001b[32m[I 2021-06-03 18:38:40,803]\u001b[0m Trial 60 finished with value: 0.5686998504011969 and parameters: {'n_estimators': 499, 'max_depth': 12, 'learning_rate': 9.625555656926874, 'subsample': 0.5016604488155487, 'colsample_bytree': 0.8841744917674884, 'gamma': 0, 'lr': 8.65110546181085}. Best is trial 55 with value: 0.8078539371685027.\u001b[0m\n",
            "\u001b[32m[I 2021-06-03 18:38:41,644]\u001b[0m Trial 61 finished with value: 0.7926628586971304 and parameters: {'n_estimators': 456, 'max_depth': 14, 'learning_rate': 0.546323233419298, 'subsample': 0.5551196744353241, 'colsample_bytree': 0.9057365514765645, 'gamma': 0, 'lr': 6.705848086944516}. Best is trial 55 with value: 0.8078539371685027.\u001b[0m\n",
            "\u001b[32m[I 2021-06-03 18:38:42,493]\u001b[0m Trial 62 finished with value: 0.7915272677818577 and parameters: {'n_estimators': 428, 'max_depth': 15, 'learning_rate': 0.5217463040758092, 'subsample': 0.6185101725547922, 'colsample_bytree': 0.9487999915961324, 'gamma': 0, 'lr': 6.8964129105187935}. Best is trial 55 with value: 0.8078539371685027.\u001b[0m\n",
            "\u001b[32m[I 2021-06-03 18:38:43,654]\u001b[0m Trial 63 finished with value: 0.7658370733034136 and parameters: {'n_estimators': 428, 'max_depth': 14, 'learning_rate': 1.1031151611894021, 'subsample': 0.6197865712194385, 'colsample_bytree': 0.9510954364883494, 'gamma': 1, 'lr': 6.809172392926523}. Best is trial 55 with value: 0.8078539371685027.\u001b[0m\n",
            "\u001b[32m[I 2021-06-03 18:38:44,406]\u001b[0m Trial 64 finished with value: 0.7903712770297837 and parameters: {'n_estimators': 458, 'max_depth': 15, 'learning_rate': 1.6069972102187762, 'subsample': 0.590686779570311, 'colsample_bytree': 0.9750943708212152, 'gamma': 0, 'lr': 5.9285065347510955}. Best is trial 55 with value: 0.8078539371685027.\u001b[0m\n",
            "\u001b[32m[I 2021-06-03 18:38:45,327]\u001b[0m Trial 65 finished with value: 0.7774853801169591 and parameters: {'n_estimators': 407, 'max_depth': 14, 'learning_rate': 1.3171996550348726, 'subsample': 0.5677093019312395, 'colsample_bytree': 0.9027584703521885, 'gamma': 1, 'lr': 7.7371706532310975}. Best is trial 55 with value: 0.8078539371685027.\u001b[0m\n",
            "\u001b[32m[I 2021-06-03 18:38:45,967]\u001b[0m Trial 66 finished with value: 0.7472256221950223 and parameters: {'n_estimators': 386, 'max_depth': 13, 'learning_rate': 2.6033794265610597, 'subsample': 0.596300210770107, 'colsample_bytree': 0.9083816583898902, 'gamma': 0, 'lr': 5.260832125862632}. Best is trial 55 with value: 0.8078539371685027.\u001b[0m\n",
            "\u001b[32m[I 2021-06-03 18:38:47,083]\u001b[0m Trial 67 finished with value: 0.7774921800625595 and parameters: {'n_estimators': 435, 'max_depth': 13, 'learning_rate': 0.9151794342738767, 'subsample': 0.5369833394136193, 'colsample_bytree': 0.9289228229098978, 'gamma': 1, 'lr': 7.110009768375106}. Best is trial 55 with value: 0.8078539371685027.\u001b[0m\n",
            "\u001b[32m[I 2021-06-03 18:38:48,253]\u001b[0m Trial 68 finished with value: 0.7471304229566164 and parameters: {'n_estimators': 456, 'max_depth': 15, 'learning_rate': 0.4145726054951586, 'subsample': 0.9974634698999565, 'colsample_bytree': 0.5500520985888505, 'gamma': 2, 'lr': 5.785323058092833}. Best is trial 55 with value: 0.8078539371685027.\u001b[0m\n",
            "\u001b[32m[I 2021-06-03 18:38:48,559]\u001b[0m Trial 69 finished with value: 0.7845097239222086 and parameters: {'n_estimators': 123, 'max_depth': 14, 'learning_rate': 1.7153285056870082, 'subsample': 0.6660434986659282, 'colsample_bytree': 0.9504702634542336, 'gamma': 0, 'lr': 6.55747155511544}. Best is trial 55 with value: 0.8078539371685027.\u001b[0m\n",
            "\u001b[32m[I 2021-06-03 18:38:49,247]\u001b[0m Trial 70 finished with value: 0.7799129606963144 and parameters: {'n_estimators': 476, 'max_depth': 15, 'learning_rate': 2.160074573779775, 'subsample': 0.7045351207685034, 'colsample_bytree': 0.976986604557307, 'gamma': 0, 'lr': 6.856734759480959}. Best is trial 55 with value: 0.8078539371685027.\u001b[0m\n",
            "\u001b[32m[I 2021-06-03 18:38:50,052]\u001b[0m Trial 71 finished with value: 0.7985108119135047 and parameters: {'n_estimators': 453, 'max_depth': 14, 'learning_rate': 1.5616985102786924, 'subsample': 0.5893547650529787, 'colsample_bytree': 0.9685832762249157, 'gamma': 0, 'lr': 5.825995867464896}. Best is trial 55 with value: 0.8078539371685027.\u001b[0m\n",
            "\u001b[32m[I 2021-06-03 18:38:50,823]\u001b[0m Trial 72 finished with value: 0.8066911464708282 and parameters: {'n_estimators': 425, 'max_depth': 14, 'learning_rate': 0.9635955086413569, 'subsample': 0.6124432268577906, 'colsample_bytree': 0.928926322049426, 'gamma': 0, 'lr': 6.3625358638347915}. Best is trial 55 with value: 0.8078539371685027.\u001b[0m\n",
            "\u001b[32m[I 2021-06-03 18:38:51,629]\u001b[0m Trial 73 finished with value: 0.734468924248606 and parameters: {'n_estimators': 476, 'max_depth': 14, 'learning_rate': 3.081600724185555, 'subsample': 0.5504845416018063, 'colsample_bytree': 0.9677362744285175, 'gamma': 1, 'lr': 6.29737554877415}. Best is trial 55 with value: 0.8078539371685027.\u001b[0m\n",
            "\u001b[32m[I 2021-06-03 18:38:52,493]\u001b[0m Trial 74 finished with value: 0.817156262749898 and parameters: {'n_estimators': 458, 'max_depth': 13, 'learning_rate': 0.9542960300840838, 'subsample': 0.577405821278763, 'colsample_bytree': 0.9346407786483923, 'gamma': 0, 'lr': 5.494581254722121}. Best is trial 74 with value: 0.817156262749898.\u001b[0m\n",
            "\u001b[32m[I 2021-06-03 18:38:53,790]\u001b[0m Trial 75 finished with value: 0.7821705426356589 and parameters: {'n_estimators': 486, 'max_depth': 13, 'learning_rate': 1.3749363452010233, 'subsample': 0.5776306987363332, 'colsample_bytree': 0.9341991408674323, 'gamma': 1, 'lr': 5.469265113155753}. Best is trial 74 with value: 0.817156262749898.\u001b[0m\n",
            "\u001b[32m[I 2021-06-03 18:38:54,486]\u001b[0m Trial 76 finished with value: 0.7763565891472868 and parameters: {'n_estimators': 418, 'max_depth': 12, 'learning_rate': 1.877722335475339, 'subsample': 0.6069197408730395, 'colsample_bytree': 0.9298129430604561, 'gamma': 0, 'lr': 5.721607287887098}. Best is trial 74 with value: 0.817156262749898.\u001b[0m\n",
            "\u001b[32m[I 2021-06-03 18:38:55,802]\u001b[0m Trial 77 finished with value: 0.7588467292261661 and parameters: {'n_estimators': 468, 'max_depth': 13, 'learning_rate': 0.9510267314753893, 'subsample': 0.7689720027568856, 'colsample_bytree': 0.9614050632029636, 'gamma': 1, 'lr': 7.31108857947685}. Best is trial 74 with value: 0.817156262749898.\u001b[0m\n",
            "\u001b[32m[I 2021-06-03 18:38:56,712]\u001b[0m Trial 78 finished with value: 0.7692778457772338 and parameters: {'n_estimators': 384, 'max_depth': 5, 'learning_rate': 2.2309587273838676, 'subsample': 0.5211512737097783, 'colsample_bytree': 0.8898527299952843, 'gamma': 2, 'lr': 6.423248031022125}. Best is trial 74 with value: 0.817156262749898.\u001b[0m\n",
            "\u001b[32m[I 2021-06-03 18:38:57,454]\u001b[0m Trial 79 finished with value: 0.8066503467972256 and parameters: {'n_estimators': 430, 'max_depth': 11, 'learning_rate': 1.3611219828055536, 'subsample': 0.5888713830880082, 'colsample_bytree': 0.8544783302694212, 'gamma': 0, 'lr': 5.155220092008951}. Best is trial 74 with value: 0.817156262749898.\u001b[0m\n",
            "\u001b[32m[I 2021-06-03 18:38:58,112]\u001b[0m Trial 80 finished with value: 0.6421052631578947 and parameters: {'n_estimators': 425, 'max_depth': 11, 'learning_rate': 3.484090273072349, 'subsample': 0.666842956076237, 'colsample_bytree': 0.8611342336618457, 'gamma': 1, 'lr': 4.798144566519913}. Best is trial 74 with value: 0.817156262749898.\u001b[0m\n",
            "\u001b[32m[I 2021-06-03 18:38:58,876]\u001b[0m Trial 81 finished with value: 0.7844961240310077 and parameters: {'n_estimators': 451, 'max_depth': 12, 'learning_rate': 1.3684831065114946, 'subsample': 0.6237673707953875, 'colsample_bytree': 0.8504286115640323, 'gamma': 0, 'lr': 5.281017411297815}. Best is trial 74 with value: 0.817156262749898.\u001b[0m\n",
            "\u001b[32m[I 2021-06-03 18:38:59,636]\u001b[0m Trial 82 finished with value: 0.8066639466884264 and parameters: {'n_estimators': 406, 'max_depth': 11, 'learning_rate': 1.00547696566806, 'subsample': 0.5856863610909775, 'colsample_bytree': 0.9903003536666604, 'gamma': 0, 'lr': 6.075867935944287}. Best is trial 74 with value: 0.817156262749898.\u001b[0m\n",
            "\u001b[32m[I 2021-06-03 18:39:00,412]\u001b[0m Trial 83 finished with value: 0.7984972120223037 and parameters: {'n_estimators': 410, 'max_depth': 11, 'learning_rate': 0.9792856037340583, 'subsample': 0.5884054210780245, 'colsample_bytree': 0.9988094587919172, 'gamma': 0, 'lr': 5.930512181477477}. Best is trial 74 with value: 0.817156262749898.\u001b[0m\n",
            "\u001b[32m[I 2021-06-03 18:39:01,655]\u001b[0m Trial 84 finished with value: 0.7297429620563036 and parameters: {'n_estimators': 372, 'max_depth': 11, 'learning_rate': 2.0592458208512676, 'subsample': 0.586878387517864, 'colsample_bytree': 0.9943745558321518, 'gamma': 6, 'lr': 5.976625509857459}. Best is trial 74 with value: 0.817156262749898.\u001b[0m\n",
            "\u001b[32m[I 2021-06-03 18:39:02,376]\u001b[0m Trial 85 finished with value: 0.7810077519379846 and parameters: {'n_estimators': 406, 'max_depth': 12, 'learning_rate': 1.683744127493557, 'subsample': 0.6343900215098155, 'colsample_bytree': 0.9865362553046635, 'gamma': 0, 'lr': 4.948128086105082}. Best is trial 74 with value: 0.817156262749898.\u001b[0m\n",
            "\u001b[32m[I 2021-06-03 18:39:03,524]\u001b[0m Trial 86 finished with value: 0.7786821705426357 and parameters: {'n_estimators': 396, 'max_depth': 11, 'learning_rate': 1.0262710029788078, 'subsample': 0.5909408322501671, 'colsample_bytree': 0.9727419348603711, 'gamma': 1, 'lr': 5.84461753216026}. Best is trial 74 with value: 0.817156262749898.\u001b[0m\n",
            "\u001b[32m[I 2021-06-03 18:39:04,161]\u001b[0m Trial 87 finished with value: 0.7693050455596355 and parameters: {'n_estimators': 357, 'max_depth': 9, 'learning_rate': 2.5359671964143002, 'subsample': 0.6115273143426032, 'colsample_bytree': 0.9408722716706964, 'gamma': 0, 'lr': 5.457730784545558}. Best is trial 74 with value: 0.817156262749898.\u001b[0m\n",
            "\u001b[32m[I 2021-06-03 18:39:04,905]\u001b[0m Trial 88 finished with value: 0.7740514075887392 and parameters: {'n_estimators': 435, 'max_depth': 11, 'learning_rate': 1.893512624453523, 'subsample': 0.6018410029892838, 'colsample_bytree': 0.9589740878577708, 'gamma': 0, 'lr': 4.545454263213722}. Best is trial 74 with value: 0.817156262749898.\u001b[0m\n",
            "\u001b[32m[I 2021-06-03 18:39:05,386]\u001b[0m Trial 89 finished with value: 0.6352305181558547 and parameters: {'n_estimators': 414, 'max_depth': 12, 'learning_rate': 2.8324722342228403, 'subsample': 0.6445784139323028, 'colsample_bytree': 0.6061581486835139, 'gamma': 1, 'lr': 6.163929229232192}. Best is trial 74 with value: 0.817156262749898.\u001b[0m\n",
            "\u001b[32m[I 2021-06-03 18:39:06,196]\u001b[0m Trial 90 finished with value: 0.7961988304093567 and parameters: {'n_estimators': 467, 'max_depth': 10, 'learning_rate': 1.2354322327365062, 'subsample': 0.5765140582985057, 'colsample_bytree': 0.8766935783889941, 'gamma': 0, 'lr': 5.22927127475143}. Best is trial 74 with value: 0.817156262749898.\u001b[0m\n",
            "\u001b[32m[I 2021-06-03 18:39:06,686]\u001b[0m Trial 91 finished with value: 0.782204542363661 and parameters: {'n_estimators': 211, 'max_depth': 13, 'learning_rate': 0.8094131425753768, 'subsample': 0.5420638955946472, 'colsample_bytree': 0.9986850359933395, 'gamma': 0, 'lr': 6.1909775784763434}. Best is trial 74 with value: 0.817156262749898.\u001b[0m\n",
            "\u001b[32m[I 2021-06-03 18:39:07,407]\u001b[0m Trial 92 finished with value: 0.7879776961784305 and parameters: {'n_estimators': 438, 'max_depth': 12, 'learning_rate': 1.3937846439728117, 'subsample': 0.5672165104042017, 'colsample_bytree': 0.9227322951509732, 'gamma': 0, 'lr': 7.496295397875257}. Best is trial 74 with value: 0.817156262749898.\u001b[0m\n",
            "\u001b[32m[I 2021-06-03 18:39:08,112]\u001b[0m Trial 93 finished with value: 0.7833537331701346 and parameters: {'n_estimators': 424, 'max_depth': 11, 'learning_rate': 1.5699665876172526, 'subsample': 0.5153977644005497, 'colsample_bytree': 0.9116239822820058, 'gamma': 0, 'lr': 5.524487012797069}. Best is trial 74 with value: 0.817156262749898.\u001b[0m\n",
            "\u001b[32m[I 2021-06-03 18:39:09,308]\u001b[0m Trial 94 finished with value: 0.7693050455596355 and parameters: {'n_estimators': 479, 'max_depth': 14, 'learning_rate': 1.0070252202730932, 'subsample': 0.5846763379468478, 'colsample_bytree': 0.8944208862441034, 'gamma': 1, 'lr': 6.381907949730004}. Best is trial 74 with value: 0.817156262749898.\u001b[0m\n",
            "\u001b[32m[I 2021-06-03 18:39:10,072]\u001b[0m Trial 95 finished with value: 0.7764041887664899 and parameters: {'n_estimators': 486, 'max_depth': 13, 'learning_rate': 2.37882861520572, 'subsample': 0.5603317031090991, 'colsample_bytree': 0.9532171687654934, 'gamma': 0, 'lr': 5.055183202958013}. Best is trial 74 with value: 0.817156262749898.\u001b[0m\n",
            "\u001b[32m[I 2021-06-03 18:39:11,240]\u001b[0m Trial 96 finished with value: 0.7798177614579084 and parameters: {'n_estimators': 435, 'max_depth': 9, 'learning_rate': 1.1619989813599239, 'subsample': 0.5399508535789609, 'colsample_bytree': 0.9343257201264087, 'gamma': 1, 'lr': 5.929457897697565}. Best is trial 74 with value: 0.817156262749898.\u001b[0m\n",
            "\u001b[32m[I 2021-06-03 18:39:11,898]\u001b[0m Trial 97 finished with value: 0.8055351557187542 and parameters: {'n_estimators': 336, 'max_depth': 11, 'learning_rate': 0.6272982263298365, 'subsample': 0.6004737594765109, 'colsample_bytree': 0.8413354144257879, 'gamma': 0, 'lr': 7.078172912359554}. Best is trial 74 with value: 0.817156262749898.\u001b[0m\n",
            "\u001b[32m[I 2021-06-03 18:39:12,530]\u001b[0m Trial 98 finished with value: 0.8042975656194751 and parameters: {'n_estimators': 327, 'max_depth': 11, 'learning_rate': 0.7006392283281151, 'subsample': 0.5997347170354642, 'colsample_bytree': 0.8432058844263172, 'gamma': 0, 'lr': 7.051150452594431}. Best is trial 74 with value: 0.817156262749898.\u001b[0m\n",
            "\u001b[32m[I 2021-06-03 18:39:13,093]\u001b[0m Trial 99 finished with value: 0.796171630626955 and parameters: {'n_estimators': 293, 'max_depth': 11, 'learning_rate': 0.7002076804942197, 'subsample': 0.6345393142382038, 'colsample_bytree': 0.7685774839169783, 'gamma': 0, 'lr': 7.0031310395672435}. Best is trial 74 with value: 0.817156262749898.\u001b[0m\n",
            "\u001b[32m[I 2021-06-03 18:39:13,846]\u001b[0m Trial 100 finished with value: 0.7529783761729906 and parameters: {'n_estimators': 331, 'max_depth': 10, 'learning_rate': 0.8440053615901574, 'subsample': 0.6124506193536329, 'colsample_bytree': 0.7927330358288126, 'gamma': 1, 'lr': 7.865945130780283}. Best is trial 74 with value: 0.817156262749898.\u001b[0m\n",
            "\u001b[32m[I 2021-06-03 18:39:14,331]\u001b[0m Trial 101 finished with value: 0.7914864681082552 and parameters: {'n_estimators': 267, 'max_depth': 10, 'learning_rate': 1.5720645821141048, 'subsample': 0.602309735962097, 'colsample_bytree': 0.8353005990993067, 'gamma': 0, 'lr': 6.559604178239784}. Best is trial 74 with value: 0.817156262749898.\u001b[0m\n",
            "\u001b[32m[I 2021-06-03 18:39:14,929]\u001b[0m Trial 102 finished with value: 0.804345165238678 and parameters: {'n_estimators': 338, 'max_depth': 11, 'learning_rate': 1.2561534498830407, 'subsample': 0.5960166892503904, 'colsample_bytree': 0.8419303495195181, 'gamma': 0, 'lr': 6.6867240802300705}. Best is trial 74 with value: 0.817156262749898.\u001b[0m\n",
            "\u001b[32m[I 2021-06-03 18:39:15,733]\u001b[0m Trial 103 finished with value: 0.7903304773561812 and parameters: {'n_estimators': 334, 'max_depth': 11, 'learning_rate': 0.5854866584218572, 'subsample': 0.5958455747065285, 'colsample_bytree': 0.808638765464482, 'gamma': 0, 'lr': 0.1474069824102564}. Best is trial 74 with value: 0.817156262749898.\u001b[0m\n",
            "\u001b[32m[I 2021-06-03 18:39:16,286]\u001b[0m Trial 104 finished with value: 0.7996804025567796 and parameters: {'n_estimators': 273, 'max_depth': 12, 'learning_rate': 1.0442034883697393, 'subsample': 0.6213625771365997, 'colsample_bytree': 0.8428220079401468, 'gamma': 0, 'lr': 5.68047777573379}. Best is trial 74 with value: 0.817156262749898.\u001b[0m\n",
            "\u001b[32m[I 2021-06-03 18:39:16,802]\u001b[0m Trial 105 finished with value: 0.7834149326805384 and parameters: {'n_estimators': 313, 'max_depth': 12, 'learning_rate': 1.814955260298943, 'subsample': 0.668737877081929, 'colsample_bytree': 0.8459198286304447, 'gamma': 0, 'lr': 7.126857251604323}. Best is trial 74 with value: 0.817156262749898.\u001b[0m\n",
            "\u001b[32m[I 2021-06-03 18:39:17,516]\u001b[0m Trial 106 finished with value: 0.800843193254454 and parameters: {'n_estimators': 274, 'max_depth': 12, 'learning_rate': 0.3063095854058472, 'subsample': 0.6274708257996974, 'colsample_bytree': 0.8167411770000959, 'gamma': 0, 'lr': 4.706935534305304}. Best is trial 74 with value: 0.817156262749898.\u001b[0m\n",
            "\u001b[32m[I 2021-06-03 18:39:18,470]\u001b[0m Trial 107 finished with value: 0.7867877056983544 and parameters: {'n_estimators': 301, 'max_depth': 12, 'learning_rate': 0.38783860335296555, 'subsample': 0.6430181792861929, 'colsample_bytree': 0.819711536325606, 'gamma': 1, 'lr': 4.351810371053295}. Best is trial 74 with value: 0.817156262749898.\u001b[0m\n",
            "\u001b[32m[I 2021-06-03 18:39:18,988]\u001b[0m Trial 108 finished with value: 0.8067183462532299 and parameters: {'n_estimators': 247, 'max_depth': 12, 'learning_rate': 1.1569070499456224, 'subsample': 0.6261697897471896, 'colsample_bytree': 0.8308564542983918, 'gamma': 0, 'lr': 4.776268293237993}. Best is trial 74 with value: 0.817156262749898.\u001b[0m\n",
            "\u001b[32m[I 2021-06-03 18:39:19,687]\u001b[0m Trial 109 finished with value: 0.7903168774649802 and parameters: {'n_estimators': 241, 'max_depth': 12, 'learning_rate': 0.7234672377013123, 'subsample': 0.6146740539096829, 'colsample_bytree': 0.8265370585438769, 'gamma': 1, 'lr': 4.723184860655427}. Best is trial 74 with value: 0.817156262749898.\u001b[0m\n",
            "\u001b[32m[I 2021-06-03 18:39:20,386]\u001b[0m Trial 110 finished with value: 0.7949952400380798 and parameters: {'n_estimators': 220, 'max_depth': 13, 'learning_rate': 0.1575218786201422, 'subsample': 0.6278434884790417, 'colsample_bytree': 0.8037722852743778, 'gamma': 0, 'lr': 3.925858414983497}. Best is trial 74 with value: 0.817156262749898.\u001b[0m\n",
            "\u001b[32m[I 2021-06-03 18:39:20,992]\u001b[0m Trial 111 finished with value: 0.8007751937984496 and parameters: {'n_estimators': 271, 'max_depth': 12, 'learning_rate': 1.1821976181199583, 'subsample': 0.619271782296333, 'colsample_bytree': 0.834479088308963, 'gamma': 0, 'lr': 3.554917894191205}. Best is trial 74 with value: 0.817156262749898.\u001b[0m\n",
            "\u001b[32m[I 2021-06-03 18:39:21,557]\u001b[0m Trial 112 finished with value: 0.8206446348429213 and parameters: {'n_estimators': 260, 'max_depth': 11, 'learning_rate': 1.2070722290188243, 'subsample': 0.6472523817333667, 'colsample_bytree': 0.7784994064661883, 'gamma': 0, 'lr': 3.4052528696016626}. Best is trial 112 with value: 0.8206446348429213.\u001b[0m\n",
            "\u001b[32m[I 2021-06-03 18:39:22,289]\u001b[0m Trial 113 finished with value: 0.824139806881545 and parameters: {'n_estimators': 290, 'max_depth': 11, 'learning_rate': 0.6030838703798529, 'subsample': 0.6607454776433086, 'colsample_bytree': 0.7833021152673308, 'gamma': 0, 'lr': 3.2697175028724956}. Best is trial 113 with value: 0.824139806881545.\u001b[0m\n",
            "\u001b[32m[I 2021-06-03 18:39:22,970]\u001b[0m Trial 114 finished with value: 0.8148238814089488 and parameters: {'n_estimators': 252, 'max_depth': 10, 'learning_rate': 0.6310572812699129, 'subsample': 0.6562169151255829, 'colsample_bytree': 0.7537370763691018, 'gamma': 0, 'lr': 2.513515971779057}. Best is trial 113 with value: 0.824139806881545.\u001b[0m\n",
            "\u001b[32m[I 2021-06-03 18:39:23,529]\u001b[0m Trial 115 finished with value: 0.8031687746498027 and parameters: {'n_estimators': 262, 'max_depth': 10, 'learning_rate': 1.3638177951078805, 'subsample': 0.7004216706914004, 'colsample_bytree': 0.7567142119527516, 'gamma': 0, 'lr': 2.527526715942862}. Best is trial 113 with value: 0.824139806881545.\u001b[0m\n",
            "\u001b[32m[I 2021-06-03 18:39:24,483]\u001b[0m Trial 116 finished with value: 0.7926696586427309 and parameters: {'n_estimators': 287, 'max_depth': 10, 'learning_rate': 0.5137370657731397, 'subsample': 0.6823998571833085, 'colsample_bytree': 0.7794733750343639, 'gamma': 1, 'lr': 3.0515668049581355}. Best is trial 113 with value: 0.824139806881545.\u001b[0m\n",
            "\u001b[32m[I 2021-06-03 18:39:24,931]\u001b[0m Trial 117 finished with value: 0.7868693050455595 and parameters: {'n_estimators': 243, 'max_depth': 11, 'learning_rate': 2.0459580023651665, 'subsample': 0.6595381393222671, 'colsample_bytree': 0.7461336546476794, 'gamma': 0, 'lr': 2.230683189645047}. Best is trial 113 with value: 0.824139806881545.\u001b[0m\n",
            "\u001b[32m[I 2021-06-03 18:39:25,625]\u001b[0m Trial 118 finished with value: 0.7857133142934856 and parameters: {'n_estimators': 224, 'max_depth': 11, 'learning_rate': 0.8431319936230045, 'subsample': 0.6486032954098675, 'colsample_bytree': 0.7370983964160405, 'gamma': 1, 'lr': 1.8640375289280149}. Best is trial 113 with value: 0.824139806881545.\u001b[0m\n",
            "\u001b[32m[I 2021-06-03 18:39:25,925]\u001b[0m Trial 119 finished with value: 0.5000067999456004 and parameters: {'n_estimators': 259, 'max_depth': 11, 'learning_rate': 4.935541682959405, 'subsample': 0.6391410665519435, 'colsample_bytree': 0.7157346627188299, 'gamma': 0, 'lr': 2.731799190077426}. Best is trial 113 with value: 0.824139806881545.\u001b[0m\n",
            "\u001b[32m[I 2021-06-03 18:39:26,641]\u001b[0m Trial 120 finished with value: 0.7879980960152319 and parameters: {'n_estimators': 342, 'max_depth': 10, 'learning_rate': 1.2087906401192754, 'subsample': 0.7167163833786788, 'colsample_bytree': 0.7909546035741634, 'gamma': 0, 'lr': 0.9506577369243132}. Best is trial 113 with value: 0.824139806881545.\u001b[0m\n",
            "\u001b[32m[I 2021-06-03 18:39:27,366]\u001b[0m Trial 121 finished with value: 0.8054943560451516 and parameters: {'n_estimators': 299, 'max_depth': 11, 'learning_rate': 0.8181135671512221, 'subsample': 0.6797687595704923, 'colsample_bytree': 0.8603828489477212, 'gamma': 0, 'lr': 3.417594599489624}. Best is trial 113 with value: 0.824139806881545.\u001b[0m\n",
            "\u001b[32m[I 2021-06-03 18:39:28,099]\u001b[0m Trial 122 finished with value: 0.8055215558275532 and parameters: {'n_estimators': 305, 'max_depth': 11, 'learning_rate': 0.9261150273985179, 'subsample': 0.6813872756330399, 'colsample_bytree': 0.8610944817532273, 'gamma': 0, 'lr': 2.4340489328417507}. Best is trial 113 with value: 0.824139806881545.\u001b[0m\n",
            "\u001b[32m[I 2021-06-03 18:39:28,983]\u001b[0m Trial 123 finished with value: 0.8148306813545492 and parameters: {'n_estimators': 283, 'max_depth': 11, 'learning_rate': 0.36380885110183525, 'subsample': 0.6786430899727898, 'colsample_bytree': 0.8643231102958525, 'gamma': 0, 'lr': 2.4104716335605683}. Best is trial 113 with value: 0.824139806881545.\u001b[0m\n",
            "\u001b[32m[I 2021-06-03 18:39:30,024]\u001b[0m Trial 124 finished with value: 0.8031347749218007 and parameters: {'n_estimators': 282, 'max_depth': 10, 'learning_rate': 0.3473474188111274, 'subsample': 0.6571386556994823, 'colsample_bytree': 0.871658440603564, 'gamma': 1, 'lr': 2.502630646799159}. Best is trial 113 with value: 0.824139806881545.\u001b[0m\n",
            "\u001b[32m[I 2021-06-03 18:39:31,030]\u001b[0m Trial 125 finished with value: 0.8055079559363525 and parameters: {'n_estimators': 310, 'max_depth': 11, 'learning_rate': 0.13282758463268496, 'subsample': 0.7046314826467711, 'colsample_bytree': 0.7507718110758831, 'gamma': 0, 'lr': 3.189233130724686}. Best is trial 113 with value: 0.824139806881545.\u001b[0m\n",
            "\u001b[32m[I 2021-06-03 18:39:31,646]\u001b[0m Trial 126 finished with value: 0.8090235278117776 and parameters: {'n_estimators': 250, 'max_depth': 11, 'learning_rate': 0.5816522309665795, 'subsample': 0.6954723380881601, 'colsample_bytree': 0.7312910737976199, 'gamma': 0, 'lr': 3.2564264652361765}. Best is trial 113 with value: 0.824139806881545.\u001b[0m\n",
            "\u001b[32m[I 2021-06-03 18:39:32,313]\u001b[0m Trial 127 finished with value: 0.8194750441996466 and parameters: {'n_estimators': 249, 'max_depth': 11, 'learning_rate': 0.5572956751784912, 'subsample': 0.6761887627558136, 'colsample_bytree': 0.6993664279500669, 'gamma': 0, 'lr': 1.9516265147005207}. Best is trial 113 with value: 0.824139806881545.\u001b[0m\n",
            "\u001b[32m[I 2021-06-03 18:39:32,949]\u001b[0m Trial 128 finished with value: 0.8113491092071264 and parameters: {'n_estimators': 235, 'max_depth': 10, 'learning_rate': 0.5588127127406898, 'subsample': 0.7384420240862731, 'colsample_bytree': 0.6987012717742024, 'gamma': 0, 'lr': 1.6601076486793218}. Best is trial 113 with value: 0.824139806881545.\u001b[0m\n",
            "\u001b[32m[I 2021-06-03 18:39:33,799]\u001b[0m Trial 129 finished with value: 0.8031959744322045 and parameters: {'n_estimators': 236, 'max_depth': 10, 'learning_rate': 0.47259158508382737, 'subsample': 0.7317685350061962, 'colsample_bytree': 0.6981924855483423, 'gamma': 1, 'lr': 1.4438130435071563}. Best is trial 113 with value: 0.824139806881545.\u001b[0m\n",
            "\u001b[32m[I 2021-06-03 18:39:34,483]\u001b[0m Trial 130 finished with value: 0.8194818441452469 and parameters: {'n_estimators': 250, 'max_depth': 9, 'learning_rate': 0.3193434349317079, 'subsample': 0.810122136643301, 'colsample_bytree': 0.6585606860856723, 'gamma': 0, 'lr': 1.9643933971291385}. Best is trial 113 with value: 0.824139806881545.\u001b[0m\n",
            "\u001b[32m[I 2021-06-03 18:39:35,200]\u001b[0m Trial 131 finished with value: 0.8218142254861961 and parameters: {'n_estimators': 253, 'max_depth': 9, 'learning_rate': 0.3018169024961616, 'subsample': 0.7680856571707417, 'colsample_bytree': 0.6604703870637387, 'gamma': 0, 'lr': 1.5878298515875704}. Best is trial 113 with value: 0.824139806881545.\u001b[0m\n",
            "\u001b[32m[I 2021-06-03 18:39:36,007]\u001b[0m Trial 132 finished with value: 0.8159934720522235 and parameters: {'n_estimators': 255, 'max_depth': 9, 'learning_rate': 0.11617512187099532, 'subsample': 0.7389812515305803, 'colsample_bytree': 0.6617556050137474, 'gamma': 0, 'lr': 1.8888422130580573}. Best is trial 113 with value: 0.824139806881545.\u001b[0m\n",
            "\u001b[32m[I 2021-06-03 18:39:36,752]\u001b[0m Trial 133 finished with value: 0.8241330069359446 and parameters: {'n_estimators': 205, 'max_depth': 9, 'learning_rate': 0.11508798253584039, 'subsample': 0.8204145696299434, 'colsample_bytree': 0.6829849656991639, 'gamma': 0, 'lr': 1.8004003733700964}. Best is trial 113 with value: 0.824139806881545.\u001b[0m\n",
            "\u001b[32m[I 2021-06-03 18:39:37,621]\u001b[0m Trial 134 finished with value: 0.8206582347341221 and parameters: {'n_estimators': 252, 'max_depth': 9, 'learning_rate': 0.12541426513467557, 'subsample': 0.795047506793433, 'colsample_bytree': 0.6711012792844671, 'gamma': 0, 'lr': 1.8905437464796742}. Best is trial 113 with value: 0.824139806881545.\u001b[0m\n",
            "\u001b[32m[I 2021-06-03 18:39:38,220]\u001b[0m Trial 135 finished with value: 0.8148102815177479 and parameters: {'n_estimators': 183, 'max_depth': 9, 'learning_rate': 0.16540441158869126, 'subsample': 0.80520663598907, 'colsample_bytree': 0.6642783737890929, 'gamma': 0, 'lr': 1.8403958388526884}. Best is trial 113 with value: 0.824139806881545.\u001b[0m\n",
            "\u001b[32m[I 2021-06-03 18:39:38,936]\u001b[0m Trial 136 finished with value: 0.8183054535563716 and parameters: {'n_estimators': 193, 'max_depth': 9, 'learning_rate': 0.1417565438017656, 'subsample': 0.8166676601850652, 'colsample_bytree': 0.671864827691194, 'gamma': 0, 'lr': 1.663636728533944}. Best is trial 113 with value: 0.824139806881545.\u001b[0m\n",
            "\u001b[32m[I 2021-06-03 18:39:39,520]\u001b[0m Trial 137 finished with value: 0.8253093975248198 and parameters: {'n_estimators': 161, 'max_depth': 9, 'learning_rate': 0.19372151619831915, 'subsample': 0.8162934911555715, 'colsample_bytree': 0.6677435183721039, 'gamma': 0, 'lr': 1.7301249577379292}. Best is trial 137 with value: 0.8253093975248198.\u001b[0m\n",
            "\u001b[32m[I 2021-06-03 18:39:40,183]\u001b[0m Trial 138 finished with value: 0.8101523187814497 and parameters: {'n_estimators': 159, 'max_depth': 9, 'learning_rate': 0.1266597198689004, 'subsample': 0.8271005533317359, 'colsample_bytree': 0.6681511811013845, 'gamma': 1, 'lr': 1.0744084114343058}. Best is trial 137 with value: 0.8253093975248198.\u001b[0m\n",
            "\u001b[32m[I 2021-06-03 18:39:40,778]\u001b[0m Trial 139 finished with value: 0.8066639466884264 and parameters: {'n_estimators': 197, 'max_depth': 8, 'learning_rate': 0.26921960097012176, 'subsample': 0.7950170021791978, 'colsample_bytree': 0.6235362960247541, 'gamma': 0, 'lr': 1.9908150615991338}. Best is trial 137 with value: 0.8253093975248198.\u001b[0m\n",
            "\u001b[32m[I 2021-06-03 18:39:41,512]\u001b[0m Trial 140 finished with value: 0.8136474908200734 and parameters: {'n_estimators': 196, 'max_depth': 9, 'learning_rate': 0.14385187511577438, 'subsample': 0.8507714634686517, 'colsample_bytree': 0.6675915389722373, 'gamma': 0, 'lr': 1.5700360022600757}. Best is trial 137 with value: 0.8253093975248198.\u001b[0m\n",
            "\u001b[32m[I 2021-06-03 18:39:42,079]\u001b[0m Trial 141 finished with value: 0.818312253501972 and parameters: {'n_estimators': 169, 'max_depth': 9, 'learning_rate': 0.19774966448893322, 'subsample': 0.8536686584317539, 'colsample_bytree': 0.6659519156683357, 'gamma': 0, 'lr': 1.3474825464881355}. Best is trial 137 with value: 0.8253093975248198.\u001b[0m\n",
            "\u001b[32m[I 2021-06-03 18:39:42,697]\u001b[0m Trial 142 finished with value: 0.8241262069903442 and parameters: {'n_estimators': 171, 'max_depth': 9, 'learning_rate': 0.11494076357499172, 'subsample': 0.8096002012024888, 'colsample_bytree': 0.6641031991143023, 'gamma': 0, 'lr': 1.334269721970013}. Best is trial 137 with value: 0.8253093975248198.\u001b[0m\n",
            "\u001b[32m[I 2021-06-03 18:39:43,250]\u001b[0m Trial 143 finished with value: 0.7856793145654835 and parameters: {'n_estimators': 136, 'max_depth': 8, 'learning_rate': 0.3644067616159724, 'subsample': 0.8306531513360493, 'colsample_bytree': 0.6790151197694305, 'gamma': 4, 'lr': 1.168276743292596}. Best is trial 137 with value: 0.8253093975248198.\u001b[0m\n",
            "\u001b[32m[I 2021-06-03 18:39:43,869]\u001b[0m Trial 144 finished with value: 0.8229770161838704 and parameters: {'n_estimators': 170, 'max_depth': 9, 'learning_rate': 0.12131465392351438, 'subsample': 0.7779001692685441, 'colsample_bytree': 0.6530497749467097, 'gamma': 0, 'lr': 0.7294660334829457}. Best is trial 137 with value: 0.8253093975248198.\u001b[0m\n",
            "\u001b[32m[I 2021-06-03 18:39:44,484]\u001b[0m Trial 145 finished with value: 0.8171358629130967 and parameters: {'n_estimators': 170, 'max_depth': 9, 'learning_rate': 0.1477104701575618, 'subsample': 0.7695765476694311, 'colsample_bytree': 0.6341994385436694, 'gamma': 0, 'lr': 0.6069060446473087}. Best is trial 137 with value: 0.8253093975248198.\u001b[0m\n",
            "\u001b[32m[I 2021-06-03 18:39:45,099]\u001b[0m Trial 146 finished with value: 0.8253025975792193 and parameters: {'n_estimators': 166, 'max_depth': 9, 'learning_rate': 0.12819229848988334, 'subsample': 0.7722209885404522, 'colsample_bytree': 0.6348925813303439, 'gamma': 0, 'lr': 0.6155934216921672}. Best is trial 137 with value: 0.8253093975248198.\u001b[0m\n",
            "\u001b[32m[I 2021-06-03 18:39:45,734]\u001b[0m Trial 147 finished with value: 0.8171630626954984 and parameters: {'n_estimators': 167, 'max_depth': 9, 'learning_rate': 0.10134260992897103, 'subsample': 0.7664667215490089, 'colsample_bytree': 0.633811671446526, 'gamma': 0, 'lr': 0.6325658280586758}. Best is trial 137 with value: 0.8253093975248198.\u001b[0m\n",
            "\u001b[32m[I 2021-06-03 18:39:45,920]\u001b[0m Trial 148 finished with value: 0.49767441860465117 and parameters: {'n_estimators': 152, 'max_depth': 8, 'learning_rate': 8.342964608113837, 'subsample': 0.7840466466686415, 'colsample_bytree': 0.6426739040529352, 'gamma': 0, 'lr': 1.3584829274979646}. Best is trial 137 with value: 0.8253093975248198.\u001b[0m\n",
            "\u001b[32m[I 2021-06-03 18:39:46,581]\u001b[0m Trial 149 finished with value: 0.8183326533387734 and parameters: {'n_estimators': 168, 'max_depth': 9, 'learning_rate': 0.11279363381937078, 'subsample': 0.8152935123437194, 'colsample_bytree': 0.6183533117460978, 'gamma': 1, 'lr': 0.5737344679590347}. Best is trial 137 with value: 0.8253093975248198.\u001b[0m\n",
            "\u001b[32m[I 2021-06-03 18:39:47,251]\u001b[0m Trial 150 finished with value: 0.817169862641099 and parameters: {'n_estimators': 170, 'max_depth': 9, 'learning_rate': 0.10065404290606599, 'subsample': 0.8143203340581784, 'colsample_bytree': 0.6025335445370438, 'gamma': 1, 'lr': 0.6911648848371149}. Best is trial 137 with value: 0.8253093975248198.\u001b[0m\n",
            "\u001b[32m[I 2021-06-03 18:39:47,878]\u001b[0m Trial 151 finished with value: 0.7914796681626547 and parameters: {'n_estimators': 170, 'max_depth': 9, 'learning_rate': 0.31329434564630454, 'subsample': 0.8158575736259748, 'colsample_bytree': 0.6157976316121057, 'gamma': 1, 'lr': 0.10523674032692909}. Best is trial 137 with value: 0.8253093975248198.\u001b[0m\n",
            "\u001b[32m[I 2021-06-03 18:39:48,547]\u001b[0m Trial 152 finished with value: 0.8136678906568747 and parameters: {'n_estimators': 178, 'max_depth': 8, 'learning_rate': 0.11265989556940581, 'subsample': 0.7628191986048617, 'colsample_bytree': 0.5932487628881882, 'gamma': 2, 'lr': 0.6072968799995748}. Best is trial 137 with value: 0.8253093975248198.\u001b[0m\n",
            "\u001b[32m[I 2021-06-03 18:39:49,140]\u001b[0m Trial 153 finished with value: 0.7984700122399021 and parameters: {'n_estimators': 162, 'max_depth': 9, 'learning_rate': 0.42583508325053726, 'subsample': 0.7911612934102746, 'colsample_bytree': 0.6561707205456949, 'gamma': 1, 'lr': 0.3266429815177001}. Best is trial 137 with value: 0.8253093975248198.\u001b[0m\n",
            "\u001b[32m[I 2021-06-03 18:39:49,987]\u001b[0m Trial 154 finished with value: 0.8148102815177479 and parameters: {'n_estimators': 204, 'max_depth': 9, 'learning_rate': 0.11927321348541109, 'subsample': 0.8708981946034746, 'colsample_bytree': 0.6783708324670953, 'gamma': 1, 'lr': 0.9141638602374351}. Best is trial 137 with value: 0.8253093975248198.\u001b[0m\n",
            "\u001b[32m[I 2021-06-03 18:39:50,160]\u001b[0m Trial 155 finished with value: 0.4965116279069767 and parameters: {'n_estimators': 122, 'max_depth': 9, 'learning_rate': 6.288960444142855, 'subsample': 0.8081201053753745, 'colsample_bytree': 0.6313058484127455, 'gamma': 3, 'lr': 0.36390338553727936}. Best is trial 137 with value: 0.8253093975248198.\u001b[0m\n",
            "\u001b[32m[I 2021-06-03 18:39:50,644]\u001b[0m Trial 156 finished with value: 0.8124915000679994 and parameters: {'n_estimators': 149, 'max_depth': 8, 'learning_rate': 0.3222132004549335, 'subsample': 0.8289409828933385, 'colsample_bytree': 0.6465497680701745, 'gamma': 0, 'lr': 1.2414647453737704}. Best is trial 137 with value: 0.8253093975248198.\u001b[0m\n",
            "\u001b[32m[I 2021-06-03 18:39:51,071]\u001b[0m Trial 157 finished with value: 0.8183054535563714 and parameters: {'n_estimators': 137, 'max_depth': 9, 'learning_rate': 0.4689745960893286, 'subsample': 0.7581858649306974, 'colsample_bytree': 0.6534942216784864, 'gamma': 0, 'lr': 0.8046560054802613}. Best is trial 137 with value: 0.8253093975248198.\u001b[0m\n",
            "\u001b[32m[I 2021-06-03 18:39:51,503]\u001b[0m Trial 158 finished with value: 0.8183054535563716 and parameters: {'n_estimators': 141, 'max_depth': 9, 'learning_rate': 0.4854979351107306, 'subsample': 0.7530302330844741, 'colsample_bytree': 0.6559079200788644, 'gamma': 0, 'lr': 1.4218711305584013}. Best is trial 137 with value: 0.8253093975248198.\u001b[0m\n",
            "\u001b[32m[I 2021-06-03 18:39:51,921]\u001b[0m Trial 159 finished with value: 0.8241738066095472 and parameters: {'n_estimators': 135, 'max_depth': 8, 'learning_rate': 0.4916978464579511, 'subsample': 0.7981619993460783, 'colsample_bytree': 0.6514762234159387, 'gamma': 0, 'lr': 1.5255792450783394}. Best is trial 137 with value: 0.8253093975248198.\u001b[0m\n",
            "\u001b[32m[I 2021-06-03 18:39:52,313]\u001b[0m Trial 160 finished with value: 0.807826737386101 and parameters: {'n_estimators': 127, 'max_depth': 8, 'learning_rate': 0.6913747091237024, 'subsample': 0.7797863661586578, 'colsample_bytree': 0.6888190902980045, 'gamma': 0, 'lr': 2.1345450397338697}. Best is trial 137 with value: 0.8253093975248198.\u001b[0m\n",
            "\u001b[32m[I 2021-06-03 18:39:52,754]\u001b[0m Trial 161 finished with value: 0.8183326533387734 and parameters: {'n_estimators': 142, 'max_depth': 9, 'learning_rate': 0.4880328863572245, 'subsample': 0.7540726964449346, 'colsample_bytree': 0.6516348700815133, 'gamma': 0, 'lr': 1.5411373877982506}. Best is trial 137 with value: 0.8253093975248198.\u001b[0m\n",
            "\u001b[32m[I 2021-06-03 18:39:53,238]\u001b[0m Trial 162 finished with value: 0.8113083095335238 and parameters: {'n_estimators': 142, 'max_depth': 9, 'learning_rate': 0.3441798461973793, 'subsample': 0.7511348623490982, 'colsample_bytree': 0.6751427733699469, 'gamma': 0, 'lr': 1.5424591181780163}. Best is trial 137 with value: 0.8253093975248198.\u001b[0m\n",
            "\u001b[32m[I 2021-06-03 18:39:53,585]\u001b[0m Trial 163 finished with value: 0.8136474908200734 and parameters: {'n_estimators': 100, 'max_depth': 7, 'learning_rate': 0.550477622054087, 'subsample': 0.795861768077215, 'colsample_bytree': 0.673363798026349, 'gamma': 0, 'lr': 1.6748522780169728}. Best is trial 137 with value: 0.8253093975248198.\u001b[0m\n",
            "\u001b[32m[I 2021-06-03 18:39:53,972]\u001b[0m Trial 164 finished with value: 0.8171630626954984 and parameters: {'n_estimators': 110, 'max_depth': 8, 'learning_rate': 0.2910574975673116, 'subsample': 0.8421772810001026, 'colsample_bytree': 0.6539971804995998, 'gamma': 0, 'lr': 1.3075572451083792}. Best is trial 137 with value: 0.8253093975248198.\u001b[0m\n",
            "\u001b[32m[I 2021-06-03 18:39:54,499]\u001b[0m Trial 165 finished with value: 0.818312253501972 and parameters: {'n_estimators': 190, 'max_depth': 9, 'learning_rate': 0.6571264071794506, 'subsample': 0.8032292688803284, 'colsample_bytree': 0.6870388540490407, 'gamma': 0, 'lr': 2.205666267843162}. Best is trial 137 with value: 0.8253093975248198.\u001b[0m\n",
            "\u001b[32m[I 2021-06-03 18:39:54,938]\u001b[0m Trial 166 finished with value: 0.8101863185094519 and parameters: {'n_estimators': 153, 'max_depth': 8, 'learning_rate': 0.723725975164743, 'subsample': 0.7864325689947061, 'colsample_bytree': 0.7002440499780777, 'gamma': 0, 'lr': 2.151433095186527}. Best is trial 137 with value: 0.8253093975248198.\u001b[0m\n",
            "\u001b[32m[I 2021-06-03 18:39:55,639]\u001b[0m Trial 167 finished with value: 0.8206378348973209 and parameters: {'n_estimators': 187, 'max_depth': 9, 'learning_rate': 0.11004489812407031, 'subsample': 0.8026064633861185, 'colsample_bytree': 0.6851820810710222, 'gamma': 0, 'lr': 1.7661912859489564}. Best is trial 137 with value: 0.8253093975248198.\u001b[0m\n",
            "\u001b[32m[I 2021-06-03 18:39:56,352]\u001b[0m Trial 168 finished with value: 0.8218210254317965 and parameters: {'n_estimators': 184, 'max_depth': 9, 'learning_rate': 0.10444426489870051, 'subsample': 0.8015741789646882, 'colsample_bytree': 0.6846388792430291, 'gamma': 0, 'lr': 1.1113085999607175}. Best is trial 137 with value: 0.8253093975248198.\u001b[0m\n",
            "\u001b[32m[I 2021-06-03 18:39:56,913]\u001b[0m Trial 169 finished with value: 0.8241466068271454 and parameters: {'n_estimators': 181, 'max_depth': 9, 'learning_rate': 0.31587866939426773, 'subsample': 0.7759677068525496, 'colsample_bytree': 0.6183997630678516, 'gamma': 0, 'lr': 1.1094701277708485}. Best is trial 137 with value: 0.8253093975248198.\u001b[0m\n",
            "\u001b[32m[I 2021-06-03 18:39:57,623]\u001b[0m Trial 170 finished with value: 0.8101183190534476 and parameters: {'n_estimators': 180, 'max_depth': 9, 'learning_rate': 0.10126510949903365, 'subsample': 0.7759907342655952, 'colsample_bytree': 0.7056940911399725, 'gamma': 0, 'lr': 1.0558472615834453}. Best is trial 137 with value: 0.8253093975248198.\u001b[0m\n",
            "\u001b[32m[I 2021-06-03 18:39:58,143]\u001b[0m Trial 171 finished with value: 0.8124915000679994 and parameters: {'n_estimators': 187, 'max_depth': 9, 'learning_rate': 0.494066921345205, 'subsample': 0.7994857796073596, 'colsample_bytree': 0.6426841113576118, 'gamma': 0, 'lr': 1.956301582833949}. Best is trial 137 with value: 0.8253093975248198.\u001b[0m\n",
            "\u001b[32m[I 2021-06-03 18:39:58,781]\u001b[0m Trial 172 finished with value: 0.8253161974704202 and parameters: {'n_estimators': 209, 'max_depth': 9, 'learning_rate': 0.30688951570475065, 'subsample': 0.8231421088775742, 'colsample_bytree': 0.6243883862971565, 'gamma': 0, 'lr': 1.1364339747694001}. Best is trial 172 with value: 0.8253161974704202.\u001b[0m\n",
            "\u001b[32m[I 2021-06-03 18:39:59,419]\u001b[0m Trial 173 finished with value: 0.8194954440364477 and parameters: {'n_estimators': 224, 'max_depth': 8, 'learning_rate': 0.33532316299527315, 'subsample': 0.7753055890877076, 'colsample_bytree': 0.6195283969996741, 'gamma': 0, 'lr': 1.1207161862471953}. Best is trial 172 with value: 0.8253161974704202.\u001b[0m\n",
            "\u001b[32m[I 2021-06-03 18:40:00,076]\u001b[0m Trial 174 finished with value: 0.8182918536651705 and parameters: {'n_estimators': 217, 'max_depth': 8, 'learning_rate': 0.3138255412651681, 'subsample': 0.7752769761596708, 'colsample_bytree': 0.622872010368625, 'gamma': 0, 'lr': 0.414879136989046}. Best is trial 172 with value: 0.8253161974704202.\u001b[0m\n",
            "\u001b[32m[I 2021-06-03 18:40:00,594]\u001b[0m Trial 175 finished with value: 0.818325853393173 and parameters: {'n_estimators': 209, 'max_depth': 8, 'learning_rate': 0.7584745703828885, 'subsample': 0.8256519752572794, 'colsample_bytree': 0.6342522544354757, 'gamma': 0, 'lr': 1.0814501768301867}. Best is trial 172 with value: 0.8253161974704202.\u001b[0m\n",
            "\u001b[32m[I 2021-06-03 18:40:01,259]\u001b[0m Trial 176 finished with value: 0.8276417788657691 and parameters: {'n_estimators': 229, 'max_depth': 7, 'learning_rate': 0.28561673147275884, 'subsample': 0.7876754550089806, 'colsample_bytree': 0.6142697184951356, 'gamma': 0, 'lr': 0.8459628987622669}. Best is trial 176 with value: 0.8276417788657691.\u001b[0m\n",
            "\u001b[32m[I 2021-06-03 18:40:01,873]\u001b[0m Trial 177 finished with value: 0.8125118999048008 and parameters: {'n_estimators': 236, 'max_depth': 7, 'learning_rate': 0.35520717194923657, 'subsample': 0.7913383893946653, 'colsample_bytree': 0.5796100717652495, 'gamma': 0, 'lr': 0.8571758687604292}. Best is trial 176 with value: 0.8276417788657691.\u001b[0m\n",
            "\u001b[32m[I 2021-06-03 18:40:02,446]\u001b[0m Trial 178 finished with value: 0.8194818441452469 and parameters: {'n_estimators': 201, 'max_depth': 7, 'learning_rate': 0.3483497115646695, 'subsample': 0.7842826911198706, 'colsample_bytree': 0.6060459157616666, 'gamma': 0, 'lr': 1.7709184216814302}. Best is trial 176 with value: 0.8276417788657691.\u001b[0m\n",
            "\u001b[32m[I 2021-06-03 18:40:03,081]\u001b[0m Trial 179 finished with value: 0.8241466068271455 and parameters: {'n_estimators': 223, 'max_depth': 7, 'learning_rate': 0.3103707229323519, 'subsample': 0.78597479852667, 'colsample_bytree': 0.6009450681282054, 'gamma': 0, 'lr': 1.2034479507387785}. Best is trial 176 with value: 0.8276417788657691.\u001b[0m\n",
            "\u001b[32m[I 2021-06-03 18:40:03,761]\u001b[0m Trial 180 finished with value: 0.804345165238678 and parameters: {'n_estimators': 227, 'max_depth': 7, 'learning_rate': 0.11799654027146522, 'subsample': 0.8045282577174724, 'colsample_bytree': 0.57010674950315, 'gamma': 0, 'lr': 1.194880155066801}. Best is trial 176 with value: 0.8276417788657691.\u001b[0m\n",
            "\u001b[32m[I 2021-06-03 18:40:04,350]\u001b[0m Trial 181 finished with value: 0.8089963280293757 and parameters: {'n_estimators': 207, 'max_depth': 7, 'learning_rate': 0.32752312666213756, 'subsample': 0.7879360589694562, 'colsample_bytree': 0.6013555573768545, 'gamma': 0, 'lr': 1.8037258369147575}. Best is trial 176 with value: 0.8276417788657691.\u001b[0m\n",
            "\u001b[32m[I 2021-06-03 18:40:04,955]\u001b[0m Trial 182 finished with value: 0.82297021623827 and parameters: {'n_estimators': 202, 'max_depth': 7, 'learning_rate': 0.2995859088259859, 'subsample': 0.778432021503, 'colsample_bytree': 0.5931505738382536, 'gamma': 0, 'lr': 0.9700973328298661}. Best is trial 176 with value: 0.8276417788657691.\u001b[0m\n",
            "\u001b[32m[I 2021-06-03 18:40:05,614]\u001b[0m Trial 183 finished with value: 0.824139806881545 and parameters: {'n_estimators': 198, 'max_depth': 7, 'learning_rate': 0.12672470187127946, 'subsample': 0.7801659193534547, 'colsample_bytree': 0.5924382865077219, 'gamma': 0, 'lr': 0.9936611725458947}. Best is trial 176 with value: 0.8276417788657691.\u001b[0m\n",
            "\u001b[32m[I 2021-06-03 18:40:06,329]\u001b[0m Trial 184 finished with value: 0.819454644362845 and parameters: {'n_estimators': 216, 'max_depth': 7, 'learning_rate': 0.1019501339439729, 'subsample': 0.7729247448835221, 'colsample_bytree': 0.5902783901902338, 'gamma': 0, 'lr': 0.9786615595087588}. Best is trial 176 with value: 0.8276417788657691.\u001b[0m\n",
            "\u001b[32m[I 2021-06-03 18:40:06,981]\u001b[0m Trial 185 finished with value: 0.7506527947776418 and parameters: {'n_estimators': 228, 'max_depth': 6, 'learning_rate': 0.10756568078161476, 'subsample': 0.7985835679947967, 'colsample_bytree': 0.559929010893639, 'gamma': 9, 'lr': 0.76638627435434}. Best is trial 176 with value: 0.8276417788657691.\u001b[0m\n",
            "\u001b[32m[I 2021-06-03 18:40:07,474]\u001b[0m Trial 186 finished with value: 0.8125118999048008 and parameters: {'n_estimators': 183, 'max_depth': 7, 'learning_rate': 0.6454121068742851, 'subsample': 0.7802246079146811, 'colsample_bytree': 0.5887641582577117, 'gamma': 0, 'lr': 1.2121039643730063}. Best is trial 176 with value: 0.8276417788657691.\u001b[0m\n",
            "\u001b[32m[I 2021-06-03 18:40:08,010]\u001b[0m Trial 187 finished with value: 0.807826737386101 and parameters: {'n_estimators': 199, 'max_depth': 6, 'learning_rate': 0.5081659480090259, 'subsample': 0.7658183267857815, 'colsample_bytree': 0.6083779390716336, 'gamma': 0, 'lr': 0.9276234387125912}. Best is trial 176 with value: 0.8276417788657691.\u001b[0m\n",
            "\u001b[32m[I 2021-06-03 18:40:08,638]\u001b[0m Trial 188 finished with value: 0.8183190534475724 and parameters: {'n_estimators': 178, 'max_depth': 8, 'learning_rate': 0.10904790873811887, 'subsample': 0.8214629423233447, 'colsample_bytree': 0.6158559310506648, 'gamma': 0, 'lr': 1.4598178130468586}. Best is trial 176 with value: 0.8276417788657691.\u001b[0m\n",
            "\u001b[32m[I 2021-06-03 18:40:09,332]\u001b[0m Trial 189 finished with value: 0.8007955936352509 and parameters: {'n_estimators': 209, 'max_depth': 7, 'learning_rate': 0.7555263382979087, 'subsample': 0.8334871483267775, 'colsample_bytree': 0.6270340235470654, 'gamma': 5, 'lr': 1.0805341491995035}. Best is trial 176 with value: 0.8276417788657691.\u001b[0m\n",
            "\u001b[32m[I 2021-06-03 18:40:09,904]\u001b[0m Trial 190 finished with value: 0.8124779001767987 and parameters: {'n_estimators': 189, 'max_depth': 7, 'learning_rate': 0.2878348827660718, 'subsample': 0.7929426368406728, 'colsample_bytree': 0.6363030247151045, 'gamma': 0, 'lr': 1.3562524766949937}. Best is trial 176 with value: 0.8276417788657691.\u001b[0m\n",
            "\u001b[32m[I 2021-06-03 18:40:10,504]\u001b[0m Trial 191 finished with value: 0.8054875560995512 and parameters: {'n_estimators': 200, 'max_depth': 7, 'learning_rate': 0.31005962627262695, 'subsample': 0.7842473401636135, 'colsample_bytree': 0.6077325444638282, 'gamma': 0, 'lr': 1.6822766502220703}. Best is trial 176 with value: 0.8276417788657691.\u001b[0m\n",
            "\u001b[32m[I 2021-06-03 18:40:11,122]\u001b[0m Trial 192 finished with value: 0.8148238814089488 and parameters: {'n_estimators': 228, 'max_depth': 7, 'learning_rate': 0.45512754595138377, 'subsample': 0.7819283219643582, 'colsample_bytree': 0.6155486724351448, 'gamma': 0, 'lr': 1.2345545571764254}. Best is trial 176 with value: 0.8276417788657691.\u001b[0m\n",
            "\u001b[32m[I 2021-06-03 18:40:11,927]\u001b[0m Trial 193 finished with value: 0.8241738066095472 and parameters: {'n_estimators': 235, 'max_depth': 8, 'learning_rate': 0.11296856526544989, 'subsample': 0.8103133892735699, 'colsample_bytree': 0.6452819160684323, 'gamma': 0, 'lr': 0.8099552899112172}. Best is trial 176 with value: 0.8276417788657691.\u001b[0m\n",
            "\u001b[32m[I 2021-06-03 18:40:12,653]\u001b[0m Trial 194 finished with value: 0.8218278253773968 and parameters: {'n_estimators': 219, 'max_depth': 8, 'learning_rate': 0.1493787504092314, 'subsample': 0.807720869537049, 'colsample_bytree': 0.6440855025860724, 'gamma': 0, 'lr': 0.9136363195312627}. Best is trial 176 with value: 0.8276417788657691.\u001b[0m\n",
            "\u001b[32m[I 2021-06-03 18:40:13,389]\u001b[0m Trial 195 finished with value: 0.8218074255405956 and parameters: {'n_estimators': 213, 'max_depth': 8, 'learning_rate': 0.128532019846459, 'subsample': 0.8102863239699353, 'colsample_bytree': 0.6409527856637434, 'gamma': 0, 'lr': 0.22365980940865882}. Best is trial 176 with value: 0.8276417788657691.\u001b[0m\n",
            "\u001b[32m[I 2021-06-03 18:40:14,156]\u001b[0m Trial 196 finished with value: 0.8159866721066231 and parameters: {'n_estimators': 217, 'max_depth': 8, 'learning_rate': 0.10892993598097608, 'subsample': 0.812351076020452, 'colsample_bytree': 0.6441534108456016, 'gamma': 0, 'lr': 0.3559689309475503}. Best is trial 176 with value: 0.8276417788657691.\u001b[0m\n",
            "\u001b[32m[I 2021-06-03 18:40:14,358]\u001b[0m Trial 197 finished with value: 0.49534883720930234 and parameters: {'n_estimators': 158, 'max_depth': 8, 'learning_rate': 4.172512711381674, 'subsample': 0.8377388247908782, 'colsample_bytree': 0.7805840017633232, 'gamma': 0, 'lr': 0.03115528935344769}. Best is trial 176 with value: 0.8276417788657691.\u001b[0m\n",
            "\u001b[32m[I 2021-06-03 18:40:14,967]\u001b[0m Trial 198 finished with value: 0.8124575003399972 and parameters: {'n_estimators': 236, 'max_depth': 8, 'learning_rate': 0.578681118431468, 'subsample': 0.8088329464346886, 'colsample_bytree': 0.6481732036345262, 'gamma': 0, 'lr': 0.49845807321709623}. Best is trial 176 with value: 0.8276417788657691.\u001b[0m\n",
            "\u001b[32m[I 2021-06-03 18:40:15,206]\u001b[0m Trial 199 finished with value: 0.49769481844145247 and parameters: {'n_estimators': 212, 'max_depth': 8, 'learning_rate': 7.109903458131125, 'subsample': 0.8195713976596036, 'colsample_bytree': 0.6395748318763959, 'gamma': 0, 'lr': 0.7028876654624728}. Best is trial 176 with value: 0.8276417788657691.\u001b[0m\n"
          ],
          "name": "stderr"
        }
      ]
    },
    {
      "cell_type": "code",
      "metadata": {
        "colab": {
          "base_uri": "https://localhost:8080/"
        },
        "id": "3Uq1AB1dExM3",
        "outputId": "3eff9c61-c5a4-426f-e555-77ad03cdc8fd"
      },
      "source": [
        "print('Accuracy: {}'.format(trial.value))\n",
        "print(\"Best hyperparameters: {}\".format(best_param_xgb))"
      ],
      "execution_count": 191,
      "outputs": [
        {
          "output_type": "stream",
          "text": [
            "Accuracy: 0.8276417788657691\n",
            "Best hyperparameters: {'n_estimators': 229, 'max_depth': 7, 'learning_rate': 0.28561673147275884, 'subsample': 0.7876754550089806, 'colsample_bytree': 0.6142697184951356, 'gamma': 0, 'lr': 0.8459628987622669}\n"
          ],
          "name": "stdout"
        }
      ]
    },
    {
      "cell_type": "code",
      "metadata": {
        "colab": {
          "base_uri": "https://localhost:8080/"
        },
        "id": "h7LzqwNkDWkr",
        "outputId": "25a39e76-1f22-4aca-afb7-d96d9b37fb05"
      },
      "source": [
        "xgbClf = XGBClassifier(**best_param_xgb)\n",
        "xgbClf.fit(X_res,y_res)"
      ],
      "execution_count": 192,
      "outputs": [
        {
          "output_type": "execute_result",
          "data": {
            "text/plain": [
              "XGBClassifier(base_score=0.5, booster='gbtree', colsample_bylevel=1,\n",
              "              colsample_bynode=1, colsample_bytree=0.6142697184951356, gamma=0,\n",
              "              learning_rate=0.28561673147275884, lr=0.8459628987622669,\n",
              "              max_delta_step=0, max_depth=7, min_child_weight=1, missing=None,\n",
              "              n_estimators=229, n_jobs=1, nthread=None,\n",
              "              objective='binary:logistic', random_state=0, reg_alpha=0,\n",
              "              reg_lambda=1, scale_pos_weight=1, seed=None, silent=None,\n",
              "              subsample=0.7876754550089806, verbosity=1)"
            ]
          },
          "metadata": {
            "tags": []
          },
          "execution_count": 192
        }
      ]
    },
    {
      "cell_type": "code",
      "metadata": {
        "id": "CkXX26-EDhUO"
      },
      "source": [
        "#Making Preds\n",
        "preds = xgbClf.predict(df_test.drop('Loan_ID',axis=1).values)\n",
        "df_submit = pd.DataFrame({\n",
        "    'Loan_ID': df_test['Loan_ID'],\n",
        "    'Loan_Status': preds\n",
        "})\n",
        "df_submit.to_csv('SubmissionXgb.csv',index=None)"
      ],
      "execution_count": 193,
      "outputs": []
    },
    {
      "cell_type": "markdown",
      "metadata": {
        "id": "YeEGjtayFblf"
      },
      "source": [
        "# Model Stack"
      ]
    },
    {
      "cell_type": "code",
      "metadata": {
        "id": "foAu3576GNKi"
      },
      "source": [
        "def objective(trial):\n",
        "  estimators = [\n",
        "  ('lgbm', LGBMClassifier(**best_param_light)),\n",
        "  ('xgb', XGBClassifier(**best_param_xgb))\n",
        "  ]\n",
        "\n",
        "  params = {\n",
        "      'C':trial.suggest_uniform('C',1e-5,15)\n",
        "  }\n",
        "\n",
        "  lr = LogisticRegression(**params)\n",
        "  sclf = StackingClassifier(estimators=estimators, final_estimator=lr)\n",
        "  sclf.fit(X_res,y_res)\n",
        "  cv_score = cross_val_score(sclf, X_res,y_res,scoring=\"accuracy\",cv =5).mean()\n",
        "  return cv_score"
      ],
      "execution_count": 202,
      "outputs": []
    },
    {
      "cell_type": "code",
      "metadata": {
        "colab": {
          "base_uri": "https://localhost:8080/"
        },
        "id": "8Fkcc0LiNENU",
        "outputId": "2dcfc276-08c0-4c1d-c308-60125e8f5798"
      },
      "source": [
        "study = optuna.create_study(direction='maximize')\n",
        "study.optimize(objective, n_trials=50)\n",
        "trial = study.best_trial\n",
        "best_param_stack = study.best_params"
      ],
      "execution_count": 203,
      "outputs": [
        {
          "output_type": "stream",
          "text": [
            "\u001b[32m[I 2021-06-03 18:52:47,816]\u001b[0m A new study created in memory with name: no-name-aef59686-0fab-4f14-99b9-4ebf473411bc\u001b[0m\n",
            "\u001b[32m[I 2021-06-03 18:52:53,619]\u001b[0m Trial 0 finished with value: 0.808969128246974 and parameters: {'C': 13.861946852533716}. Best is trial 0 with value: 0.808969128246974.\u001b[0m\n",
            "\u001b[32m[I 2021-06-03 18:52:59,337]\u001b[0m Trial 1 finished with value: 0.8078063375492996 and parameters: {'C': 3.676830836842457}. Best is trial 0 with value: 0.808969128246974.\u001b[0m\n",
            "\u001b[32m[I 2021-06-03 18:53:05,114]\u001b[0m Trial 2 finished with value: 0.8078063375492996 and parameters: {'C': 2.431746356421679}. Best is trial 0 with value: 0.808969128246974.\u001b[0m\n",
            "\u001b[32m[I 2021-06-03 18:53:10,853]\u001b[0m Trial 3 finished with value: 0.808969128246974 and parameters: {'C': 9.934011135592435}. Best is trial 0 with value: 0.808969128246974.\u001b[0m\n",
            "\u001b[32m[I 2021-06-03 18:53:16,574]\u001b[0m Trial 4 finished with value: 0.808969128246974 and parameters: {'C': 1.437967793241615}. Best is trial 0 with value: 0.808969128246974.\u001b[0m\n",
            "\u001b[32m[I 2021-06-03 18:53:22,310]\u001b[0m Trial 5 finished with value: 0.8078063375492996 and parameters: {'C': 2.743596579158484}. Best is trial 0 with value: 0.808969128246974.\u001b[0m\n",
            "\u001b[32m[I 2021-06-03 18:53:28,042]\u001b[0m Trial 6 finished with value: 0.808969128246974 and parameters: {'C': 7.39962226613172}. Best is trial 0 with value: 0.808969128246974.\u001b[0m\n",
            "\u001b[32m[I 2021-06-03 18:53:33,776]\u001b[0m Trial 7 finished with value: 0.808969128246974 and parameters: {'C': 1.0764004384764314}. Best is trial 0 with value: 0.808969128246974.\u001b[0m\n",
            "\u001b[32m[I 2021-06-03 18:53:39,475]\u001b[0m Trial 8 finished with value: 0.808969128246974 and parameters: {'C': 10.342978211775575}. Best is trial 0 with value: 0.808969128246974.\u001b[0m\n",
            "\u001b[32m[I 2021-06-03 18:53:45,199]\u001b[0m Trial 9 finished with value: 0.8078063375492996 and parameters: {'C': 2.745512833645747}. Best is trial 0 with value: 0.808969128246974.\u001b[0m\n",
            "\u001b[32m[I 2021-06-03 18:53:50,914]\u001b[0m Trial 10 finished with value: 0.808969128246974 and parameters: {'C': 14.619307055391642}. Best is trial 0 with value: 0.808969128246974.\u001b[0m\n",
            "\u001b[32m[I 2021-06-03 18:53:56,672]\u001b[0m Trial 11 finished with value: 0.808969128246974 and parameters: {'C': 14.812362513849148}. Best is trial 0 with value: 0.808969128246974.\u001b[0m\n",
            "\u001b[32m[I 2021-06-03 18:54:02,387]\u001b[0m Trial 12 finished with value: 0.808969128246974 and parameters: {'C': 11.760407184393944}. Best is trial 0 with value: 0.808969128246974.\u001b[0m\n",
            "\u001b[32m[I 2021-06-03 18:54:08,164]\u001b[0m Trial 13 finished with value: 0.808969128246974 and parameters: {'C': 11.507889563200791}. Best is trial 0 with value: 0.808969128246974.\u001b[0m\n",
            "\u001b[32m[I 2021-06-03 18:54:13,873]\u001b[0m Trial 14 finished with value: 0.808969128246974 and parameters: {'C': 8.578483694006959}. Best is trial 0 with value: 0.808969128246974.\u001b[0m\n",
            "\u001b[32m[I 2021-06-03 18:54:19,601]\u001b[0m Trial 15 finished with value: 0.808969128246974 and parameters: {'C': 13.21811937109638}. Best is trial 0 with value: 0.808969128246974.\u001b[0m\n",
            "\u001b[32m[I 2021-06-03 18:54:25,333]\u001b[0m Trial 16 finished with value: 0.808969128246974 and parameters: {'C': 6.862227290157702}. Best is trial 0 with value: 0.808969128246974.\u001b[0m\n",
            "\u001b[32m[I 2021-06-03 18:54:31,091]\u001b[0m Trial 17 finished with value: 0.808969128246974 and parameters: {'C': 5.474336330399542}. Best is trial 0 with value: 0.808969128246974.\u001b[0m\n",
            "\u001b[32m[I 2021-06-03 18:54:36,803]\u001b[0m Trial 18 finished with value: 0.808969128246974 and parameters: {'C': 13.367224010843783}. Best is trial 0 with value: 0.808969128246974.\u001b[0m\n",
            "\u001b[32m[I 2021-06-03 18:54:42,548]\u001b[0m Trial 19 finished with value: 0.808969128246974 and parameters: {'C': 6.244134779735992}. Best is trial 0 with value: 0.808969128246974.\u001b[0m\n",
            "\u001b[32m[I 2021-06-03 18:54:48,268]\u001b[0m Trial 20 finished with value: 0.8078063375492996 and parameters: {'C': 5.144690259218471}. Best is trial 0 with value: 0.808969128246974.\u001b[0m\n",
            "\u001b[32m[I 2021-06-03 18:54:53,957]\u001b[0m Trial 21 finished with value: 0.808969128246974 and parameters: {'C': 13.538319058784392}. Best is trial 0 with value: 0.808969128246974.\u001b[0m\n",
            "\u001b[32m[I 2021-06-03 18:54:59,663]\u001b[0m Trial 22 finished with value: 0.808969128246974 and parameters: {'C': 8.880146164114999}. Best is trial 0 with value: 0.808969128246974.\u001b[0m\n",
            "\u001b[32m[I 2021-06-03 18:55:05,382]\u001b[0m Trial 23 finished with value: 0.808969128246974 and parameters: {'C': 5.746154371174826}. Best is trial 0 with value: 0.808969128246974.\u001b[0m\n",
            "\u001b[32m[I 2021-06-03 18:55:11,103]\u001b[0m Trial 24 finished with value: 0.808969128246974 and parameters: {'C': 13.517900264517587}. Best is trial 0 with value: 0.808969128246974.\u001b[0m\n",
            "\u001b[32m[I 2021-06-03 18:55:16,809]\u001b[0m Trial 25 finished with value: 0.808969128246974 and parameters: {'C': 9.068054126535026}. Best is trial 0 with value: 0.808969128246974.\u001b[0m\n",
            "\u001b[32m[I 2021-06-03 18:55:22,528]\u001b[0m Trial 26 finished with value: 0.8078063375492996 and parameters: {'C': 4.403525858197827}. Best is trial 0 with value: 0.808969128246974.\u001b[0m\n",
            "\u001b[32m[I 2021-06-03 18:55:28,233]\u001b[0m Trial 27 finished with value: 0.808969128246974 and parameters: {'C': 11.951730905603805}. Best is trial 0 with value: 0.808969128246974.\u001b[0m\n",
            "\u001b[32m[I 2021-06-03 18:55:33,952]\u001b[0m Trial 28 finished with value: 0.808969128246974 and parameters: {'C': 14.408137384778215}. Best is trial 0 with value: 0.808969128246974.\u001b[0m\n",
            "\u001b[32m[I 2021-06-03 18:55:39,674]\u001b[0m Trial 29 finished with value: 0.808969128246974 and parameters: {'C': 10.401150795935955}. Best is trial 0 with value: 0.808969128246974.\u001b[0m\n",
            "\u001b[32m[I 2021-06-03 18:55:45,391]\u001b[0m Trial 30 finished with value: 0.808969128246974 and parameters: {'C': 12.427683924279032}. Best is trial 0 with value: 0.808969128246974.\u001b[0m\n",
            "\u001b[32m[I 2021-06-03 18:55:51,095]\u001b[0m Trial 31 finished with value: 0.808969128246974 and parameters: {'C': 14.97954203565494}. Best is trial 0 with value: 0.808969128246974.\u001b[0m\n",
            "\u001b[32m[I 2021-06-03 18:55:56,811]\u001b[0m Trial 32 finished with value: 0.808969128246974 and parameters: {'C': 11.547262997561436}. Best is trial 0 with value: 0.808969128246974.\u001b[0m\n",
            "\u001b[32m[I 2021-06-03 18:56:02,533]\u001b[0m Trial 33 finished with value: 0.808969128246974 and parameters: {'C': 12.62332749453929}. Best is trial 0 with value: 0.808969128246974.\u001b[0m\n",
            "\u001b[32m[I 2021-06-03 18:56:08,224]\u001b[0m Trial 34 finished with value: 0.808969128246974 and parameters: {'C': 10.615001383217642}. Best is trial 0 with value: 0.808969128246974.\u001b[0m\n",
            "\u001b[32m[I 2021-06-03 18:56:13,942]\u001b[0m Trial 35 finished with value: 0.808969128246974 and parameters: {'C': 14.981221183604358}. Best is trial 0 with value: 0.808969128246974.\u001b[0m\n",
            "\u001b[32m[I 2021-06-03 18:56:19,652]\u001b[0m Trial 36 finished with value: 0.808969128246974 and parameters: {'C': 12.583610508667201}. Best is trial 0 with value: 0.808969128246974.\u001b[0m\n",
            "\u001b[32m[I 2021-06-03 18:56:25,370]\u001b[0m Trial 37 finished with value: 0.808969128246974 and parameters: {'C': 8.811409869520649}. Best is trial 0 with value: 0.808969128246974.\u001b[0m\n",
            "\u001b[32m[I 2021-06-03 18:56:31,089]\u001b[0m Trial 38 finished with value: 0.8078063375492996 and parameters: {'C': 4.098920460165832}. Best is trial 0 with value: 0.808969128246974.\u001b[0m\n",
            "\u001b[32m[I 2021-06-03 18:56:36,817]\u001b[0m Trial 39 finished with value: 0.8101319189446485 and parameters: {'C': 0.14688020640905108}. Best is trial 39 with value: 0.8101319189446485.\u001b[0m\n",
            "\u001b[32m[I 2021-06-03 18:56:42,513]\u001b[0m Trial 40 finished with value: 0.8101319189446485 and parameters: {'C': 0.3759812704897154}. Best is trial 39 with value: 0.8101319189446485.\u001b[0m\n",
            "\u001b[32m[I 2021-06-03 18:56:48,235]\u001b[0m Trial 41 finished with value: 0.808969128246974 and parameters: {'C': 0.017273695192492333}. Best is trial 39 with value: 0.8101319189446485.\u001b[0m\n",
            "\u001b[32m[I 2021-06-03 18:56:53,959]\u001b[0m Trial 42 finished with value: 0.8101319189446485 and parameters: {'C': 0.17994323702472384}. Best is trial 39 with value: 0.8101319189446485.\u001b[0m\n",
            "\u001b[32m[I 2021-06-03 18:56:59,690]\u001b[0m Trial 43 finished with value: 0.808969128246974 and parameters: {'C': 1.1355230385025348}. Best is trial 39 with value: 0.8101319189446485.\u001b[0m\n",
            "\u001b[32m[I 2021-06-03 18:57:05,408]\u001b[0m Trial 44 finished with value: 0.8101319189446485 and parameters: {'C': 0.1448091468924084}. Best is trial 39 with value: 0.8101319189446485.\u001b[0m\n",
            "\u001b[32m[I 2021-06-03 18:57:11,104]\u001b[0m Trial 45 finished with value: 0.8101319189446485 and parameters: {'C': 0.11780107010882201}. Best is trial 39 with value: 0.8101319189446485.\u001b[0m\n",
            "\u001b[32m[I 2021-06-03 18:57:16,812]\u001b[0m Trial 46 finished with value: 0.8101319189446485 and parameters: {'C': 0.1422040644647967}. Best is trial 39 with value: 0.8101319189446485.\u001b[0m\n",
            "\u001b[32m[I 2021-06-03 18:57:22,548]\u001b[0m Trial 47 finished with value: 0.808969128246974 and parameters: {'C': 2.1470946658274164}. Best is trial 39 with value: 0.8101319189446485.\u001b[0m\n",
            "\u001b[32m[I 2021-06-03 18:57:28,259]\u001b[0m Trial 48 finished with value: 0.808969128246974 and parameters: {'C': 0.6119192236587492}. Best is trial 39 with value: 0.8101319189446485.\u001b[0m\n",
            "\u001b[32m[I 2021-06-03 18:57:33,987]\u001b[0m Trial 49 finished with value: 0.808969128246974 and parameters: {'C': 1.9289757584929044}. Best is trial 39 with value: 0.8101319189446485.\u001b[0m\n"
          ],
          "name": "stderr"
        }
      ]
    },
    {
      "cell_type": "code",
      "metadata": {
        "colab": {
          "base_uri": "https://localhost:8080/"
        },
        "id": "S4rvJP_PNL9g",
        "outputId": "ef4412fa-eea9-49ac-f2dd-b7429bf06e23"
      },
      "source": [
        "print('Accuracy: {}'.format(trial.value))\n",
        "print(\"Best hyperparameters: {}\".format(best_param_stack))"
      ],
      "execution_count": 204,
      "outputs": [
        {
          "output_type": "stream",
          "text": [
            "Accuracy: 0.8101319189446485\n",
            "Best hyperparameters: {'C': 0.14688020640905108}\n"
          ],
          "name": "stdout"
        }
      ]
    },
    {
      "cell_type": "code",
      "metadata": {
        "colab": {
          "base_uri": "https://localhost:8080/"
        },
        "id": "HTlA-QKDJnoY",
        "outputId": "89da571f-a969-41a4-901a-6bd14503705f"
      },
      "source": [
        "estimators = [\n",
        "('lgbm', LGBMClassifier(**best_param_light)),\n",
        "('xgb', XGBClassifier(**best_param_xgb))\n",
        "]\n",
        "lr = LogisticRegression(C = 0.14 )\n",
        "sclf = StackingClassifier(estimators=estimators, final_estimator=lr)\n",
        "sclf.fit(X_res,y_res)"
      ],
      "execution_count": 205,
      "outputs": [
        {
          "output_type": "execute_result",
          "data": {
            "text/plain": [
              "StackingClassifier(cv=None,\n",
              "                   estimators=[('lgbm',\n",
              "                                LGBMClassifier(boosting_type='gbdt',\n",
              "                                               class_weight=None,\n",
              "                                               colsample_bytree=0.7263293197291268,\n",
              "                                               importance_type='split',\n",
              "                                               learning_rate=0.5166296227376406,\n",
              "                                               lr=0.9919250003754279,\n",
              "                                               max_depth=20,\n",
              "                                               min_child_samples=21,\n",
              "                                               min_child_weight=6,\n",
              "                                               min_split_gain=0.0,\n",
              "                                               n_estimators=100, n_jobs=-1,\n",
              "                                               num_leaves=23, objective=None,\n",
              "                                               random...\n",
              "                                              subsample=0.7876754550089806,\n",
              "                                              verbosity=1))],\n",
              "                   final_estimator=LogisticRegression(C=0.14, class_weight=None,\n",
              "                                                      dual=False,\n",
              "                                                      fit_intercept=True,\n",
              "                                                      intercept_scaling=1,\n",
              "                                                      l1_ratio=None,\n",
              "                                                      max_iter=100,\n",
              "                                                      multi_class='auto',\n",
              "                                                      n_jobs=None, penalty='l2',\n",
              "                                                      random_state=None,\n",
              "                                                      solver='lbfgs',\n",
              "                                                      tol=0.0001, verbose=0,\n",
              "                                                      warm_start=False),\n",
              "                   n_jobs=None, passthrough=False, stack_method='auto',\n",
              "                   verbose=0)"
            ]
          },
          "metadata": {
            "tags": []
          },
          "execution_count": 205
        }
      ]
    },
    {
      "cell_type": "code",
      "metadata": {
        "id": "lUFYLusGQEaS"
      },
      "source": [
        "#Making Preds\n",
        "preds = sclf.predict(df_test.drop('Loan_ID',axis=1).values)\n",
        "df_submit = pd.DataFrame({\n",
        "    'Loan_ID': df_test['Loan_ID'],\n",
        "    'Loan_Status': preds\n",
        "})\n",
        "df_submit.to_csv('SubmissionStack.csv',index=None)"
      ],
      "execution_count": 206,
      "outputs": []
    }
  ]
}