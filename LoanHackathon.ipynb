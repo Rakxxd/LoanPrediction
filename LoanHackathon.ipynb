{
  "nbformat": 4,
  "nbformat_minor": 0,
  "metadata": {
    "colab": {
      "name": "LoanHackathon.ipynb",
      "provenance": [],
      "collapsed_sections": [
        "WHF8mRHmGgrU",
        "x-iWhdAeGj_y",
        "H_wVCI6jG0wQ",
        "VrxUbQIKE-Uw",
        "EQxUtQaKDxKu",
        "ttR5COkpDpgg"
      ],
      "toc_visible": true,
      "authorship_tag": "ABX9TyPz8AfZB3Slp3Hh9wfU2Crj",
      "include_colab_link": true
    },
    "kernelspec": {
      "name": "python3",
      "display_name": "Python 3"
    },
    "language_info": {
      "name": "python"
    }
  },
  "cells": [
    {
      "cell_type": "markdown",
      "metadata": {
        "id": "view-in-github",
        "colab_type": "text"
      },
      "source": [
        "<a href=\"https://colab.research.google.com/github/Rakxxd/LoanPrediction/blob/main/LoanHackathon.ipynb\" target=\"_parent\"><img src=\"https://colab.research.google.com/assets/colab-badge.svg\" alt=\"Open In Colab\"/></a>"
      ]
    },
    {
      "cell_type": "markdown",
      "metadata": {
        "id": "Na0vBfQM1rPM"
      },
      "source": [
        "### This notebook contains information about how we can handle imbalanced dataset, also contains hyperparameter tuning for 2 of the most famous kaggle winnng algorithms XGBoost and LightGBM. \n",
        "### This notebook also covers how stacking can be used with these 2 models. This can be a good learning curve for anyone who wants to get high accuracy on datasets.\n",
        "### The data used for this notebook is Loan Prediciton dataset picked from Analytics Vidhya Hackathon."
      ]
    },
    {
      "cell_type": "markdown",
      "metadata": {
        "id": "HQ_j_hPs2JVj"
      },
      "source": [
        "# Importing Required Libraries"
      ]
    },
    {
      "cell_type": "code",
      "metadata": {
        "id": "6ONyAGzkzqmu"
      },
      "source": [
        "import pandas as pd\n",
        "import numpy as np\n",
        "import matplotlib.pyplot as plt\n",
        "import seaborn as sns\n",
        "from pandas_profiling import ProfileReport\n",
        "from sklearn.model_selection import train_test_split, RepeatedKFold, cross_val_score, KFold\n",
        "from lightgbm import LGBMClassifier\n",
        "from xgboost import XGBClassifier\n",
        "from sklearn.ensemble import StackingClassifier"
      ],
      "execution_count": 2,
      "outputs": []
    },
    {
      "cell_type": "markdown",
      "metadata": {
        "id": "WHF8mRHmGgrU"
      },
      "source": [
        "# EDA and Dta Cleaning"
      ]
    },
    {
      "cell_type": "code",
      "metadata": {
        "id": "o6pthZJs6Vcf"
      },
      "source": [
        "df_train = pd.read_csv('/content/train_ctrUa4K.csv')\n",
        "df_test = pd.read_csv('/content/test_lAUu6dG.csv')"
      ],
      "execution_count": 5,
      "outputs": []
    },
    {
      "cell_type": "code",
      "metadata": {
        "colab": {
          "base_uri": "https://localhost:8080/",
          "height": 438
        },
        "id": "pnECxs6K6lLu",
        "outputId": "4164e6a9-7d03-4a5d-a778-0097264c0024"
      },
      "source": [
        "df_train"
      ],
      "execution_count": 6,
      "outputs": [
        {
          "output_type": "execute_result",
          "data": {
            "text/html": [
              "<div>\n",
              "<style scoped>\n",
              "    .dataframe tbody tr th:only-of-type {\n",
              "        vertical-align: middle;\n",
              "    }\n",
              "\n",
              "    .dataframe tbody tr th {\n",
              "        vertical-align: top;\n",
              "    }\n",
              "\n",
              "    .dataframe thead th {\n",
              "        text-align: right;\n",
              "    }\n",
              "</style>\n",
              "<table border=\"1\" class=\"dataframe\">\n",
              "  <thead>\n",
              "    <tr style=\"text-align: right;\">\n",
              "      <th></th>\n",
              "      <th>Loan_ID</th>\n",
              "      <th>Gender</th>\n",
              "      <th>Married</th>\n",
              "      <th>Dependents</th>\n",
              "      <th>Education</th>\n",
              "      <th>Self_Employed</th>\n",
              "      <th>ApplicantIncome</th>\n",
              "      <th>CoapplicantIncome</th>\n",
              "      <th>LoanAmount</th>\n",
              "      <th>Loan_Amount_Term</th>\n",
              "      <th>Credit_History</th>\n",
              "      <th>Property_Area</th>\n",
              "      <th>Loan_Status</th>\n",
              "    </tr>\n",
              "  </thead>\n",
              "  <tbody>\n",
              "    <tr>\n",
              "      <th>0</th>\n",
              "      <td>LP001002</td>\n",
              "      <td>Male</td>\n",
              "      <td>No</td>\n",
              "      <td>0</td>\n",
              "      <td>Graduate</td>\n",
              "      <td>No</td>\n",
              "      <td>5849</td>\n",
              "      <td>0.0</td>\n",
              "      <td>NaN</td>\n",
              "      <td>360.0</td>\n",
              "      <td>1.0</td>\n",
              "      <td>Urban</td>\n",
              "      <td>Y</td>\n",
              "    </tr>\n",
              "    <tr>\n",
              "      <th>1</th>\n",
              "      <td>LP001003</td>\n",
              "      <td>Male</td>\n",
              "      <td>Yes</td>\n",
              "      <td>1</td>\n",
              "      <td>Graduate</td>\n",
              "      <td>No</td>\n",
              "      <td>4583</td>\n",
              "      <td>1508.0</td>\n",
              "      <td>128.0</td>\n",
              "      <td>360.0</td>\n",
              "      <td>1.0</td>\n",
              "      <td>Rural</td>\n",
              "      <td>N</td>\n",
              "    </tr>\n",
              "    <tr>\n",
              "      <th>2</th>\n",
              "      <td>LP001005</td>\n",
              "      <td>Male</td>\n",
              "      <td>Yes</td>\n",
              "      <td>0</td>\n",
              "      <td>Graduate</td>\n",
              "      <td>Yes</td>\n",
              "      <td>3000</td>\n",
              "      <td>0.0</td>\n",
              "      <td>66.0</td>\n",
              "      <td>360.0</td>\n",
              "      <td>1.0</td>\n",
              "      <td>Urban</td>\n",
              "      <td>Y</td>\n",
              "    </tr>\n",
              "    <tr>\n",
              "      <th>3</th>\n",
              "      <td>LP001006</td>\n",
              "      <td>Male</td>\n",
              "      <td>Yes</td>\n",
              "      <td>0</td>\n",
              "      <td>Not Graduate</td>\n",
              "      <td>No</td>\n",
              "      <td>2583</td>\n",
              "      <td>2358.0</td>\n",
              "      <td>120.0</td>\n",
              "      <td>360.0</td>\n",
              "      <td>1.0</td>\n",
              "      <td>Urban</td>\n",
              "      <td>Y</td>\n",
              "    </tr>\n",
              "    <tr>\n",
              "      <th>4</th>\n",
              "      <td>LP001008</td>\n",
              "      <td>Male</td>\n",
              "      <td>No</td>\n",
              "      <td>0</td>\n",
              "      <td>Graduate</td>\n",
              "      <td>No</td>\n",
              "      <td>6000</td>\n",
              "      <td>0.0</td>\n",
              "      <td>141.0</td>\n",
              "      <td>360.0</td>\n",
              "      <td>1.0</td>\n",
              "      <td>Urban</td>\n",
              "      <td>Y</td>\n",
              "    </tr>\n",
              "    <tr>\n",
              "      <th>...</th>\n",
              "      <td>...</td>\n",
              "      <td>...</td>\n",
              "      <td>...</td>\n",
              "      <td>...</td>\n",
              "      <td>...</td>\n",
              "      <td>...</td>\n",
              "      <td>...</td>\n",
              "      <td>...</td>\n",
              "      <td>...</td>\n",
              "      <td>...</td>\n",
              "      <td>...</td>\n",
              "      <td>...</td>\n",
              "      <td>...</td>\n",
              "    </tr>\n",
              "    <tr>\n",
              "      <th>609</th>\n",
              "      <td>LP002978</td>\n",
              "      <td>Female</td>\n",
              "      <td>No</td>\n",
              "      <td>0</td>\n",
              "      <td>Graduate</td>\n",
              "      <td>No</td>\n",
              "      <td>2900</td>\n",
              "      <td>0.0</td>\n",
              "      <td>71.0</td>\n",
              "      <td>360.0</td>\n",
              "      <td>1.0</td>\n",
              "      <td>Rural</td>\n",
              "      <td>Y</td>\n",
              "    </tr>\n",
              "    <tr>\n",
              "      <th>610</th>\n",
              "      <td>LP002979</td>\n",
              "      <td>Male</td>\n",
              "      <td>Yes</td>\n",
              "      <td>3+</td>\n",
              "      <td>Graduate</td>\n",
              "      <td>No</td>\n",
              "      <td>4106</td>\n",
              "      <td>0.0</td>\n",
              "      <td>40.0</td>\n",
              "      <td>180.0</td>\n",
              "      <td>1.0</td>\n",
              "      <td>Rural</td>\n",
              "      <td>Y</td>\n",
              "    </tr>\n",
              "    <tr>\n",
              "      <th>611</th>\n",
              "      <td>LP002983</td>\n",
              "      <td>Male</td>\n",
              "      <td>Yes</td>\n",
              "      <td>1</td>\n",
              "      <td>Graduate</td>\n",
              "      <td>No</td>\n",
              "      <td>8072</td>\n",
              "      <td>240.0</td>\n",
              "      <td>253.0</td>\n",
              "      <td>360.0</td>\n",
              "      <td>1.0</td>\n",
              "      <td>Urban</td>\n",
              "      <td>Y</td>\n",
              "    </tr>\n",
              "    <tr>\n",
              "      <th>612</th>\n",
              "      <td>LP002984</td>\n",
              "      <td>Male</td>\n",
              "      <td>Yes</td>\n",
              "      <td>2</td>\n",
              "      <td>Graduate</td>\n",
              "      <td>No</td>\n",
              "      <td>7583</td>\n",
              "      <td>0.0</td>\n",
              "      <td>187.0</td>\n",
              "      <td>360.0</td>\n",
              "      <td>1.0</td>\n",
              "      <td>Urban</td>\n",
              "      <td>Y</td>\n",
              "    </tr>\n",
              "    <tr>\n",
              "      <th>613</th>\n",
              "      <td>LP002990</td>\n",
              "      <td>Female</td>\n",
              "      <td>No</td>\n",
              "      <td>0</td>\n",
              "      <td>Graduate</td>\n",
              "      <td>Yes</td>\n",
              "      <td>4583</td>\n",
              "      <td>0.0</td>\n",
              "      <td>133.0</td>\n",
              "      <td>360.0</td>\n",
              "      <td>0.0</td>\n",
              "      <td>Semiurban</td>\n",
              "      <td>N</td>\n",
              "    </tr>\n",
              "  </tbody>\n",
              "</table>\n",
              "<p>614 rows × 13 columns</p>\n",
              "</div>"
            ],
            "text/plain": [
              "      Loan_ID  Gender Married  ... Credit_History Property_Area Loan_Status\n",
              "0    LP001002    Male      No  ...            1.0         Urban           Y\n",
              "1    LP001003    Male     Yes  ...            1.0         Rural           N\n",
              "2    LP001005    Male     Yes  ...            1.0         Urban           Y\n",
              "3    LP001006    Male     Yes  ...            1.0         Urban           Y\n",
              "4    LP001008    Male      No  ...            1.0         Urban           Y\n",
              "..        ...     ...     ...  ...            ...           ...         ...\n",
              "609  LP002978  Female      No  ...            1.0         Rural           Y\n",
              "610  LP002979    Male     Yes  ...            1.0         Rural           Y\n",
              "611  LP002983    Male     Yes  ...            1.0         Urban           Y\n",
              "612  LP002984    Male     Yes  ...            1.0         Urban           Y\n",
              "613  LP002990  Female      No  ...            0.0     Semiurban           N\n",
              "\n",
              "[614 rows x 13 columns]"
            ]
          },
          "metadata": {
            "tags": []
          },
          "execution_count": 6
        }
      ]
    },
    {
      "cell_type": "code",
      "metadata": {
        "colab": {
          "base_uri": "https://localhost:8080/"
        },
        "id": "NaMwg5HJ6mtu",
        "outputId": "3dfe23ee-bd70-4405-d7f2-00ff41c45fc0"
      },
      "source": [
        "df_train.info()"
      ],
      "execution_count": 7,
      "outputs": [
        {
          "output_type": "stream",
          "text": [
            "<class 'pandas.core.frame.DataFrame'>\n",
            "RangeIndex: 614 entries, 0 to 613\n",
            "Data columns (total 13 columns):\n",
            " #   Column             Non-Null Count  Dtype  \n",
            "---  ------             --------------  -----  \n",
            " 0   Loan_ID            614 non-null    object \n",
            " 1   Gender             601 non-null    object \n",
            " 2   Married            611 non-null    object \n",
            " 3   Dependents         599 non-null    object \n",
            " 4   Education          614 non-null    object \n",
            " 5   Self_Employed      582 non-null    object \n",
            " 6   ApplicantIncome    614 non-null    int64  \n",
            " 7   CoapplicantIncome  614 non-null    float64\n",
            " 8   LoanAmount         592 non-null    float64\n",
            " 9   Loan_Amount_Term   600 non-null    float64\n",
            " 10  Credit_History     564 non-null    float64\n",
            " 11  Property_Area      614 non-null    object \n",
            " 12  Loan_Status        614 non-null    object \n",
            "dtypes: float64(4), int64(1), object(8)\n",
            "memory usage: 62.5+ KB\n"
          ],
          "name": "stdout"
        }
      ]
    },
    {
      "cell_type": "code",
      "metadata": {
        "colab": {
          "base_uri": "https://localhost:8080/"
        },
        "id": "hu9n-i7J7HtF",
        "outputId": "113f621d-0edd-46ae-8414-ad2319b00cd6"
      },
      "source": [
        "df_train.isnull().sum()"
      ],
      "execution_count": 8,
      "outputs": [
        {
          "output_type": "execute_result",
          "data": {
            "text/plain": [
              "Loan_ID               0\n",
              "Gender               13\n",
              "Married               3\n",
              "Dependents           15\n",
              "Education             0\n",
              "Self_Employed        32\n",
              "ApplicantIncome       0\n",
              "CoapplicantIncome     0\n",
              "LoanAmount           22\n",
              "Loan_Amount_Term     14\n",
              "Credit_History       50\n",
              "Property_Area         0\n",
              "Loan_Status           0\n",
              "dtype: int64"
            ]
          },
          "metadata": {
            "tags": []
          },
          "execution_count": 8
        }
      ]
    },
    {
      "cell_type": "code",
      "metadata": {
        "colab": {
          "base_uri": "https://localhost:8080/"
        },
        "id": "9b73Ecyf8YCw",
        "outputId": "e112dded-9059-4176-eb4b-46a7864af2aa"
      },
      "source": [
        "df_train['Gender'].value_counts()"
      ],
      "execution_count": 9,
      "outputs": [
        {
          "output_type": "execute_result",
          "data": {
            "text/plain": [
              "Male      489\n",
              "Female    112\n",
              "Name: Gender, dtype: int64"
            ]
          },
          "metadata": {
            "tags": []
          },
          "execution_count": 9
        }
      ]
    },
    {
      "cell_type": "code",
      "metadata": {
        "colab": {
          "base_uri": "https://localhost:8080/"
        },
        "id": "03CDQwbz8lEc",
        "outputId": "5de84685-563a-4da2-db28-c932b811a552"
      },
      "source": [
        "df_test.isnull().sum()"
      ],
      "execution_count": 10,
      "outputs": [
        {
          "output_type": "execute_result",
          "data": {
            "text/plain": [
              "Loan_ID               0\n",
              "Gender               11\n",
              "Married               0\n",
              "Dependents           10\n",
              "Education             0\n",
              "Self_Employed        23\n",
              "ApplicantIncome       0\n",
              "CoapplicantIncome     0\n",
              "LoanAmount            5\n",
              "Loan_Amount_Term      6\n",
              "Credit_History       29\n",
              "Property_Area         0\n",
              "dtype: int64"
            ]
          },
          "metadata": {
            "tags": []
          },
          "execution_count": 10
        }
      ]
    },
    {
      "cell_type": "code",
      "metadata": {
        "id": "FW8-1VEn9mCu"
      },
      "source": [
        "sns.countplot(x=df_train['Credit_History'],hue = df_train['Loan_Status'])\n",
        "plt.show()"
      ],
      "execution_count": 11,
      "outputs": []
    },
    {
      "cell_type": "code",
      "metadata": {
        "id": "TW-ASLDW99S_"
      },
      "source": [
        "df_train['Married'].value_counts()"
      ],
      "execution_count": null,
      "outputs": []
    },
    {
      "cell_type": "code",
      "metadata": {
        "id": "f-4533tX9FFZ"
      },
      "source": [
        "sns.countplot(x=df_train['Married'],hue = df_train['Loan_Status'])\n",
        "plt.show()"
      ],
      "execution_count": 13,
      "outputs": []
    },
    {
      "cell_type": "code",
      "metadata": {
        "id": "z31qUPgW-pjd"
      },
      "source": [
        "df_train['Gender'].value_counts()"
      ],
      "execution_count": null,
      "outputs": []
    },
    {
      "cell_type": "code",
      "metadata": {
        "id": "U112vKF6ApTU"
      },
      "source": [
        "sns.countplot(x=df_train['Self_Employed'],hue = df_train['Loan_Status'])"
      ],
      "execution_count": null,
      "outputs": []
    },
    {
      "cell_type": "code",
      "metadata": {
        "id": "LhyJ1Al3AiO5"
      },
      "source": [
        "df_train['Dependents'].value_counts()"
      ],
      "execution_count": null,
      "outputs": []
    },
    {
      "cell_type": "code",
      "metadata": {
        "id": "bgwX95fVA75t"
      },
      "source": [
        "#Interesting\n",
        "df_train.groupby(['Dependents','Married'])['Married'].count()"
      ],
      "execution_count": null,
      "outputs": []
    },
    {
      "cell_type": "code",
      "metadata": {
        "id": "r8Wo7UX1BqKW"
      },
      "source": [
        "sns.countplot(x=df_train['Loan_Amount_Term'],hue = df_train['Loan_Status'])"
      ],
      "execution_count": null,
      "outputs": []
    },
    {
      "cell_type": "code",
      "metadata": {
        "id": "S2_-0ZscEnj-"
      },
      "source": [
        "sns.boxplot(y=df_train['LoanAmount'])"
      ],
      "execution_count": null,
      "outputs": []
    },
    {
      "cell_type": "markdown",
      "metadata": {
        "id": "x-iWhdAeGj_y"
      },
      "source": [
        "# Feature Engineering"
      ]
    },
    {
      "cell_type": "code",
      "metadata": {
        "id": "eJphrbBvZzot"
      },
      "source": [
        "df_train['Credit_History'].fillna(-1,inplace=True)\n",
        "df_test['Credit_History'].fillna(-1,inplace=True)\n",
        "\n",
        "df_train['Married'].fillna(df_train['Married'].mode()[0],inplace=True)\n",
        "df_test['Married'].fillna(df_test['Married'].mode()[0],inplace=True)\n",
        "\n",
        "df_train['Gender'].fillna(df_train['Gender'].mode()[0],inplace=True)\n",
        "df_test['Gender'].fillna(df_test['Gender'].mode()[0],inplace=True)\n",
        "\n",
        "df_train['Self_Employed'].fillna('NA',inplace=True)\n",
        "df_test['Self_Employed'].fillna('NA',inplace=True)\n",
        "\n",
        "df_train['Dependents'].fillna(df_train['Dependents'].mode()[0],inplace=True)\n",
        "df_test['Dependents'].fillna(df_test['Dependents'].mode()[0],inplace=True)\n",
        "\n",
        "\n",
        "df_train['Loan_Amount_Term'].fillna(df_train['Loan_Amount_Term'].mode()[0],inplace=True)\n",
        "df_test['Loan_Amount_Term'].fillna(df_test['Loan_Amount_Term'].mode()[0],inplace=True)\n",
        "\n",
        "df_train['LoanAmount'].fillna(df_train['LoanAmount'].median(),inplace=True)\n",
        "df_test['LoanAmount'].fillna(df_test['LoanAmount'].median(),inplace=True)"
      ],
      "execution_count": 20,
      "outputs": []
    },
    {
      "cell_type": "code",
      "metadata": {
        "id": "kSoOjtTfBzCj"
      },
      "source": [
        "#Some terms are present in test for loan amount term which are not in train, we will round them to nearest\n",
        "arr = np.array(df_train['Loan_Amount_Term'].value_counts().sort_values().index)\n",
        "df_test['Loan_Amount_Term'] = df_test['Loan_Amount_Term'].apply(lambda x: x if x in arr else arr[arr>x].min())"
      ],
      "execution_count": 21,
      "outputs": []
    },
    {
      "cell_type": "code",
      "metadata": {
        "id": "HGEkHxurFVNe"
      },
      "source": [
        "df_train.info()"
      ],
      "execution_count": null,
      "outputs": []
    },
    {
      "cell_type": "code",
      "metadata": {
        "id": "iuP7wEzuHl0P"
      },
      "source": [
        "from sklearn.preprocessing import LabelEncoder\n",
        "le = LabelEncoder()\n",
        "vars = ['Gender','Married','Dependents','Education','Self_Employed','Loan_Amount_Term','Credit_History','Property_Area']\n",
        "df_train['Dependents'].map({'3+':'3','0':'0','1':'1','2':'2'})\n",
        "df_test['Dependents'].map({'3+':'3','0':'0','1':'1','2':'2'})"
      ],
      "execution_count": null,
      "outputs": []
    },
    {
      "cell_type": "code",
      "metadata": {
        "id": "etHV4oNLQHk2"
      },
      "source": [
        "for name in vars:\n",
        "  df_train[name] = le.fit_transform(df_train[name])\n",
        "  df_test[name] = le.transform(df_test[name])"
      ],
      "execution_count": 25,
      "outputs": []
    },
    {
      "cell_type": "code",
      "metadata": {
        "id": "KYD71J6pk4_h"
      },
      "source": [
        "df_train.drop('Loan_ID',inplace=True,axis=1)"
      ],
      "execution_count": 26,
      "outputs": []
    },
    {
      "cell_type": "code",
      "metadata": {
        "id": "cvliX0PTk7Mu"
      },
      "source": [
        "numericals = ['ApplicantIncome','CoapplicantIncome','LoanAmount']\n",
        "for name in numericals:\n",
        "  sns.histplot(x=df_train[name])\n",
        "  plt.show()\n",
        "  sns.boxplot(y=df_train[name])\n",
        "  plt.show()"
      ],
      "execution_count": 27,
      "outputs": []
    },
    {
      "cell_type": "code",
      "metadata": {
        "id": "rUfm_GHYl_rf"
      },
      "source": [
        "df_train['CoappIncIsnull'] = np.where(df_train['CoapplicantIncome'] == 0 , 1, 0)\n",
        "df_test['CoappIncIsnull'] = np.where(df_test['CoapplicantIncome'] == 0 , 1, 0)"
      ],
      "execution_count": 28,
      "outputs": []
    },
    {
      "cell_type": "code",
      "metadata": {
        "id": "jaDOld4_md5g"
      },
      "source": [
        "le = LabelEncoder()\n",
        "df_train['CoappIncIsnull'] = le.fit_transform(df_train['CoappIncIsnull'])\n",
        "df_test['CoappIncIsnull'] = le.transform(df_test['CoappIncIsnull'])"
      ],
      "execution_count": 29,
      "outputs": []
    },
    {
      "cell_type": "code",
      "metadata": {
        "id": "BXszuhEonpba"
      },
      "source": [
        "df_train['ApplicantIncome'] = np.log1p(df_train['ApplicantIncome'])\n",
        "df_test['ApplicantIncome'] = np.log1p(df_test['ApplicantIncome'])\n",
        "\n",
        "df_train['CoapplicantIncome'] = np.log1p(df_train['CoapplicantIncome'])\n",
        "df_test['CoapplicantIncome'] = np.log1p(df_test['CoapplicantIncome'])\n",
        "\n",
        "df_train['LoanAmount'] = np.log1p(df_train['LoanAmount'])\n",
        "df_test['LoanAmount'] = np.log1p(df_test['LoanAmount'])"
      ],
      "execution_count": 30,
      "outputs": []
    },
    {
      "cell_type": "code",
      "metadata": {
        "id": "QRYmzDkgotGD"
      },
      "source": [
        "X = df_train.drop('Loan_Status',axis=1)\n",
        "y = df_train['Loan_Status']"
      ],
      "execution_count": 31,
      "outputs": []
    },
    {
      "cell_type": "markdown",
      "metadata": {
        "id": "H_wVCI6jG0wQ"
      },
      "source": [
        "# Handling Imbalance"
      ]
    },
    {
      "cell_type": "code",
      "metadata": {
        "id": "chBDlyNwr5FA"
      },
      "source": [
        "#We have an imbalance in class we can generate synthetic samples from it.\n",
        "y.value_counts()/len(y)"
      ],
      "execution_count": null,
      "outputs": []
    },
    {
      "cell_type": "code",
      "metadata": {
        "id": "Fsr3DBe-r81X"
      },
      "source": [
        "from imblearn.over_sampling import ADASYN"
      ],
      "execution_count": 33,
      "outputs": []
    },
    {
      "cell_type": "code",
      "metadata": {
        "id": "DSWVMfAgtxBD"
      },
      "source": [
        "ada = ADASYN(sampling_strategy='minority',random_state=42,n_neighbors=5)\n",
        "X_res,y_res = ada.fit_resample(X,y)"
      ],
      "execution_count": null,
      "outputs": []
    },
    {
      "cell_type": "markdown",
      "metadata": {
        "id": "VrxUbQIKE-Uw"
      },
      "source": [
        "# Trying out Base Models"
      ]
    },
    {
      "cell_type": "code",
      "metadata": {
        "id": "cQVc2ADQi2e0"
      },
      "source": [
        "# Machine Learning\n",
        "# Utils\n",
        "from sklearn.model_selection import cross_val_score, RepeatedStratifiedKFold, StratifiedKFold\n",
        "from sklearn import preprocessing\n",
        "#Feature Selection\n",
        "from sklearn.feature_selection import chi2, f_classif, f_regression, mutual_info_classif\n",
        "from sklearn.feature_selection import mutual_info_regression, SelectKBest, SelectPercentile\n",
        "from sklearn.feature_selection import VarianceThreshold\n",
        "# Models\n",
        "from sklearn.naive_bayes import GaussianNB\n",
        "from sklearn.discriminant_analysis import QuadraticDiscriminantAnalysis\n",
        "from sklearn.linear_model import LogisticRegression\n",
        "from sklearn.ensemble import RandomForestClassifier\n",
        "from lightgbm import LGBMClassifier\n",
        "from imblearn.ensemble import BalancedBaggingClassifier, BalancedRandomForestClassifier\n",
        "from sklearn.tree import DecisionTreeClassifier\n",
        "from sklearn.svm import SVC\n",
        "from sklearn.svm import LinearSVC\n",
        "from sklearn.neighbors import KNeighborsClassifier\n",
        "# Unsupervised Models\n",
        "from sklearn.cluster import KMeans\n",
        "#Metrics\n",
        "from sklearn.metrics import roc_auc_score\n",
        "from xgboost import XGBClassifier"
      ],
      "execution_count": 35,
      "outputs": []
    },
    {
      "cell_type": "code",
      "metadata": {
        "id": "rFQoUxR6iWMK"
      },
      "source": [
        "def get_models():\n",
        "    models = dict()\n",
        "    models['gauss'] = GaussianNB()\n",
        "    models['QDA'] = QuadraticDiscriminantAnalysis()\n",
        "    models['lr'] = LogisticRegression(solver='liblinear')\n",
        "    models['Dtree'] = DecisionTreeClassifier(random_state=42)\n",
        "    models['linearSVC'] = SVC(kernel=\"linear\", C=0.025)\n",
        "    models['KernelSVC'] = SVC(gamma=2, C=1)\n",
        "    models['neigh'] = KNeighborsClassifier(n_neighbors=5)\n",
        "    models['rf'] = RandomForestClassifier(random_state=42)\n",
        "    models['lgbm'] = LGBMClassifier(metric='binary_logloss',\n",
        "                                    objective='binary',\n",
        "                                    reg_alpha=2.945525898790487,\n",
        "                                    max_depth=13,\n",
        "                                    num_leaves=34,\n",
        "                                    seed=42,\n",
        "                                    learning_rate=0.0037601596530868493,\n",
        "                                    n_estimators=1913)\n",
        "    models['xgboost'] = XGBClassifier()\n",
        "    models['BalBag'] = BalancedBaggingClassifier()\n",
        "    #models['BalRF'] = BalancedRandomForestClassifier()\n",
        "    \n",
        "    return models\n",
        "\n",
        "def evaluate_model(model, X, y):\n",
        "    cv = RepeatedStratifiedKFold(n_splits=3, n_repeats=3, random_state=42)\n",
        "    scores = cross_val_score(model, X, y, scoring='accuracy', cv=cv,\n",
        "                             n_jobs=-1, error_score='raise')\n",
        "    return scores"
      ],
      "execution_count": 38,
      "outputs": []
    },
    {
      "cell_type": "code",
      "metadata": {
        "id": "wdT8f14UiXJS"
      },
      "source": [
        "%%time\n",
        "\n",
        "X = X_res\n",
        "y = y_res\n",
        "\n",
        "models = get_models()\n",
        "results = []\n",
        "names = []\n",
        "\n",
        "for name, model in models.items():\n",
        "    scores = evaluate_model(model, X, y)\n",
        "    results.append(scores)\n",
        "    names.append(name)\n",
        "    print(f'{name} : {round(np.mean(scores),6)} ({round(np.std(scores),3)})')"
      ],
      "execution_count": null,
      "outputs": []
    },
    {
      "cell_type": "markdown",
      "metadata": {
        "id": "EQxUtQaKDxKu"
      },
      "source": [
        "# Install Optuna"
      ]
    },
    {
      "cell_type": "code",
      "metadata": {
        "id": "Id-xl6NewXgb"
      },
      "source": [
        "!pip install optuna\n",
        "import optuna"
      ],
      "execution_count": null,
      "outputs": []
    },
    {
      "cell_type": "markdown",
      "metadata": {
        "id": "ttR5COkpDpgg"
      },
      "source": [
        "# LightGBM Tuning"
      ]
    },
    {
      "cell_type": "code",
      "metadata": {
        "id": "wPWkCKq7qJ_k"
      },
      "source": [
        "def objective(trial):\n",
        "  params = {\n",
        "    'max_depth':trial.suggest_int(\"max_depth\", 5, 20),\n",
        "    'min_child_samples':trial.suggest_int(\"min_child_samples\", 10, 30),\n",
        "    'min_child_weight':trial.suggest_int('min_child_weight',1,10),\n",
        "    'num_leaves': trial.suggest_int('num_leaves',20,40),\n",
        "    \"reg_lambda\": trial.suggest_uniform(\"lr\", 1e-5, 10),\n",
        "    \"reg_alpha\": trial.suggest_uniform(\"lr\", 1e-5, 10),\n",
        "    'colsample_bytree': trial.suggest_float(\"colsample_bytree\",0,1),\n",
        "    'subsample': trial.suggest_float(\"subsample\",0,1),\n",
        "    \"learning_rate\": trial.suggest_uniform(\"learning_rate\", 1e-5, 10)\n",
        "    }\n",
        "  clf = LGBMClassifier(**params)\n",
        "  \n",
        "  return cross_val_score(clf, X_res, y_res,scoring='accuracy',n_jobs=-1, cv=3).mean()\n",
        "  \n"
      ],
      "execution_count": 183,
      "outputs": []
    },
    {
      "cell_type": "code",
      "metadata": {
        "id": "fXUgYFVzu_lj"
      },
      "source": [
        "study = optuna.create_study(direction='maximize')\n",
        "study.optimize(objective, n_trials=200)\n",
        "trial = study.best_trial\n",
        "best_param_light = study.best_params"
      ],
      "execution_count": null,
      "outputs": []
    },
    {
      "cell_type": "code",
      "metadata": {
        "id": "achtAGM4HiBk"
      },
      "source": [
        "print('Accuracy: {}'.format(trial.value))\n",
        "print(\"Best hyperparameters: {}\".format(best_param_light))"
      ],
      "execution_count": null,
      "outputs": []
    },
    {
      "cell_type": "code",
      "metadata": {
        "id": "VeYwPBoyx6uU"
      },
      "source": [
        "lgbClf = LGBMClassifier(**best_param_light)\n",
        "lgbClf.fit(X_res,y_res)"
      ],
      "execution_count": null,
      "outputs": []
    },
    {
      "cell_type": "code",
      "metadata": {
        "id": "Fmd6jb4CEbTc"
      },
      "source": [
        "#Making Preds\n",
        "preds = lgbClf.predict(df_test.drop('Loan_ID',axis=1).values)\n",
        "df_submit = pd.DataFrame({\n",
        "    'Loan_ID': df_test['Loan_ID'],\n",
        "    'Loan_Status': preds\n",
        "})\n",
        "df_submit.to_csv('SubmissionLgbm.csv',index=None)"
      ],
      "execution_count": 188,
      "outputs": []
    },
    {
      "cell_type": "markdown",
      "metadata": {
        "id": "knZ5QAE0CNL1"
      },
      "source": [
        "# XGBoost Tuning"
      ]
    },
    {
      "cell_type": "code",
      "metadata": {
        "id": "6arZcHgPCP69"
      },
      "source": [
        "def objective(trial):\n",
        "  params = {\n",
        "        'n_estimators': trial.suggest_int('n_estimators', 50, 500),\n",
        "        'max_depth': trial.suggest_int('max_depth', 3, 15),\n",
        "        'learning_rate': trial.suggest_uniform('learning_rate', 1e-1, 10),\n",
        "        'subsample': trial.suggest_uniform('subsample', 0.50, 1),\n",
        "        'colsample_bytree': trial.suggest_uniform('colsample_bytree', 0.50, 1),\n",
        "        'gamma': trial.suggest_int('gamma', 0,10),\n",
        "        \"reg_lambda\": trial.suggest_uniform(\"lr\", 1e-2, 10),\n",
        "        \"reg_alpha\": trial.suggest_uniform(\"lr\", 1e-2, 10),\n",
        "        'objective':'binary:logistic'       \n",
        "       }\n",
        "  clf = XGBClassifier(**params)\n",
        "\n",
        "  return cross_val_score(clf,X_res,y_res,scoring='accuracy',cv=3,n_jobs=-1).mean()"
      ],
      "execution_count": 189,
      "outputs": []
    },
    {
      "cell_type": "code",
      "metadata": {
        "id": "NR2JKEs4DQpd"
      },
      "source": [
        "study = optuna.create_study(direction='maximize')\n",
        "study.optimize(objective, n_trials=200)\n",
        "trial = study.best_trial\n",
        "best_param_xgb = study.best_params"
      ],
      "execution_count": null,
      "outputs": []
    },
    {
      "cell_type": "code",
      "metadata": {
        "id": "3Uq1AB1dExM3"
      },
      "source": [
        "print('Accuracy: {}'.format(trial.value))\n",
        "print(\"Best hyperparameters: {}\".format(best_param_xgb))"
      ],
      "execution_count": null,
      "outputs": []
    },
    {
      "cell_type": "code",
      "metadata": {
        "id": "h7LzqwNkDWkr"
      },
      "source": [
        "xgbClf = XGBClassifier(**best_param_xgb)\n",
        "xgbClf.fit(X_res,y_res)"
      ],
      "execution_count": null,
      "outputs": []
    },
    {
      "cell_type": "code",
      "metadata": {
        "id": "CkXX26-EDhUO"
      },
      "source": [
        "#Making Preds\n",
        "preds = xgbClf.predict(df_test.drop('Loan_ID',axis=1).values)\n",
        "df_submit = pd.DataFrame({\n",
        "    'Loan_ID': df_test['Loan_ID'],\n",
        "    'Loan_Status': preds\n",
        "})\n",
        "df_submit.to_csv('SubmissionXgb.csv',index=None)"
      ],
      "execution_count": 193,
      "outputs": []
    },
    {
      "cell_type": "markdown",
      "metadata": {
        "id": "YeEGjtayFblf"
      },
      "source": [
        "# Model Stack"
      ]
    },
    {
      "cell_type": "code",
      "metadata": {
        "id": "foAu3576GNKi"
      },
      "source": [
        "def objective(trial):\n",
        "  estimators = [\n",
        "  ('lgbm', LGBMClassifier(**best_param_light)),\n",
        "  ('xgb', XGBClassifier(**best_param_xgb))\n",
        "  ]\n",
        "\n",
        "  params = {\n",
        "      'C':trial.suggest_uniform('C',1e-5,15)\n",
        "  }\n",
        "\n",
        "  lr = LogisticRegression(**params)\n",
        "  sclf = StackingClassifier(estimators=estimators, final_estimator=lr)\n",
        "  sclf.fit(X_res,y_res)\n",
        "  cv_score = cross_val_score(sclf, X_res,y_res,scoring=\"accuracy\",cv =5).mean()\n",
        "  return cv_score"
      ],
      "execution_count": 202,
      "outputs": []
    },
    {
      "cell_type": "code",
      "metadata": {
        "id": "8Fkcc0LiNENU"
      },
      "source": [
        "study = optuna.create_study(direction='maximize')\n",
        "study.optimize(objective, n_trials=50)\n",
        "trial = study.best_trial\n",
        "best_param_stack = study.best_params"
      ],
      "execution_count": null,
      "outputs": []
    },
    {
      "cell_type": "code",
      "metadata": {
        "id": "S4rvJP_PNL9g"
      },
      "source": [
        "print('Accuracy: {}'.format(trial.value))\n",
        "print(\"Best hyperparameters: {}\".format(best_param_stack))"
      ],
      "execution_count": null,
      "outputs": []
    },
    {
      "cell_type": "code",
      "metadata": {
        "id": "HTlA-QKDJnoY"
      },
      "source": [
        "estimators = [\n",
        "('lgbm', LGBMClassifier(**best_param_light)),\n",
        "('xgb', XGBClassifier(**best_param_xgb))\n",
        "]\n",
        "lr = LogisticRegression(C = 0.14 )\n",
        "sclf = StackingClassifier(estimators=estimators, final_estimator=lr)\n",
        "sclf.fit(X_res,y_res)"
      ],
      "execution_count": null,
      "outputs": []
    },
    {
      "cell_type": "code",
      "metadata": {
        "id": "lUFYLusGQEaS"
      },
      "source": [
        "#Making Preds\n",
        "preds = sclf.predict(df_test.drop('Loan_ID',axis=1).values)\n",
        "df_submit = pd.DataFrame({\n",
        "    'Loan_ID': df_test['Loan_ID'],\n",
        "    'Loan_Status': preds\n",
        "})\n",
        "df_submit.to_csv('SubmissionStack.csv',index=None)"
      ],
      "execution_count": 206,
      "outputs": []
    }
  ]
}